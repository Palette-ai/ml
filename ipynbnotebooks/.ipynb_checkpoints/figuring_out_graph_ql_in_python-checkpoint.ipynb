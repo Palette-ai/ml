{
 "cells": [
  {
   "cell_type": "code",
   "execution_count": 5,
   "metadata": {},
   "outputs": [],
   "source": [
    "import requests\n",
    "import json\n",
    "import pandas as pd"
   ]
  },
  {
   "cell_type": "code",
   "execution_count": 6,
   "metadata": {},
   "outputs": [],
   "source": [
    "user_query = \"\"\"query  {\n",
    "              userById (_id:  \"607f2bbfc2799a00154554de\") {\n",
    "                name\n",
    "                _id\n",
    "                createdAt\n",
    "          }\n",
    "    }\"\"\""
   ]
  },
  {
   "cell_type": "code",
   "execution_count": 7,
   "metadata": {},
   "outputs": [
    {
     "name": "stdout",
     "output_type": "stream",
     "text": [
      "200\n",
      "{\"data\":{\"userById\":{\"name\":\"Connor\",\"_id\":\"607f2bbfc2799a00154554de\",\"createdAt\":\"2021-04-20T19:30:07.015Z\"}},\"extensions\":{\"tracing\":{\"version\":1,\"startTime\":\"2021-04-29T19:07:20.070Z\",\"endTime\":\"2021-04-29T19:07:20.087Z\",\"duration\":16644050,\"execution\":{\"resolvers\":[{\"path\":[\"userById\"],\"parentType\":\"Query\",\"fieldName\":\"userById\",\"returnType\":\"User\",\"startOffset\":8385279,\"duration\":7754608},{\"path\":[\"userById\",\"name\"],\"parentType\":\"User\",\"fieldName\":\"name\",\"returnType\":\"String!\",\"startOffset\":16248828,\"duration\":76068},{\"path\":[\"userById\",\"_id\"],\"parentType\":\"User\",\"fieldName\":\"_id\",\"returnType\":\"MongoID!\",\"startOffset\":16361069,\"duration\":47297},{\"path\":[\"userById\",\"createdAt\"],\"parentType\":\"User\",\"fieldName\":\"createdAt\",\"returnType\":\"Date\",\"startOffset\":16455603,\"duration\":57218}]}}}}\n",
      "\n"
     ]
    }
   ],
   "source": [
    "url = 'https://palette-backend.herokuapp.com/graphql'\n",
    "r = requests.post(url, json={'query': user_query})\n",
    "print(r.status_code)\n",
    "print(r.text)"
   ]
  },
  {
   "cell_type": "code",
   "execution_count": 8,
   "metadata": {},
   "outputs": [],
   "source": [
    "json_data = json.loads(r.text)"
   ]
  },
  {
   "cell_type": "code",
   "execution_count": 9,
   "metadata": {},
   "outputs": [
    {
     "name": "stdout",
     "output_type": "stream",
     "text": [
      "{'name': 'Connor', '_id': '607f2bbfc2799a00154554de', 'createdAt': '2021-04-20T19:30:07.015Z'}\n"
     ]
    }
   ],
   "source": [
    "print(json_data['data']['userById'])\n",
    "\n",
    "user_id = json_data['data']['userById']['_id']\n"
   ]
  },
  {
   "cell_type": "code",
   "execution_count": null,
   "metadata": {},
   "outputs": [],
   "source": []
  },
  {
   "cell_type": "code",
   "execution_count": 10,
   "metadata": {},
   "outputs": [
    {
     "ename": "NameError",
     "evalue": "name 'df' is not defined",
     "output_type": "error",
     "traceback": [
      "\u001b[0;31m---------------------------------------------------------------------------\u001b[0m",
      "\u001b[0;31mNameError\u001b[0m                                 Traceback (most recent call last)",
      "\u001b[0;32m<ipython-input-10-89148ddff993>\u001b[0m in \u001b[0;36m<module>\u001b[0;34m\u001b[0m\n\u001b[0;32m----> 1\u001b[0;31m \u001b[0mdf\u001b[0m\u001b[0;34m.\u001b[0m\u001b[0mhead\u001b[0m\u001b[0;34m\u001b[0m\u001b[0;34m\u001b[0m\u001b[0m\n\u001b[0m",
      "\u001b[0;31mNameError\u001b[0m: name 'df' is not defined"
     ]
    }
   ],
   "source": [
    "df.head"
   ]
  },
  {
   "cell_type": "code",
   "execution_count": 11,
   "metadata": {},
   "outputs": [],
   "source": [
    "dish_rating_query = \"\"\"query  {\n",
    "\t\tdishRatingMany (filter: {user_id: \"607f2bbfc2799a00154554de\"}) {\n",
    "\t\t\t_id\n",
    "\t\t\tdish_id\n",
    "\t\t\tuser { name }\n",
    "\t\t\trating\n",
    "\t\t\treview\n",
    "\t\t\tcreatedAt\n",
    "\t\t\tdish { \n",
    "\t\t\t\tdish_name \n",
    "\t\t\t\trestaurant { name }\n",
    "\t\t\t\t}\n",
    "\t\t}\n",
    "\t}\"\"\""
   ]
  },
  {
   "cell_type": "code",
   "execution_count": 12,
   "metadata": {},
   "outputs": [
    {
     "name": "stdout",
     "output_type": "stream",
     "text": [
      "200\n",
      "{\"data\":{\"dishRatingMany\":[{\"_id\":\"607f2f75914a7b001549af49\",\"dish_id\":\"603ab53b88dbe9c89607dfa7\",\"user\":{\"name\":\"Connor\"},\"rating\":4,\"review\":\"Pretty god,  could use salt\",\"createdAt\":\"2021-04-20T19:45:57.321Z\",\"dish\":{\"dish_name\":\"Panang Curry\",\"restaurant\":{\"name\":\"Tuk Tuk Thai Cuisine\"}}}]},\"extensions\":{\"tracing\":{\"version\":1,\"startTime\":\"2021-04-29T19:07:36.000Z\",\"endTime\":\"2021-04-29T19:07:36.027Z\",\"duration\":27449711,\"execution\":{\"resolvers\":[{\"path\":[\"dishRatingMany\"],\"parentType\":\"Query\",\"fieldName\":\"dishRatingMany\",\"returnType\":\"[DishRating!]!\",\"startOffset\":7313003,\"duration\":6105634},{\"path\":[\"dishRatingMany\",0,\"_id\"],\"parentType\":\"DishRating\",\"fieldName\":\"_id\",\"returnType\":\"MongoID!\",\"startOffset\":13521436,\"duration\":46908},{\"path\":[\"dishRatingMany\",0,\"dish_id\"],\"parentType\":\"DishRating\",\"fieldName\":\"dish_id\",\"returnType\":\"String!\",\"startOffset\":13610285,\"duration\":40857},{\"path\":[\"dishRatingMany\",0,\"user\"],\"parentType\":\"DishRating\",\"fieldName\":\"user\",\"returnType\":\"User\",\"startOffset\":13679211,\"duration\":10077875},{\"path\":[\"dishRatingMany\",0,\"rating\"],\"parentType\":\"DishRating\",\"fieldName\":\"rating\",\"returnType\":\"Float!\",\"startOffset\":14874036,\"duration\":59479},{\"path\":[\"dishRatingMany\",0,\"review\"],\"parentType\":\"DishRating\",\"fieldName\":\"review\",\"returnType\":\"String\",\"startOffset\":14965201,\"duration\":39444},{\"path\":[\"dishRatingMany\",0,\"createdAt\"],\"parentType\":\"DishRating\",\"fieldName\":\"createdAt\",\"returnType\":\"Date\",\"startOffset\":15032303,\"duration\":43554},{\"path\":[\"dishRatingMany\",0,\"dish\"],\"parentType\":\"DishRating\",\"fieldName\":\"dish\",\"returnType\":\"Dish\",\"startOffset\":15129431,\"duration\":8838975},{\"path\":[\"dishRatingMany\",0,\"user\",\"name\"],\"parentType\":\"User\",\"fieldName\":\"name\",\"returnType\":\"String!\",\"startOffset\":23822126,\"duration\":28303},{\"path\":[\"dishRatingMany\",0,\"dish\",\"dish_name\"],\"parentType\":\"Dish\",\"fieldName\":\"dish_name\",\"returnType\":\"String!\",\"startOffset\":24014689,\"duration\":18305},{\"path\":[\"dishRatingMany\",0,\"dish\",\"restaurant\"],\"parentType\":\"Dish\",\"fieldName\":\"restaurant\",\"returnType\":\"Restaurant\",\"startOffset\":24051939,\"duration\":3229513},{\"path\":[\"dishRatingMany\",0,\"dish\",\"restaurant\",\"name\"],\"parentType\":\"Restaurant\",\"fieldName\":\"name\",\"returnType\":\"String!\",\"startOffset\":27338446,\"duration\":25762}]}}}}\n",
      "\n"
     ]
    }
   ],
   "source": [
    "url = 'https://palette-backend.herokuapp.com/graphql'\n",
    "r = requests.post(url, json={'query': dish_rating_query})\n",
    "print(r.status_code)\n",
    "print(r.text)"
   ]
  },
  {
   "cell_type": "code",
   "execution_count": 13,
   "metadata": {},
   "outputs": [],
   "source": [
    "json_data = json.loads(r.text)"
   ]
  },
  {
   "cell_type": "code",
   "execution_count": 14,
   "metadata": {},
   "outputs": [],
   "source": [
    "df = json_data['data']['dishRatingMany']"
   ]
  },
  {
   "cell_type": "code",
   "execution_count": 15,
   "metadata": {},
   "outputs": [
    {
     "name": "stdout",
     "output_type": "stream",
     "text": [
      "1\n"
     ]
    }
   ],
   "source": [
    "print(len(df))"
   ]
  },
  {
   "cell_type": "code",
   "execution_count": 18,
   "metadata": {},
   "outputs": [
    {
     "name": "stdout",
     "output_type": "stream",
     "text": [
      "[{'_id': '607f2f75914a7b001549af49', 'dish_id': '603ab53b88dbe9c89607dfa7', 'user': {'name': 'Connor'}, 'rating': 4, 'review': 'Pretty god,  could use salt', 'createdAt': '2021-04-20T19:45:57.321Z', 'dish': {'dish_name': 'Panang Curry', 'restaurant': {'name': 'Tuk Tuk Thai Cuisine'}}}]\n"
     ]
    }
   ],
   "source": [
    "print(df)\n"
   ]
  },
  {
   "cell_type": "code",
   "execution_count": 21,
   "metadata": {},
   "outputs": [],
   "source": [
    "popular_dish_query = \"\"\"query {\n",
    "  \t\tdishMany (sort: {\n",
    "          field:average_rating,\n",
    "          order:ASC\n",
    "        }) {\n",
    "\t\t\tdish_name\n",
    "\t\t\tdescription\n",
    "\t\t\trestaurant_id\n",
    "            average_rating\n",
    "\t\t\trestaurant { name }\n",
    "\t\t\t_id\n",
    "  \t\t}\"\"\"\n"
   ]
  },
  {
   "cell_type": "code",
   "execution_count": 22,
   "metadata": {},
   "outputs": [
    {
     "name": "stdout",
     "output_type": "stream",
     "text": [
      "400\n",
      "{\"errors\":[{\"message\":\"Syntax Error: Expected Name, found <EOF>.\",\"locations\":[{\"line\":9,\"column\":6}],\"extensions\":{\"code\":\"GRAPHQL_PARSE_FAILED\"}}]}\n",
      "\n"
     ]
    }
   ],
   "source": [
    "url = 'https://palette-backend.herokuapp.com/graphql'\n",
    "r = requests.post(url, json={'query': popular_dish_query})\n",
    "print(r.status_code)\n",
    "print(r.text)"
   ]
  },
  {
   "cell_type": "code",
   "execution_count": null,
   "metadata": {},
   "outputs": [],
   "source": []
  }
 ],
 "metadata": {
  "kernelspec": {
   "display_name": "Python 3",
   "language": "python",
   "name": "python3"
  },
  "language_info": {
   "codemirror_mode": {
    "name": "ipython",
    "version": 3
   },
   "file_extension": ".py",
   "mimetype": "text/x-python",
   "name": "python",
   "nbconvert_exporter": "python",
   "pygments_lexer": "ipython3",
   "version": "3.8.5"
  }
 },
 "nbformat": 4,
 "nbformat_minor": 4
}
