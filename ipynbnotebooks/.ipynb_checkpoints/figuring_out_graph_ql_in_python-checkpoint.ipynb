{
 "cells": [
  {
   "cell_type": "code",
   "execution_count": 1,
   "metadata": {},
   "outputs": [],
   "source": [
    "import requests\n",
    "import json\n",
    "import pandas as pd"
   ]
  },
  {
   "cell_type": "code",
   "execution_count": 6,
   "metadata": {},
   "outputs": [],
   "source": [
    "user_query = \"\"\"query  {\n",
    "              userById (_id:  \"607f2bbfc2799a00154554de\") {\n",
    "                name\n",
    "                _id\n",
    "                createdAt\n",
    "          }\n",
    "    }\"\"\""
   ]
  },
  {
   "cell_type": "code",
   "execution_count": 7,
   "metadata": {},
   "outputs": [
    {
     "name": "stdout",
     "output_type": "stream",
     "text": [
      "200\n",
      "{\"data\":{\"userById\":{\"name\":\"Connor\",\"_id\":\"607f2bbfc2799a00154554de\",\"createdAt\":\"2021-04-20T19:30:07.015Z\"}},\"extensions\":{\"tracing\":{\"version\":1,\"startTime\":\"2021-04-29T19:07:20.070Z\",\"endTime\":\"2021-04-29T19:07:20.087Z\",\"duration\":16644050,\"execution\":{\"resolvers\":[{\"path\":[\"userById\"],\"parentType\":\"Query\",\"fieldName\":\"userById\",\"returnType\":\"User\",\"startOffset\":8385279,\"duration\":7754608},{\"path\":[\"userById\",\"name\"],\"parentType\":\"User\",\"fieldName\":\"name\",\"returnType\":\"String!\",\"startOffset\":16248828,\"duration\":76068},{\"path\":[\"userById\",\"_id\"],\"parentType\":\"User\",\"fieldName\":\"_id\",\"returnType\":\"MongoID!\",\"startOffset\":16361069,\"duration\":47297},{\"path\":[\"userById\",\"createdAt\"],\"parentType\":\"User\",\"fieldName\":\"createdAt\",\"returnType\":\"Date\",\"startOffset\":16455603,\"duration\":57218}]}}}}\n",
      "\n"
     ]
    }
   ],
   "source": [
    "url = 'https://palette-backend.herokuapp.com/graphql'\n",
    "r = requests.post(url, json={'query': user_query})\n",
    "print(r.status_code)\n",
    "print(r.text)"
   ]
  },
  {
   "cell_type": "code",
   "execution_count": 8,
   "metadata": {},
   "outputs": [],
   "source": [
    "json_data = json.loads(r.text)"
   ]
  },
  {
   "cell_type": "code",
   "execution_count": 9,
   "metadata": {},
   "outputs": [
    {
     "name": "stdout",
     "output_type": "stream",
     "text": [
      "{'name': 'Connor', '_id': '607f2bbfc2799a00154554de', 'createdAt': '2021-04-20T19:30:07.015Z'}\n"
     ]
    }
   ],
   "source": [
    "print(json_data['data']['userById'])\n",
    "\n",
    "user_id = json_data['data']['userById']['_id']\n"
   ]
  },
  {
   "cell_type": "code",
   "execution_count": null,
   "metadata": {},
   "outputs": [],
   "source": []
  },
  {
   "cell_type": "code",
   "execution_count": 10,
   "metadata": {},
   "outputs": [
    {
     "ename": "NameError",
     "evalue": "name 'df' is not defined",
     "output_type": "error",
     "traceback": [
      "\u001b[0;31m---------------------------------------------------------------------------\u001b[0m",
      "\u001b[0;31mNameError\u001b[0m                                 Traceback (most recent call last)",
      "\u001b[0;32m<ipython-input-10-89148ddff993>\u001b[0m in \u001b[0;36m<module>\u001b[0;34m\u001b[0m\n\u001b[0;32m----> 1\u001b[0;31m \u001b[0mdf\u001b[0m\u001b[0;34m.\u001b[0m\u001b[0mhead\u001b[0m\u001b[0;34m\u001b[0m\u001b[0;34m\u001b[0m\u001b[0m\n\u001b[0m",
      "\u001b[0;31mNameError\u001b[0m: name 'df' is not defined"
     ]
    }
   ],
   "source": [
    "df.head"
   ]
  },
  {
   "cell_type": "code",
   "execution_count": 11,
   "metadata": {},
   "outputs": [],
   "source": [
    "dish_rating_query = \"\"\"query  {\n",
    "\t\tdishRatingMany (filter: {user_id: \"607f2bbfc2799a00154554de\"}) {\n",
    "\t\t\t_id\n",
    "\t\t\tdish_id\n",
    "\t\t\tuser { name }\n",
    "\t\t\trating\n",
    "\t\t\treview\n",
    "\t\t\tcreatedAt\n",
    "\t\t\tdish { \n",
    "\t\t\t\tdish_name \n",
    "\t\t\t\trestaurant { name }\n",
    "\t\t\t\t}\n",
    "\t\t}\n",
    "\t}\"\"\""
   ]
  },
  {
   "cell_type": "code",
   "execution_count": 12,
   "metadata": {},
   "outputs": [
    {
     "name": "stdout",
     "output_type": "stream",
     "text": [
      "200\n",
      "{\"data\":{\"dishRatingMany\":[{\"_id\":\"607f2f75914a7b001549af49\",\"dish_id\":\"603ab53b88dbe9c89607dfa7\",\"user\":{\"name\":\"Connor\"},\"rating\":4,\"review\":\"Pretty god,  could use salt\",\"createdAt\":\"2021-04-20T19:45:57.321Z\",\"dish\":{\"dish_name\":\"Panang Curry\",\"restaurant\":{\"name\":\"Tuk Tuk Thai Cuisine\"}}}]},\"extensions\":{\"tracing\":{\"version\":1,\"startTime\":\"2021-04-29T19:07:36.000Z\",\"endTime\":\"2021-04-29T19:07:36.027Z\",\"duration\":27449711,\"execution\":{\"resolvers\":[{\"path\":[\"dishRatingMany\"],\"parentType\":\"Query\",\"fieldName\":\"dishRatingMany\",\"returnType\":\"[DishRating!]!\",\"startOffset\":7313003,\"duration\":6105634},{\"path\":[\"dishRatingMany\",0,\"_id\"],\"parentType\":\"DishRating\",\"fieldName\":\"_id\",\"returnType\":\"MongoID!\",\"startOffset\":13521436,\"duration\":46908},{\"path\":[\"dishRatingMany\",0,\"dish_id\"],\"parentType\":\"DishRating\",\"fieldName\":\"dish_id\",\"returnType\":\"String!\",\"startOffset\":13610285,\"duration\":40857},{\"path\":[\"dishRatingMany\",0,\"user\"],\"parentType\":\"DishRating\",\"fieldName\":\"user\",\"returnType\":\"User\",\"startOffset\":13679211,\"duration\":10077875},{\"path\":[\"dishRatingMany\",0,\"rating\"],\"parentType\":\"DishRating\",\"fieldName\":\"rating\",\"returnType\":\"Float!\",\"startOffset\":14874036,\"duration\":59479},{\"path\":[\"dishRatingMany\",0,\"review\"],\"parentType\":\"DishRating\",\"fieldName\":\"review\",\"returnType\":\"String\",\"startOffset\":14965201,\"duration\":39444},{\"path\":[\"dishRatingMany\",0,\"createdAt\"],\"parentType\":\"DishRating\",\"fieldName\":\"createdAt\",\"returnType\":\"Date\",\"startOffset\":15032303,\"duration\":43554},{\"path\":[\"dishRatingMany\",0,\"dish\"],\"parentType\":\"DishRating\",\"fieldName\":\"dish\",\"returnType\":\"Dish\",\"startOffset\":15129431,\"duration\":8838975},{\"path\":[\"dishRatingMany\",0,\"user\",\"name\"],\"parentType\":\"User\",\"fieldName\":\"name\",\"returnType\":\"String!\",\"startOffset\":23822126,\"duration\":28303},{\"path\":[\"dishRatingMany\",0,\"dish\",\"dish_name\"],\"parentType\":\"Dish\",\"fieldName\":\"dish_name\",\"returnType\":\"String!\",\"startOffset\":24014689,\"duration\":18305},{\"path\":[\"dishRatingMany\",0,\"dish\",\"restaurant\"],\"parentType\":\"Dish\",\"fieldName\":\"restaurant\",\"returnType\":\"Restaurant\",\"startOffset\":24051939,\"duration\":3229513},{\"path\":[\"dishRatingMany\",0,\"dish\",\"restaurant\",\"name\"],\"parentType\":\"Restaurant\",\"fieldName\":\"name\",\"returnType\":\"String!\",\"startOffset\":27338446,\"duration\":25762}]}}}}\n",
      "\n"
     ]
    }
   ],
   "source": [
    "url = 'https://palette-backend.herokuapp.com/graphql'\n",
    "r = requests.post(url, json={'query': dish_rating_query})\n",
    "print(r.status_code)\n",
    "print(r.text)"
   ]
  },
  {
   "cell_type": "code",
   "execution_count": 13,
   "metadata": {},
   "outputs": [],
   "source": [
    "json_data = json.loads(r.text)"
   ]
  },
  {
   "cell_type": "code",
   "execution_count": 14,
   "metadata": {},
   "outputs": [],
   "source": [
    "df = json_data['data']['dishRatingMany']"
   ]
  },
  {
   "cell_type": "code",
   "execution_count": 15,
   "metadata": {},
   "outputs": [
    {
     "name": "stdout",
     "output_type": "stream",
     "text": [
      "1\n"
     ]
    }
   ],
   "source": [
    "print(len(df))"
   ]
  },
  {
   "cell_type": "code",
   "execution_count": 18,
   "metadata": {},
   "outputs": [
    {
     "name": "stdout",
     "output_type": "stream",
     "text": [
      "[{'_id': '607f2f75914a7b001549af49', 'dish_id': '603ab53b88dbe9c89607dfa7', 'user': {'name': 'Connor'}, 'rating': 4, 'review': 'Pretty god,  could use salt', 'createdAt': '2021-04-20T19:45:57.321Z', 'dish': {'dish_name': 'Panang Curry', 'restaurant': {'name': 'Tuk Tuk Thai Cuisine'}}}]\n"
     ]
    }
   ],
   "source": [
    "print(df)\n"
   ]
  },
  {
   "cell_type": "code",
   "execution_count": 40,
   "metadata": {},
   "outputs": [],
   "source": [
    "popular_dish_query = \"\"\"query {\n",
    "  \t\tdishMany {\n",
    "            average_rating\n",
    "\t\t\t_id\n",
    "  \t\t}}\"\"\"\n"
   ]
  },
  {
   "cell_type": "code",
   "execution_count": 41,
   "metadata": {},
   "outputs": [
    {
     "name": "stdout",
     "output_type": "stream",
     "text": [
      "200\n",
      "{\"data\":{\"dishMany\":[{\"average_rating\":3.3,\"_id\":\"603ab53b88dbe9c89607dfae\"},{\"average_rating\":1.1,\"_id\":\"603ab53b88dbe9c89607dfc4\"},{\"average_rating\":2.5,\"_id\":\"603ab53b88dbe9c89607dfa7\"},{\"average_rating\":1.3,\"_id\":\"603ab53b88dbe9c89607dfab\"},{\"average_rating\":5,\"_id\":\"603ab53b88dbe9c89607dfac\"},{\"average_rating\":5,\"_id\":\"603ab53b88dbe9c89607dfb1\"},{\"average_rating\":1.8,\"_id\":\"603ab53b88dbe9c89607dfb4\"},{\"average_rating\":4.1,\"_id\":\"603ab53b88dbe9c89607dfba\"},{\"average_rating\":2,\"_id\":\"603ab53b88dbe9c89607dfc6\"},{\"average_rating\":3.9,\"_id\":\"603ab53b88dbe9c89607dfcf\"},{\"average_rating\":2.9,\"_id\":\"603ab53b88dbe9c89607dfc0\"},{\"average_rating\":3.1,\"_id\":\"603ab53b88dbe9c89607dfc7\"},{\"average_rating\":3.1,\"_id\":\"603ab53b88dbe9c89607dfcb\"},{\"average_rating\":4.8,\"_id\":\"603ab53b88dbe9c89607dfd8\"},{\"average_rating\":4,\"_id\":\"603ab53b88dbe9c89607dfaa\"},{\"average_rating\":5,\"_id\":\"603ab53b88dbe9c89607dfaf\"},{\"average_rating\":2.1,\"_id\":\"603ab53b88dbe9c89607dfad\"},{\"average_rating\":1.6,\"_id\":\"603ab53b88dbe9c89607dfc3\"},{\"average_rating\":3.5,\"_id\":\"603ab53b88dbe9c89607dfd2\"},{\"average_rating\":2.1,\"_id\":\"603ab53b88dbe9c89607dfd4\"},{\"average_rating\":3.4,\"_id\":\"603ab53b88dbe9c89607dfd0\"},{\"average_rating\":1.5,\"_id\":\"603ab53b88dbe9c89607dfbe\"},{\"average_rating\":4.1,\"_id\":\"603ab53b88dbe9c89607dfb2\"},{\"average_rating\":1.5,\"_id\":\"603ab53b88dbe9c89607dfa9\"},{\"average_rating\":4.2,\"_id\":\"603ab53b88dbe9c89607dfd6\"},{\"average_rating\":3.7,\"_id\":\"603ab53b88dbe9c89607dfbd\"},{\"average_rating\":4.5,\"_id\":\"603ab53b88dbe9c89607dfcd\"},{\"average_rating\":1.1,\"_id\":\"603ab53b88dbe9c89607dfd5\"},{\"average_rating\":3.3,\"_id\":\"603ab53b88dbe9c89607dfd7\"},{\"average_rating\":1.3,\"_id\":\"603ab53b88dbe9c89607dfc5\"},{\"average_rating\":5,\"_id\":\"603ab53b88dbe9c89607dfd3\"},{\"average_rating\":1.2,\"_id\":\"603ab53b88dbe9c89607dfca\"},{\"average_rating\":5,\"_id\":\"603ab53b88dbe9c89607dfa8\"},{\"average_rating\":4.2,\"_id\":\"603ab53b88dbe9c89607dfbb\"},{\"average_rating\":1.1,\"_id\":\"603ab53b88dbe9c89607dfb6\"},{\"average_rating\":4.9,\"_id\":\"603ab53b88dbe9c89607dfc2\"},{\"average_rating\":3.7,\"_id\":\"603ab53b88dbe9c89607dfbf\"},{\"average_rating\":1.8,\"_id\":\"603ab53b88dbe9c89607dfc1\"},{\"average_rating\":4.5,\"_id\":\"603ab53b88dbe9c89607dfc9\"},{\"average_rating\":1.5,\"_id\":\"603ab53b88dbe9c89607dfb7\"},{\"average_rating\":4.7,\"_id\":\"603ab53b88dbe9c89607dfb8\"},{\"average_rating\":2.2,\"_id\":\"603ab53b88dbe9c89607dfce\"},{\"average_rating\":1,\"_id\":\"603ab53b88dbe9c89607dfd1\"},{\"average_rating\":4.5,\"_id\":\"603ab53b88dbe9c89607dfbc\"},{\"average_rating\":2.8,\"_id\":\"603ab53b88dbe9c89607dfc8\"},{\"average_rating\":4.5,\"_id\":\"603ab53b88dbe9c89607dfcc\"},{\"average_rating\":2.3,\"_id\":\"603ab53b88dbe9c89607dfb0\"},{\"average_rating\":1.2,\"_id\":\"603ab53b88dbe9c89607dfb3\"},{\"average_rating\":1.2,\"_id\":\"603ab53b88dbe9c89607dfb5\"},{\"average_rating\":4.6,\"_id\":\"603ab53b88dbe9c89607dfb9\"}]},\"extensions\":{\"tracing\":{\"version\":1,\"startTime\":\"2021-04-29T19:20:15.021Z\",\"endTime\":\"2021-04-29T19:20:15.038Z\",\"duration\":17043355,\"execution\":{\"resolvers\":[{\"path\":[\"dishMany\"],\"parentType\":\"Query\",\"fieldName\":\"dishMany\",\"returnType\":\"[Dish!]!\",\"startOffset\":1177338,\"duration\":12765540},{\"path\":[\"dishMany\",0,\"average_rating\"],\"parentType\":\"Dish\",\"fieldName\":\"average_rating\",\"returnType\":\"Float\",\"startOffset\":14005888,\"duration\":35182},{\"path\":[\"dishMany\",0,\"_id\"],\"parentType\":\"Dish\",\"fieldName\":\"_id\",\"returnType\":\"MongoID!\",\"startOffset\":14051160,\"duration\":24724},{\"path\":[\"dishMany\",1,\"average_rating\"],\"parentType\":\"Dish\",\"fieldName\":\"average_rating\",\"returnType\":\"Float\",\"startOffset\":14107777,\"duration\":20309},{\"path\":[\"dishMany\",1,\"_id\"],\"parentType\":\"Dish\",\"fieldName\":\"_id\",\"returnType\":\"MongoID!\",\"startOffset\":14140027,\"duration\":12809},{\"path\":[\"dishMany\",2,\"average_rating\"],\"parentType\":\"Dish\",\"fieldName\":\"average_rating\",\"returnType\":\"Float\",\"startOffset\":14168678,\"duration\":21598},{\"path\":[\"dishMany\",2,\"_id\"],\"parentType\":\"Dish\",\"fieldName\":\"_id\",\"returnType\":\"MongoID!\",\"startOffset\":14196856,\"duration\":11827},{\"path\":[\"dishMany\",3,\"average_rating\"],\"parentType\":\"Dish\",\"fieldName\":\"average_rating\",\"returnType\":\"Float\",\"startOffset\":14222512,\"duration\":19710},{\"path\":[\"dishMany\",3,\"_id\"],\"parentType\":\"Dish\",\"fieldName\":\"_id\",\"returnType\":\"MongoID!\",\"startOffset\":14248245,\"duration\":10504},{\"path\":[\"dishMany\",4,\"average_rating\"],\"parentType\":\"Dish\",\"fieldName\":\"average_rating\",\"returnType\":\"Float\",\"startOffset\":14276547,\"duration\":15844},{\"path\":[\"dishMany\",4,\"_id\"],\"parentType\":\"Dish\",\"fieldName\":\"_id\",\"returnType\":\"MongoID!\",\"startOffset\":14298491,\"duration\":14960},{\"path\":[\"dishMany\",5,\"average_rating\"],\"parentType\":\"Dish\",\"fieldName\":\"average_rating\",\"returnType\":\"Float\",\"startOffset\":14327188,\"duration\":14479},{\"path\":[\"dishMany\",5,\"_id\"],\"parentType\":\"Dish\",\"fieldName\":\"_id\",\"returnType\":\"MongoID!\",\"startOffset\":14351796,\"duration\":11915},{\"path\":[\"dishMany\",6,\"average_rating\"],\"parentType\":\"Dish\",\"fieldName\":\"average_rating\",\"returnType\":\"Float\",\"startOffset\":14376746,\"duration\":16497},{\"path\":[\"dishMany\",6,\"_id\"],\"parentType\":\"Dish\",\"fieldName\":\"_id\",\"returnType\":\"MongoID!\",\"startOffset\":14399341,\"duration\":11297},{\"path\":[\"dishMany\",7,\"average_rating\"],\"parentType\":\"Dish\",\"fieldName\":\"average_rating\",\"returnType\":\"Float\",\"startOffset\":14429312,\"duration\":15661},{\"path\":[\"dishMany\",7,\"_id\"],\"parentType\":\"Dish\",\"fieldName\":\"_id\",\"returnType\":\"MongoID!\",\"startOffset\":14450745,\"duration\":10394},{\"path\":[\"dishMany\",8,\"average_rating\"],\"parentType\":\"Dish\",\"fieldName\":\"average_rating\",\"returnType\":\"Float\",\"startOffset\":14478906,\"duration\":15337},{\"path\":[\"dishMany\",8,\"_id\"],\"parentType\":\"Dish\",\"fieldName\":\"_id\",\"returnType\":\"MongoID!\",\"startOffset\":14503831,\"duration\":11667},{\"path\":[\"dishMany\",9,\"average_rating\"],\"parentType\":\"Dish\",\"fieldName\":\"average_rating\",\"returnType\":\"Float\",\"startOffset\":14528725,\"duration\":18614},{\"path\":[\"dishMany\",9,\"_id\"],\"parentType\":\"Dish\",\"fieldName\":\"_id\",\"returnType\":\"MongoID!\",\"startOffset\":14553729,\"duration\":11209},{\"path\":[\"dishMany\",10,\"average_rating\"],\"parentType\":\"Dish\",\"fieldName\":\"average_rating\",\"returnType\":\"Float\",\"startOffset\":14578091,\"duration\":19046},{\"path\":[\"dishMany\",10,\"_id\"],\"parentType\":\"Dish\",\"fieldName\":\"_id\",\"returnType\":\"MongoID!\",\"startOffset\":14603010,\"duration\":10759},{\"path\":[\"dishMany\",11,\"average_rating\"],\"parentType\":\"Dish\",\"fieldName\":\"average_rating\",\"returnType\":\"Float\",\"startOffset\":14631636,\"duration\":15406},{\"path\":[\"dishMany\",11,\"_id\"],\"parentType\":\"Dish\",\"fieldName\":\"_id\",\"returnType\":\"MongoID!\",\"startOffset\":14653103,\"duration\":14629},{\"path\":[\"dishMany\",12,\"average_rating\"],\"parentType\":\"Dish\",\"fieldName\":\"average_rating\",\"returnType\":\"Float\",\"startOffset\":14681342,\"duration\":25885},{\"path\":[\"dishMany\",12,\"_id\"],\"parentType\":\"Dish\",\"fieldName\":\"_id\",\"returnType\":\"MongoID!\",\"startOffset\":14727150,\"duration\":25681},{\"path\":[\"dishMany\",13,\"average_rating\"],\"parentType\":\"Dish\",\"fieldName\":\"average_rating\",\"returnType\":\"Float\",\"startOffset\":14782885,\"duration\":31955},{\"path\":[\"dishMany\",13,\"_id\"],\"parentType\":\"Dish\",\"fieldName\":\"_id\",\"returnType\":\"MongoID!\",\"startOffset\":14822879,\"duration\":12525},{\"path\":[\"dishMany\",14,\"average_rating\"],\"parentType\":\"Dish\",\"fieldName\":\"average_rating\",\"returnType\":\"Float\",\"startOffset\":14856221,\"duration\":16069},{\"path\":[\"dishMany\",14,\"_id\"],\"parentType\":\"Dish\",\"fieldName\":\"_id\",\"returnType\":\"MongoID!\",\"startOffset\":14878353,\"duration\":10388},{\"path\":[\"dishMany\",15,\"average_rating\"],\"parentType\":\"Dish\",\"fieldName\":\"average_rating\",\"returnType\":\"Float\",\"startOffset\":14906907,\"duration\":15562},{\"path\":[\"dishMany\",15,\"_id\"],\"parentType\":\"Dish\",\"fieldName\":\"_id\",\"returnType\":\"MongoID!\",\"startOffset\":14928276,\"duration\":47447},{\"path\":[\"dishMany\",16,\"average_rating\"],\"parentType\":\"Dish\",\"fieldName\":\"average_rating\",\"returnType\":\"Float\",\"startOffset\":15084008,\"duration\":21861},{\"path\":[\"dishMany\",16,\"_id\"],\"parentType\":\"Dish\",\"fieldName\":\"_id\",\"returnType\":\"MongoID!\",\"startOffset\":15117225,\"duration\":12089},{\"path\":[\"dishMany\",17,\"average_rating\"],\"parentType\":\"Dish\",\"fieldName\":\"average_rating\",\"returnType\":\"Float\",\"startOffset\":15144344,\"duration\":18906},{\"path\":[\"dishMany\",17,\"_id\"],\"parentType\":\"Dish\",\"fieldName\":\"_id\",\"returnType\":\"MongoID!\",\"startOffset\":15169631,\"duration\":11025},{\"path\":[\"dishMany\",18,\"average_rating\"],\"parentType\":\"Dish\",\"fieldName\":\"average_rating\",\"returnType\":\"Float\",\"startOffset\":15201587,\"duration\":15958},{\"path\":[\"dishMany\",18,\"_id\"],\"parentType\":\"Dish\",\"fieldName\":\"_id\",\"returnType\":\"MongoID!\",\"startOffset\":15223624,\"duration\":20840},{\"path\":[\"dishMany\",19,\"average_rating\"],\"parentType\":\"Dish\",\"fieldName\":\"average_rating\",\"returnType\":\"Float\",\"startOffset\":15269987,\"duration\":26566},{\"path\":[\"dishMany\",19,\"_id\"],\"parentType\":\"Dish\",\"fieldName\":\"_id\",\"returnType\":\"MongoID!\",\"startOffset\":15302947,\"duration\":15482},{\"path\":[\"dishMany\",20,\"average_rating\"],\"parentType\":\"Dish\",\"fieldName\":\"average_rating\",\"returnType\":\"Float\",\"startOffset\":15343909,\"duration\":16878},{\"path\":[\"dishMany\",20,\"_id\"],\"parentType\":\"Dish\",\"fieldName\":\"_id\",\"returnType\":\"MongoID!\",\"startOffset\":15371184,\"duration\":11935},{\"path\":[\"dishMany\",21,\"average_rating\"],\"parentType\":\"Dish\",\"fieldName\":\"average_rating\",\"returnType\":\"Float\",\"startOffset\":15397184,\"duration\":26011},{\"path\":[\"dishMany\",21,\"_id\"],\"parentType\":\"Dish\",\"fieldName\":\"_id\",\"returnType\":\"MongoID!\",\"startOffset\":15429659,\"duration\":13942},{\"path\":[\"dishMany\",22,\"average_rating\"],\"parentType\":\"Dish\",\"fieldName\":\"average_rating\",\"returnType\":\"Float\",\"startOffset\":15464805,\"duration\":16698},{\"path\":[\"dishMany\",22,\"_id\"],\"parentType\":\"Dish\",\"fieldName\":\"_id\",\"returnType\":\"MongoID!\",\"startOffset\":15487622,\"duration\":15644},{\"path\":[\"dishMany\",23,\"average_rating\"],\"parentType\":\"Dish\",\"fieldName\":\"average_rating\",\"returnType\":\"Float\",\"startOffset\":15517241,\"duration\":14803},{\"path\":[\"dishMany\",23,\"_id\"],\"parentType\":\"Dish\",\"fieldName\":\"_id\",\"returnType\":\"MongoID!\",\"startOffset\":15542195,\"duration\":11676},{\"path\":[\"dishMany\",24,\"average_rating\"],\"parentType\":\"Dish\",\"fieldName\":\"average_rating\",\"returnType\":\"Float\",\"startOffset\":15567044,\"duration\":18985},{\"path\":[\"dishMany\",24,\"_id\"],\"parentType\":\"Dish\",\"fieldName\":\"_id\",\"returnType\":\"MongoID!\",\"startOffset\":15592229,\"duration\":11149},{\"path\":[\"dishMany\",25,\"average_rating\"],\"parentType\":\"Dish\",\"fieldName\":\"average_rating\",\"returnType\":\"Float\",\"startOffset\":15622324,\"duration\":15989},{\"path\":[\"dishMany\",25,\"_id\"],\"parentType\":\"Dish\",\"fieldName\":\"_id\",\"returnType\":\"MongoID!\",\"startOffset\":15644534,\"duration\":10741},{\"path\":[\"dishMany\",26,\"average_rating\"],\"parentType\":\"Dish\",\"fieldName\":\"average_rating\",\"returnType\":\"Float\",\"startOffset\":15673038,\"duration\":15276},{\"path\":[\"dishMany\",26,\"_id\"],\"parentType\":\"Dish\",\"fieldName\":\"_id\",\"returnType\":\"MongoID!\",\"startOffset\":15694180,\"duration\":15857},{\"path\":[\"dishMany\",27,\"average_rating\"],\"parentType\":\"Dish\",\"fieldName\":\"average_rating\",\"returnType\":\"Float\",\"startOffset\":15723680,\"duration\":14566},{\"path\":[\"dishMany\",27,\"_id\"],\"parentType\":\"Dish\",\"fieldName\":\"_id\",\"returnType\":\"MongoID!\",\"startOffset\":15748176,\"duration\":11529},{\"path\":[\"dishMany\",28,\"average_rating\"],\"parentType\":\"Dish\",\"fieldName\":\"average_rating\",\"returnType\":\"Float\",\"startOffset\":15773029,\"duration\":18940},{\"path\":[\"dishMany\",28,\"_id\"],\"parentType\":\"Dish\",\"fieldName\":\"_id\",\"returnType\":\"MongoID!\",\"startOffset\":15798059,\"duration\":11300},{\"path\":[\"dishMany\",29,\"average_rating\"],\"parentType\":\"Dish\",\"fieldName\":\"average_rating\",\"returnType\":\"Float\",\"startOffset\":15826533,\"duration\":15867},{\"path\":[\"dishMany\",29,\"_id\"],\"parentType\":\"Dish\",\"fieldName\":\"_id\",\"returnType\":\"MongoID!\",\"startOffset\":15848497,\"duration\":10698},{\"path\":[\"dishMany\",30,\"average_rating\"],\"parentType\":\"Dish\",\"fieldName\":\"average_rating\",\"returnType\":\"Float\",\"startOffset\":15876572,\"duration\":15122},{\"path\":[\"dishMany\",30,\"_id\"],\"parentType\":\"Dish\",\"fieldName\":\"_id\",\"returnType\":\"MongoID!\",\"startOffset\":15897609,\"duration\":15136},{\"path\":[\"dishMany\",31,\"average_rating\"],\"parentType\":\"Dish\",\"fieldName\":\"average_rating\",\"returnType\":\"Float\",\"startOffset\":15926209,\"duration\":14294},{\"path\":[\"dishMany\",31,\"_id\"],\"parentType\":\"Dish\",\"fieldName\":\"_id\",\"returnType\":\"MongoID!\",\"startOffset\":15950703,\"duration\":11489},{\"path\":[\"dishMany\",32,\"average_rating\"],\"parentType\":\"Dish\",\"fieldName\":\"average_rating\",\"returnType\":\"Float\",\"startOffset\":15975520,\"duration\":18997},{\"path\":[\"dishMany\",32,\"_id\"],\"parentType\":\"Dish\",\"fieldName\":\"_id\",\"returnType\":\"MongoID!\",\"startOffset\":16000794,\"duration\":10682},{\"path\":[\"dishMany\",33,\"average_rating\"],\"parentType\":\"Dish\",\"fieldName\":\"average_rating\",\"returnType\":\"Float\",\"startOffset\":16028881,\"duration\":15557},{\"path\":[\"dishMany\",33,\"_id\"],\"parentType\":\"Dish\",\"fieldName\":\"_id\",\"returnType\":\"MongoID!\",\"startOffset\":16050152,\"duration\":14076},{\"path\":[\"dishMany\",34,\"average_rating\"],\"parentType\":\"Dish\",\"fieldName\":\"average_rating\",\"returnType\":\"Float\",\"startOffset\":16078579,\"duration\":14821},{\"path\":[\"dishMany\",34,\"_id\"],\"parentType\":\"Dish\",\"fieldName\":\"_id\",\"returnType\":\"MongoID!\",\"startOffset\":16102880,\"duration\":11759},{\"path\":[\"dishMany\",35,\"average_rating\"],\"parentType\":\"Dish\",\"fieldName\":\"average_rating\",\"returnType\":\"Float\",\"startOffset\":16127799,\"duration\":18385},{\"path\":[\"dishMany\",35,\"_id\"],\"parentType\":\"Dish\",\"fieldName\":\"_id\",\"returnType\":\"MongoID!\",\"startOffset\":16152476,\"duration\":11025},{\"path\":[\"dishMany\",36,\"average_rating\"],\"parentType\":\"Dish\",\"fieldName\":\"average_rating\",\"returnType\":\"Float\",\"startOffset\":16176418,\"duration\":21169},{\"path\":[\"dishMany\",36,\"_id\"],\"parentType\":\"Dish\",\"fieldName\":\"_id\",\"returnType\":\"MongoID!\",\"startOffset\":16203748,\"duration\":10586},{\"path\":[\"dishMany\",37,\"average_rating\"],\"parentType\":\"Dish\",\"fieldName\":\"average_rating\",\"returnType\":\"Float\",\"startOffset\":16231541,\"duration\":15549},{\"path\":[\"dishMany\",37,\"_id\"],\"parentType\":\"Dish\",\"fieldName\":\"_id\",\"returnType\":\"MongoID!\",\"startOffset\":16253163,\"duration\":14405},{\"path\":[\"dishMany\",38,\"average_rating\"],\"parentType\":\"Dish\",\"fieldName\":\"average_rating\",\"returnType\":\"Float\",\"startOffset\":16281671,\"duration\":15053},{\"path\":[\"dishMany\",38,\"_id\"],\"parentType\":\"Dish\",\"fieldName\":\"_id\",\"returnType\":\"MongoID!\",\"startOffset\":16306470,\"duration\":11810},{\"path\":[\"dishMany\",39,\"average_rating\"],\"parentType\":\"Dish\",\"fieldName\":\"average_rating\",\"returnType\":\"Float\",\"startOffset\":16332021,\"duration\":18400},{\"path\":[\"dishMany\",39,\"_id\"],\"parentType\":\"Dish\",\"fieldName\":\"_id\",\"returnType\":\"MongoID!\",\"startOffset\":16356439,\"duration\":11451},{\"path\":[\"dishMany\",40,\"average_rating\"],\"parentType\":\"Dish\",\"fieldName\":\"average_rating\",\"returnType\":\"Float\",\"startOffset\":16381108,\"duration\":19221},{\"path\":[\"dishMany\",40,\"_id\"],\"parentType\":\"Dish\",\"fieldName\":\"_id\",\"returnType\":\"MongoID!\",\"startOffset\":16406446,\"duration\":42729},{\"path\":[\"dishMany\",41,\"average_rating\"],\"parentType\":\"Dish\",\"fieldName\":\"average_rating\",\"returnType\":\"Float\",\"startOffset\":16467320,\"duration\":16759},{\"path\":[\"dishMany\",41,\"_id\"],\"parentType\":\"Dish\",\"fieldName\":\"_id\",\"returnType\":\"MongoID!\",\"startOffset\":16494758,\"duration\":11844},{\"path\":[\"dishMany\",42,\"average_rating\"],\"parentType\":\"Dish\",\"fieldName\":\"average_rating\",\"returnType\":\"Float\",\"startOffset\":16520231,\"duration\":22217},{\"path\":[\"dishMany\",42,\"_id\"],\"parentType\":\"Dish\",\"fieldName\":\"_id\",\"returnType\":\"MongoID!\",\"startOffset\":16548542,\"duration\":11269},{\"path\":[\"dishMany\",43,\"average_rating\"],\"parentType\":\"Dish\",\"fieldName\":\"average_rating\",\"returnType\":\"Float\",\"startOffset\":16576936,\"duration\":27308},{\"path\":[\"dishMany\",43,\"_id\"],\"parentType\":\"Dish\",\"fieldName\":\"_id\",\"returnType\":\"MongoID!\",\"startOffset\":16610809,\"duration\":52781},{\"path\":[\"dishMany\",44,\"average_rating\"],\"parentType\":\"Dish\",\"fieldName\":\"average_rating\",\"returnType\":\"Float\",\"startOffset\":16695838,\"duration\":20932},{\"path\":[\"dishMany\",44,\"_id\"],\"parentType\":\"Dish\",\"fieldName\":\"_id\",\"returnType\":\"MongoID!\",\"startOffset\":16722986,\"duration\":21690},{\"path\":[\"dishMany\",45,\"average_rating\"],\"parentType\":\"Dish\",\"fieldName\":\"average_rating\",\"returnType\":\"Float\",\"startOffset\":16761063,\"duration\":18338},{\"path\":[\"dishMany\",45,\"_id\"],\"parentType\":\"Dish\",\"fieldName\":\"_id\",\"returnType\":\"MongoID!\",\"startOffset\":16791552,\"duration\":13080},{\"path\":[\"dishMany\",46,\"average_rating\"],\"parentType\":\"Dish\",\"fieldName\":\"average_rating\",\"returnType\":\"Float\",\"startOffset\":16819282,\"duration\":18900},{\"path\":[\"dishMany\",46,\"_id\"],\"parentType\":\"Dish\",\"fieldName\":\"_id\",\"returnType\":\"MongoID!\",\"startOffset\":16844322,\"duration\":11267},{\"path\":[\"dishMany\",47,\"average_rating\"],\"parentType\":\"Dish\",\"fieldName\":\"average_rating\",\"returnType\":\"Float\",\"startOffset\":16874228,\"duration\":15781},{\"path\":[\"dishMany\",47,\"_id\"],\"parentType\":\"Dish\",\"fieldName\":\"_id\",\"returnType\":\"MongoID!\",\"startOffset\":16895949,\"duration\":10493},{\"path\":[\"dishMany\",48,\"average_rating\"],\"parentType\":\"Dish\",\"fieldName\":\"average_rating\",\"returnType\":\"Float\",\"startOffset\":16924051,\"duration\":15021},{\"path\":[\"dishMany\",48,\"_id\"],\"parentType\":\"Dish\",\"fieldName\":\"_id\",\"returnType\":\"MongoID!\",\"startOffset\":16945002,\"duration\":15333},{\"path\":[\"dishMany\",49,\"average_rating\"],\"parentType\":\"Dish\",\"fieldName\":\"average_rating\",\"returnType\":\"Float\",\"startOffset\":16973597,\"duration\":14230},{\"path\":[\"dishMany\",49,\"_id\"],\"parentType\":\"Dish\",\"fieldName\":\"_id\",\"returnType\":\"MongoID!\",\"startOffset\":16997944,\"duration\":11292}]}}}}\n",
      "\n"
     ]
    }
   ],
   "source": [
    "url = 'https://palette-backend.herokuapp.com/graphql'\n",
    "r = requests.post(url, json={'query': popular_dish_query})\n",
    "print(r.status_code)\n",
    "print(r.text)"
   ]
  },
  {
   "cell_type": "code",
   "execution_count": 42,
   "metadata": {},
   "outputs": [],
   "source": [
    "json_data = json.loads(r.text)\n",
    "df = json_data['data']['dishMany']"
   ]
  },
  {
   "cell_type": "code",
   "execution_count": 43,
   "metadata": {},
   "outputs": [
    {
     "name": "stdout",
     "output_type": "stream",
     "text": [
      "[{'average_rating': 3.3, '_id': '603ab53b88dbe9c89607dfae'}, {'average_rating': 1.1, '_id': '603ab53b88dbe9c89607dfc4'}, {'average_rating': 2.5, '_id': '603ab53b88dbe9c89607dfa7'}, {'average_rating': 1.3, '_id': '603ab53b88dbe9c89607dfab'}, {'average_rating': 5, '_id': '603ab53b88dbe9c89607dfac'}, {'average_rating': 5, '_id': '603ab53b88dbe9c89607dfb1'}, {'average_rating': 1.8, '_id': '603ab53b88dbe9c89607dfb4'}, {'average_rating': 4.1, '_id': '603ab53b88dbe9c89607dfba'}, {'average_rating': 2, '_id': '603ab53b88dbe9c89607dfc6'}, {'average_rating': 3.9, '_id': '603ab53b88dbe9c89607dfcf'}, {'average_rating': 2.9, '_id': '603ab53b88dbe9c89607dfc0'}, {'average_rating': 3.1, '_id': '603ab53b88dbe9c89607dfc7'}, {'average_rating': 3.1, '_id': '603ab53b88dbe9c89607dfcb'}, {'average_rating': 4.8, '_id': '603ab53b88dbe9c89607dfd8'}, {'average_rating': 4, '_id': '603ab53b88dbe9c89607dfaa'}, {'average_rating': 5, '_id': '603ab53b88dbe9c89607dfaf'}, {'average_rating': 2.1, '_id': '603ab53b88dbe9c89607dfad'}, {'average_rating': 1.6, '_id': '603ab53b88dbe9c89607dfc3'}, {'average_rating': 3.5, '_id': '603ab53b88dbe9c89607dfd2'}, {'average_rating': 2.1, '_id': '603ab53b88dbe9c89607dfd4'}, {'average_rating': 3.4, '_id': '603ab53b88dbe9c89607dfd0'}, {'average_rating': 1.5, '_id': '603ab53b88dbe9c89607dfbe'}, {'average_rating': 4.1, '_id': '603ab53b88dbe9c89607dfb2'}, {'average_rating': 1.5, '_id': '603ab53b88dbe9c89607dfa9'}, {'average_rating': 4.2, '_id': '603ab53b88dbe9c89607dfd6'}, {'average_rating': 3.7, '_id': '603ab53b88dbe9c89607dfbd'}, {'average_rating': 4.5, '_id': '603ab53b88dbe9c89607dfcd'}, {'average_rating': 1.1, '_id': '603ab53b88dbe9c89607dfd5'}, {'average_rating': 3.3, '_id': '603ab53b88dbe9c89607dfd7'}, {'average_rating': 1.3, '_id': '603ab53b88dbe9c89607dfc5'}, {'average_rating': 5, '_id': '603ab53b88dbe9c89607dfd3'}, {'average_rating': 1.2, '_id': '603ab53b88dbe9c89607dfca'}, {'average_rating': 5, '_id': '603ab53b88dbe9c89607dfa8'}, {'average_rating': 4.2, '_id': '603ab53b88dbe9c89607dfbb'}, {'average_rating': 1.1, '_id': '603ab53b88dbe9c89607dfb6'}, {'average_rating': 4.9, '_id': '603ab53b88dbe9c89607dfc2'}, {'average_rating': 3.7, '_id': '603ab53b88dbe9c89607dfbf'}, {'average_rating': 1.8, '_id': '603ab53b88dbe9c89607dfc1'}, {'average_rating': 4.5, '_id': '603ab53b88dbe9c89607dfc9'}, {'average_rating': 1.5, '_id': '603ab53b88dbe9c89607dfb7'}, {'average_rating': 4.7, '_id': '603ab53b88dbe9c89607dfb8'}, {'average_rating': 2.2, '_id': '603ab53b88dbe9c89607dfce'}, {'average_rating': 1, '_id': '603ab53b88dbe9c89607dfd1'}, {'average_rating': 4.5, '_id': '603ab53b88dbe9c89607dfbc'}, {'average_rating': 2.8, '_id': '603ab53b88dbe9c89607dfc8'}, {'average_rating': 4.5, '_id': '603ab53b88dbe9c89607dfcc'}, {'average_rating': 2.3, '_id': '603ab53b88dbe9c89607dfb0'}, {'average_rating': 1.2, '_id': '603ab53b88dbe9c89607dfb3'}, {'average_rating': 1.2, '_id': '603ab53b88dbe9c89607dfb5'}, {'average_rating': 4.6, '_id': '603ab53b88dbe9c89607dfb9'}]\n"
     ]
    }
   ],
   "source": [
    "print(df)"
   ]
  },
  {
   "cell_type": "code",
   "execution_count": 48,
   "metadata": {},
   "outputs": [],
   "source": [
    "def extract_average(json):\n",
    "    try:\n",
    "        # Also convert to int since update_time will be string.  When comparing\n",
    "        # strings, \"10\" is smaller than \"2\".\n",
    "        return int(json['average_rating'])\n",
    "    except KeyError:\n",
    "        return 0\n",
    "\n",
    "df.sort(key=extract_average, reverse=True)"
   ]
  },
  {
   "cell_type": "code",
   "execution_count": 56,
   "metadata": {},
   "outputs": [
    {
     "name": "stdout",
     "output_type": "stream",
     "text": [
      "[{'average_rating': 5, '_id': '603ab53b88dbe9c89607dfac'}, {'average_rating': 5, '_id': '603ab53b88dbe9c89607dfb1'}, {'average_rating': 5, '_id': '603ab53b88dbe9c89607dfaf'}, {'average_rating': 5, '_id': '603ab53b88dbe9c89607dfd3'}, {'average_rating': 5, '_id': '603ab53b88dbe9c89607dfa8'}, {'average_rating': 4.1, '_id': '603ab53b88dbe9c89607dfba'}, {'average_rating': 4.8, '_id': '603ab53b88dbe9c89607dfd8'}, {'average_rating': 4, '_id': '603ab53b88dbe9c89607dfaa'}, {'average_rating': 4.1, '_id': '603ab53b88dbe9c89607dfb2'}, {'average_rating': 4.2, '_id': '603ab53b88dbe9c89607dfd6'}, {'average_rating': 4.5, '_id': '603ab53b88dbe9c89607dfcd'}, {'average_rating': 4.2, '_id': '603ab53b88dbe9c89607dfbb'}, {'average_rating': 4.9, '_id': '603ab53b88dbe9c89607dfc2'}, {'average_rating': 4.5, '_id': '603ab53b88dbe9c89607dfc9'}, {'average_rating': 4.7, '_id': '603ab53b88dbe9c89607dfb8'}, {'average_rating': 4.5, '_id': '603ab53b88dbe9c89607dfbc'}, {'average_rating': 4.5, '_id': '603ab53b88dbe9c89607dfcc'}, {'average_rating': 4.6, '_id': '603ab53b88dbe9c89607dfb9'}, {'average_rating': 3.3, '_id': '603ab53b88dbe9c89607dfae'}, {'average_rating': 3.9, '_id': '603ab53b88dbe9c89607dfcf'}, {'average_rating': 3.1, '_id': '603ab53b88dbe9c89607dfc7'}, {'average_rating': 3.1, '_id': '603ab53b88dbe9c89607dfcb'}, {'average_rating': 3.5, '_id': '603ab53b88dbe9c89607dfd2'}, {'average_rating': 3.4, '_id': '603ab53b88dbe9c89607dfd0'}, {'average_rating': 3.7, '_id': '603ab53b88dbe9c89607dfbd'}, {'average_rating': 3.3, '_id': '603ab53b88dbe9c89607dfd7'}, {'average_rating': 3.7, '_id': '603ab53b88dbe9c89607dfbf'}, {'average_rating': 2.5, '_id': '603ab53b88dbe9c89607dfa7'}, {'average_rating': 2, '_id': '603ab53b88dbe9c89607dfc6'}, {'average_rating': 2.9, '_id': '603ab53b88dbe9c89607dfc0'}, {'average_rating': 2.1, '_id': '603ab53b88dbe9c89607dfad'}, {'average_rating': 2.1, '_id': '603ab53b88dbe9c89607dfd4'}, {'average_rating': 2.2, '_id': '603ab53b88dbe9c89607dfce'}, {'average_rating': 2.8, '_id': '603ab53b88dbe9c89607dfc8'}, {'average_rating': 2.3, '_id': '603ab53b88dbe9c89607dfb0'}, {'average_rating': 1.1, '_id': '603ab53b88dbe9c89607dfc4'}, {'average_rating': 1.3, '_id': '603ab53b88dbe9c89607dfab'}, {'average_rating': 1.8, '_id': '603ab53b88dbe9c89607dfb4'}, {'average_rating': 1.6, '_id': '603ab53b88dbe9c89607dfc3'}, {'average_rating': 1.5, '_id': '603ab53b88dbe9c89607dfbe'}, {'average_rating': 1.5, '_id': '603ab53b88dbe9c89607dfa9'}, {'average_rating': 1.1, '_id': '603ab53b88dbe9c89607dfd5'}, {'average_rating': 1.3, '_id': '603ab53b88dbe9c89607dfc5'}, {'average_rating': 1.2, '_id': '603ab53b88dbe9c89607dfca'}, {'average_rating': 1.1, '_id': '603ab53b88dbe9c89607dfb6'}, {'average_rating': 1.8, '_id': '603ab53b88dbe9c89607dfc1'}, {'average_rating': 1.5, '_id': '603ab53b88dbe9c89607dfb7'}, {'average_rating': 1, '_id': '603ab53b88dbe9c89607dfd1'}, {'average_rating': 1.2, '_id': '603ab53b88dbe9c89607dfb3'}, {'average_rating': 1.2, '_id': '603ab53b88dbe9c89607dfb5'}]\n"
     ]
    }
   ],
   "source": [
    "print(df)\n",
    "df = df[0:9]"
   ]
  },
  {
   "cell_type": "code",
   "execution_count": 57,
   "metadata": {},
   "outputs": [
    {
     "name": "stdout",
     "output_type": "stream",
     "text": [
      "[{'average_rating': 5, '_id': '603ab53b88dbe9c89607dfac'}, {'average_rating': 5, '_id': '603ab53b88dbe9c89607dfb1'}, {'average_rating': 5, '_id': '603ab53b88dbe9c89607dfaf'}, {'average_rating': 5, '_id': '603ab53b88dbe9c89607dfd3'}, {'average_rating': 5, '_id': '603ab53b88dbe9c89607dfa8'}, {'average_rating': 4.1, '_id': '603ab53b88dbe9c89607dfba'}, {'average_rating': 4.8, '_id': '603ab53b88dbe9c89607dfd8'}, {'average_rating': 4, '_id': '603ab53b88dbe9c89607dfaa'}, {'average_rating': 4.1, '_id': '603ab53b88dbe9c89607dfb2'}]\n"
     ]
    }
   ],
   "source": [
    "print(ret)"
   ]
  },
  {
   "cell_type": "code",
   "execution_count": 58,
   "metadata": {},
   "outputs": [
    {
     "name": "stdout",
     "output_type": "stream",
     "text": [
      "['603ab53b88dbe9c89607dfac', '603ab53b88dbe9c89607dfb1', '603ab53b88dbe9c89607dfaf', '603ab53b88dbe9c89607dfd3', '603ab53b88dbe9c89607dfa8', '603ab53b88dbe9c89607dfba', '603ab53b88dbe9c89607dfd8', '603ab53b88dbe9c89607dfaa', '603ab53b88dbe9c89607dfb2']\n"
     ]
    }
   ],
   "source": [
    "rec_list = []\n",
    "for rec in df:\n",
    "    rec_list.append(rec['_id'])\n",
    "\n",
    "print(rec_list)"
   ]
  },
  {
   "cell_type": "code",
   "execution_count": 52,
   "metadata": {},
   "outputs": [],
   "source": [
    "from sentence_transformers import SentenceTransformer, util\n",
    "from datetime import date, datetime, timedelta\n"
   ]
  },
  {
   "cell_type": "code",
   "execution_count": 53,
   "metadata": {},
   "outputs": [],
   "source": [
    "model = SentenceTransformer('paraphrase-distilroberta-base-v1')\n",
    "\n",
    "# Two lists of sentences\n",
    "recommended_desc = ['Thin rice noodles stir-fried with egg, green onions, bean sprouts and ground peanuts.']\n",
    "\n",
    "new_desc = ['Wide rice noodles stir-fried with egg, sweet soy sauce, broccoli and carrots.']"
   ]
  },
  {
   "cell_type": "code",
   "execution_count": 54,
   "metadata": {},
   "outputs": [],
   "source": [
    "#Compute embedding for both lists\n",
    "embeddings1 = model.encode(sentences1, convert_to_tensor=True, show_progress_bar=False)\n",
    "embeddings2 = model.encode(sentences2, convert_to_tensor=True, show_progress_bar=False)"
   ]
  },
  {
   "cell_type": "code",
   "execution_count": 55,
   "metadata": {},
   "outputs": [
    {
     "name": "stdout",
     "output_type": "stream",
     "text": [
      "tensor([[0.5883]])\n"
     ]
    }
   ],
   "source": [
    "#Compute cosine-similarits\n",
    "cosine_scores = util.pytorch_cos_sim(embeddings1, embeddings2)\n",
    "\n",
    "print(cosine_scores)"
   ]
  },
  {
   "cell_type": "code",
   "execution_count": 56,
   "metadata": {},
   "outputs": [],
   "source": [
    "new_dish_query = \"\"\"query {\n",
    "  \t\tdishMany {\n",
    "\t\t\tdescription\n",
    "            createdAt\n",
    "\t\t\t_id\n",
    "  \t\t}}\"\"\"\n",
    "\n"
   ]
  },
  {
   "cell_type": "code",
   "execution_count": 57,
   "metadata": {},
   "outputs": [
    {
     "name": "stdout",
     "output_type": "stream",
     "text": [
      "200\n",
      "{\"data\":{\"dishMany\":[{\"description\":\"Fried rice with egg, onions, carrots, green peas and tomatoes topped with crispy chicken.\",\"createdAt\":\"2021-04-04T15:00:00.000Z\",\"_id\":\"603ab53b88dbe9c89607dfae\"},{\"description\":\"Sweet potato gratin, green beans, pan jus\",\"createdAt\":\"2021-04-04T15:00:00.000Z\",\"_id\":\"603ab53b88dbe9c89607dfc4\"},{\"description\":\"Thai Panang curry paste with coconut milk, kaffir lime leaves and bell peppers.\",\"createdAt\":\"2021-04-04T15:00:00.000Z\",\"_id\":\"603ab53b88dbe9c89607dfa7\"},{\"description\":\"Wide rice noodles stir-fried with egg, fresh chili, bell peppers, onions, green beans and basil leaves.\",\"createdAt\":\"2021-04-04T15:00:00.000Z\",\"_id\":\"603ab53b88dbe9c89607dfab\"},{\"description\":\"Your choice of meat with steamed vegetables, topped with peanut sauce.\",\"createdAt\":\"2021-04-04T15:00:00.000Z\",\"_id\":\"603ab53b88dbe9c89607dfac\"},{\"description\":\"VT turkey, cheddar, cranberry, mayo\",\"createdAt\":\"2021-04-04T15:00:00.000Z\",\"_id\":\"603ab53b88dbe9c89607dfb1\"},{\"description\":\"American cheese, crispy shallots, bacon, Baja sauce\",\"createdAt\":\"2021-04-04T15:00:00.000Z\",\"_id\":\"603ab53b88dbe9c89607dfb4\"},{\"description\":\"Pan seared pork chop, potato confit, green beans, cinnamon pear demi\",\"createdAt\":\"2021-04-04T15:00:00.000Z\",\"_id\":\"603ab53b88dbe9c89607dfba\"},{\"description\":\"the Classic with pepperoni\",\"createdAt\":\"2021-04-04T15:00:00.000Z\",\"_id\":\"603ab53b88dbe9c89607dfc6\"},{\"description\":\"beer battered north Atlantic cod served with fries, slaw and tartar sauce\",\"createdAt\":\"2021-04-04T15:00:00.000Z\",\"_id\":\"603ab53b88dbe9c89607dfcf\"},{\"description\":\"Butternut squash, nutritional yeast, garbanzo bean, scallion, shiitake bacon\",\"createdAt\":\"2021-04-04T15:00:00.000Z\",\"_id\":\"603ab53b88dbe9c89607dfc0\"},{\"description\":\"ripe tomato, roasted garlic, fontina, fresh mozzarella, basil dressed arugala on top\",\"createdAt\":\"2021-04-04T15:00:00.000Z\",\"_id\":\"603ab53b88dbe9c89607dfc7\"},{\"description\":\"sautéed chicken strips with bacon, garlic, basil, tossed in parmesan cream sauce and rigatoni\",\"createdAt\":\"2021-04-04T15:00:00.000Z\",\"_id\":\"603ab53b88dbe9c89607dfcb\"},{\"description\":\"Tomato sauce, spicy chicken, tomatoes, peppers, onions and crushed red peppers.\",\"createdAt\":\"2021-04-04T15:00:00.000Z\",\"_id\":\"603ab53b88dbe9c89607dfd8\"},{\"description\":\"Thai Green curry paste with coconut milk, basil leaves, bamboo shoots, eggplant, zucchini and bell peppers.\",\"createdAt\":\"2021-04-04T15:00:00.000Z\",\"_id\":\"603ab53b88dbe9c89607dfaa\"},{\"description\":\"Spicy fried rice with egg, fresh ground chili, onions, bell peppers, garlic, green beans and basil leaves.\",\"createdAt\":\"2021-04-04T15:00:00.000Z\",\"_id\":\"603ab53b88dbe9c89607dfaf\"},{\"description\":\"Wide rice noodles stir-fried with egg, sweet soy sauce, broccoli and carrots.\",\"createdAt\":\"2021-04-04T15:00:00.000Z\",\"_id\":\"603ab53b88dbe9c89607dfad\"},{\"description\":\"sautéed chicken strips with coconut milk, green curry, ginger, scallions and sweet bell peppers, served over confetti rice\",\"createdAt\":\"2021-04-04T15:00:00.000Z\",\"_id\":\"603ab53b88dbe9c89607dfc3\"},{\"description\":\"Tomato sauce, mozzarella and american cheeses, beef, peppers, mushrooms and onions.\",\"createdAt\":\"2021-04-04T15:00:00.000Z\",\"_id\":\"603ab53b88dbe9c89607dfd2\"},{\"description\":\"Add chicken, sweet Italian sausage or meatballs for $2.00\",\"createdAt\":\"2021-04-04T15:00:00.000Z\",\"_id\":\"603ab53b88dbe9c89607dfd4\"},{\"description\":\"beef tenderloin tips, grilled peppers, crispy onions, over confetti rice\",\"createdAt\":\"2021-04-04T15:00:00.000Z\",\"_id\":\"603ab53b88dbe9c89607dfd0\"},{\"description\":\"Corn Slaw, pickled onion, feta, radish, Pico, lime\",\"createdAt\":\"2021-04-04T15:00:00.000Z\",\"_id\":\"603ab53b88dbe9c89607dfbe\"},{\"description\":\"bacon, lettuce, tomato, Dijon aioli\",\"createdAt\":\"2021-04-04T15:00:00.000Z\",\"_id\":\"603ab53b88dbe9c89607dfb2\"},{\"description\":\"Fresh ground chilis, stir-fried with basil leaves, onions, fresh garlic, bamboo shoots, green beans and bell peppers.\",\"createdAt\":\"2021-04-04T15:00:00.000Z\",\"_id\":\"603ab53b88dbe9c89607dfa9\"},{\"description\":\"Prosciutto and chicken breast tossed in a creamy pesto sauce with tomatoes, broccoli and penne.\",\"createdAt\":\"2021-04-04T15:00:00.000Z\",\"_id\":\"603ab53b88dbe9c89607dfd6\"},{\"description\":\"Cheddar, avocado, grilled sourdough\",\"createdAt\":\"2021-04-04T15:00:00.000Z\",\"_id\":\"603ab53b88dbe9c89607dfbd\"},{\"description\":\"baby arugula, toasted almonds, lemon basil quinoa, herb honey glaze\",\"createdAt\":\"2021-04-04T15:00:00.000Z\",\"_id\":\"603ab53b88dbe9c89607dfcd\"},{\"description\":\"Crisp greens with classic Mediterranean veggies, pepperoncini, feta cheese, salami, and ham, served with greek dressing.\",\"createdAt\":\"2021-04-04T15:00:00.000Z\",\"_id\":\"603ab53b88dbe9c89607dfd5\"},{\"description\":\"Mozzarella topped with tomato sauce, fresh basil and extra virgin olive oil.\",\"createdAt\":\"2021-04-04T15:00:00.000Z\",\"_id\":\"603ab53b88dbe9c89607dfd7\"},{\"description\":\"your choice of seafood with shredded cabbage, cheddar, guacamole, sides Mexican rice, chipotle ranch and rustic salsa\",\"createdAt\":\"2021-04-04T15:00:00.000Z\",\"_id\":\"603ab53b88dbe9c89607dfc5\"},{\"description\":\"Seasoned fresh mozzarella, fresh basil and tomatoes served on a bed of romaine; finished with a drizzle of extra virgin olive oil and balsamic reduction.\",\"createdAt\":\"2021-04-04T15:00:00.000Z\",\"_id\":\"603ab53b88dbe9c89607dfd3\"},{\"description\":\"corn, peppers,onion, cheddar, Mexican spices, topped with tomato, arugula and guacamole\",\"createdAt\":\"2021-04-04T15:00:00.000Z\",\"_id\":\"603ab53b88dbe9c89607dfca\"},{\"description\":\"Thin rice noodles stir-fried with egg, green onions, bean sprouts and ground peanuts.\",\"createdAt\":\"2021-05-04T15:00:00.000Z\",\"_id\":\"603ab53b88dbe9c89607dfa8\"},{\"description\":\"Mashed potato, green beans, red wine demi\",\"createdAt\":\"2021-04-04T15:00:00.000Z\",\"_id\":\"603ab53b88dbe9c89607dfbb\"},{\"description\":\"Ground lamb, peas, onions, corn, carrots, mashed potato\",\"createdAt\":\"2021-04-04T15:00:00.000Z\",\"_id\":\"603ab53b88dbe9c89607dfb6\"},{\"description\":\"Fried white fish, slaw, tartar\",\"createdAt\":\"2021-04-04T15:00:00.000Z\",\"_id\":\"603ab53b88dbe9c89607dfc2\"},{\"description\":\"Bacon, lettuce, tomato, avocado, mayo\",\"createdAt\":\"2021-04-04T15:00:00.000Z\",\"_id\":\"603ab53b88dbe9c89607dfbf\"},{\"description\":\"Penne, cheddar, bread crumbs\",\"createdAt\":\"2021-04-04T15:00:00.000Z\",\"_id\":\"603ab53b88dbe9c89607dfc1\"},{\"description\":\"plant-based patty, BBQ, cheddar, avocado, crispy onion\",\"createdAt\":\"2021-04-04T15:00:00.000Z\",\"_id\":\"603ab53b88dbe9c89607dfc9\"},{\"description\":\"Corn Slaw, pickled onion, feta, radish, Pico, lime\",\"createdAt\":\"2021-04-04T15:00:00.000Z\",\"_id\":\"603ab53b88dbe9c89607dfb7\"},{\"description\":\"Lettuce, tomato, pickle, chipotle aioli\",\"createdAt\":\"2021-04-04T15:00:00.000Z\",\"_id\":\"603ab53b88dbe9c89607dfb8\"},{\"description\":\"sliced medium rare tenderloin, lettuce, tomato cheddar, red onion, served with Mexican rice, rustic salsa and guacamole\",\"createdAt\":\"2021-04-04T15:00:00.000Z\",\"_id\":\"603ab53b88dbe9c89607dfce\"},{\"description\":\"\",\"createdAt\":\"2021-04-04T15:00:00.000Z\",\"_id\":\"603ab53b88dbe9c89607dfd1\"},{\"description\":\"Lettuce, tomato, pickle\",\"createdAt\":\"2021-04-04T15:00:00.000Z\",\"_id\":\"603ab53b88dbe9c89607dfbc\"},{\"description\":\"add cheddar, Swiss, or American, add bacon\",\"createdAt\":\"2021-04-04T15:00:00.000Z\",\"_id\":\"603ab53b88dbe9c89607dfc8\"},{\"description\":\"with maple aioli on grilled brioche\",\"createdAt\":\"2021-04-04T15:00:00.000Z\",\"_id\":\"603ab53b88dbe9c89607dfcc\"},{\"description\":\"\",\"createdAt\":\"2021-04-04T15:00:00.000Z\",\"_id\":\"603ab53b88dbe9c89607dfb0\"},{\"description\":\"Spicy mayo, slaw, pickles\",\"createdAt\":\"2021-04-04T15:00:00.000Z\",\"_id\":\"603ab53b88dbe9c89607dfb3\"},{\"description\":\"Mashed potato, red wine demi glaze\",\"createdAt\":\"2021-04-04T15:00:00.000Z\",\"_id\":\"603ab53b88dbe9c89607dfb5\"},{\"description\":\"Winter Slaw, horseradish sauce\",\"createdAt\":\"2021-04-04T15:00:00.000Z\",\"_id\":\"603ab53b88dbe9c89607dfb9\"}]},\"extensions\":{\"tracing\":{\"version\":1,\"startTime\":\"2021-05-04T20:41:01.664Z\",\"endTime\":\"2021-05-04T20:41:01.700Z\",\"duration\":35309073,\"execution\":{\"resolvers\":[{\"path\":[\"dishMany\"],\"parentType\":\"Query\",\"fieldName\":\"dishMany\",\"returnType\":\"[Dish!]!\",\"startOffset\":426119,\"duration\":24228262},{\"path\":[\"dishMany\",0,\"description\"],\"parentType\":\"Dish\",\"fieldName\":\"description\",\"returnType\":\"String\",\"startOffset\":24729877,\"duration\":41454},{\"path\":[\"dishMany\",0,\"createdAt\"],\"parentType\":\"Dish\",\"fieldName\":\"createdAt\",\"returnType\":\"Date\",\"startOffset\":24780713,\"duration\":30961},{\"path\":[\"dishMany\",0,\"_id\"],\"parentType\":\"Dish\",\"fieldName\":\"_id\",\"returnType\":\"MongoID!\",\"startOffset\":24843634,\"duration\":21779},{\"path\":[\"dishMany\",1,\"description\"],\"parentType\":\"Dish\",\"fieldName\":\"description\",\"returnType\":\"String\",\"startOffset\":24894307,\"duration\":25152},{\"path\":[\"dishMany\",1,\"createdAt\"],\"parentType\":\"Dish\",\"fieldName\":\"createdAt\",\"returnType\":\"Date\",\"startOffset\":24926449,\"duration\":16524},{\"path\":[\"dishMany\",1,\"_id\"],\"parentType\":\"Dish\",\"fieldName\":\"_id\",\"returnType\":\"MongoID!\",\"startOffset\":24960531,\"duration\":22328},{\"path\":[\"dishMany\",2,\"description\"],\"parentType\":\"Dish\",\"fieldName\":\"description\",\"returnType\":\"String\",\"startOffset\":25000878,\"duration\":17891},{\"path\":[\"dishMany\",2,\"createdAt\"],\"parentType\":\"Dish\",\"fieldName\":\"createdAt\",\"returnType\":\"Date\",\"startOffset\":25025272,\"duration\":22266},{\"path\":[\"dishMany\",2,\"_id\"],\"parentType\":\"Dish\",\"fieldName\":\"_id\",\"returnType\":\"MongoID!\",\"startOffset\":25065429,\"duration\":17341},{\"path\":[\"dishMany\",3,\"description\"],\"parentType\":\"Dish\",\"fieldName\":\"description\",\"returnType\":\"String\",\"startOffset\":25114656,\"duration\":20543},{\"path\":[\"dishMany\",3,\"createdAt\"],\"parentType\":\"Dish\",\"fieldName\":\"createdAt\",\"returnType\":\"Date\",\"startOffset\":25141933,\"duration\":13760},{\"path\":[\"dishMany\",3,\"_id\"],\"parentType\":\"Dish\",\"fieldName\":\"_id\",\"returnType\":\"MongoID!\",\"startOffset\":25177164,\"duration\":16404},{\"path\":[\"dishMany\",4,\"description\"],\"parentType\":\"Dish\",\"fieldName\":\"description\",\"returnType\":\"String\",\"startOffset\":25210224,\"duration\":16597},{\"path\":[\"dishMany\",4,\"createdAt\"],\"parentType\":\"Dish\",\"fieldName\":\"createdAt\",\"returnType\":\"Date\",\"startOffset\":25237198,\"duration\":14480},{\"path\":[\"dishMany\",4,\"_id\"],\"parentType\":\"Dish\",\"fieldName\":\"_id\",\"returnType\":\"MongoID!\",\"startOffset\":25268164,\"duration\":16139},{\"path\":[\"dishMany\",5,\"description\"],\"parentType\":\"Dish\",\"fieldName\":\"description\",\"returnType\":\"String\",\"startOffset\":25306555,\"duration\":17975},{\"path\":[\"dishMany\",5,\"createdAt\"],\"parentType\":\"Dish\",\"fieldName\":\"createdAt\",\"returnType\":\"Date\",\"startOffset\":25330395,\"duration\":19074},{\"path\":[\"dishMany\",5,\"_id\"],\"parentType\":\"Dish\",\"fieldName\":\"_id\",\"returnType\":\"MongoID!\",\"startOffset\":25367700,\"duration\":16989},{\"path\":[\"dishMany\",6,\"description\"],\"parentType\":\"Dish\",\"fieldName\":\"description\",\"returnType\":\"String\",\"startOffset\":25401169,\"duration\":27732},{\"path\":[\"dishMany\",6,\"createdAt\"],\"parentType\":\"Dish\",\"fieldName\":\"createdAt\",\"returnType\":\"Date\",\"startOffset\":25436905,\"duration\":17471},{\"path\":[\"dishMany\",6,\"_id\"],\"parentType\":\"Dish\",\"fieldName\":\"_id\",\"returnType\":\"MongoID!\",\"startOffset\":25471594,\"duration\":21407},{\"path\":[\"dishMany\",7,\"description\"],\"parentType\":\"Dish\",\"fieldName\":\"description\",\"returnType\":\"String\",\"startOffset\":25509830,\"duration\":17144},{\"path\":[\"dishMany\",7,\"createdAt\"],\"parentType\":\"Dish\",\"fieldName\":\"createdAt\",\"returnType\":\"Date\",\"startOffset\":25532344,\"duration\":18668},{\"path\":[\"dishMany\",7,\"_id\"],\"parentType\":\"Dish\",\"fieldName\":\"_id\",\"returnType\":\"MongoID!\",\"startOffset\":25566471,\"duration\":15198},{\"path\":[\"dishMany\",8,\"description\"],\"parentType\":\"Dish\",\"fieldName\":\"description\",\"returnType\":\"String\",\"startOffset\":25597464,\"duration\":21342},{\"path\":[\"dishMany\",8,\"createdAt\"],\"parentType\":\"Dish\",\"fieldName\":\"createdAt\",\"returnType\":\"Date\",\"startOffset\":25624358,\"duration\":13340},{\"path\":[\"dishMany\",8,\"_id\"],\"parentType\":\"Dish\",\"fieldName\":\"_id\",\"returnType\":\"MongoID!\",\"startOffset\":25652941,\"duration\":20383},{\"path\":[\"dishMany\",9,\"description\"],\"parentType\":\"Dish\",\"fieldName\":\"description\",\"returnType\":\"String\",\"startOffset\":25689086,\"duration\":16365},{\"path\":[\"dishMany\",9,\"createdAt\"],\"parentType\":\"Dish\",\"fieldName\":\"createdAt\",\"returnType\":\"Date\",\"startOffset\":25710760,\"duration\":19680},{\"path\":[\"dishMany\",9,\"_id\"],\"parentType\":\"Dish\",\"fieldName\":\"_id\",\"returnType\":\"MongoID!\",\"startOffset\":25746830,\"duration\":19304},{\"path\":[\"dishMany\",10,\"description\"],\"parentType\":\"Dish\",\"fieldName\":\"description\",\"returnType\":\"String\",\"startOffset\":25791894,\"duration\":20434},{\"path\":[\"dishMany\",10,\"createdAt\"],\"parentType\":\"Dish\",\"fieldName\":\"createdAt\",\"returnType\":\"Date\",\"startOffset\":25818960,\"duration\":14578},{\"path\":[\"dishMany\",10,\"_id\"],\"parentType\":\"Dish\",\"fieldName\":\"_id\",\"returnType\":\"MongoID!\",\"startOffset\":25856526,\"duration\":18338},{\"path\":[\"dishMany\",11,\"description\"],\"parentType\":\"Dish\",\"fieldName\":\"description\",\"returnType\":\"String\",\"startOffset\":25891226,\"duration\":16412},{\"path\":[\"dishMany\",11,\"createdAt\"],\"parentType\":\"Dish\",\"fieldName\":\"createdAt\",\"returnType\":\"Date\",\"startOffset\":25919247,\"duration\":14674},{\"path\":[\"dishMany\",11,\"_id\"],\"parentType\":\"Dish\",\"fieldName\":\"_id\",\"returnType\":\"MongoID!\",\"startOffset\":25952692,\"duration\":17717},{\"path\":[\"dishMany\",12,\"description\"],\"parentType\":\"Dish\",\"fieldName\":\"description\",\"returnType\":\"String\",\"startOffset\":25993641,\"duration\":18711},{\"path\":[\"dishMany\",12,\"createdAt\"],\"parentType\":\"Dish\",\"fieldName\":\"createdAt\",\"returnType\":\"Date\",\"startOffset\":26018416,\"duration\":14080},{\"path\":[\"dishMany\",12,\"_id\"],\"parentType\":\"Dish\",\"fieldName\":\"_id\",\"returnType\":\"MongoID!\",\"startOffset\":26055087,\"duration\":16920},{\"path\":[\"dishMany\",13,\"description\"],\"parentType\":\"Dish\",\"fieldName\":\"description\",\"returnType\":\"String\",\"startOffset\":26088109,\"duration\":16948},{\"path\":[\"dishMany\",13,\"createdAt\"],\"parentType\":\"Dish\",\"fieldName\":\"createdAt\",\"returnType\":\"Date\",\"startOffset\":26116087,\"duration\":14233},{\"path\":[\"dishMany\",13,\"_id\"],\"parentType\":\"Dish\",\"fieldName\":\"_id\",\"returnType\":\"MongoID!\",\"startOffset\":26148350,\"duration\":18990},{\"path\":[\"dishMany\",14,\"description\"],\"parentType\":\"Dish\",\"fieldName\":\"description\",\"returnType\":\"String\",\"startOffset\":26190230,\"duration\":18691},{\"path\":[\"dishMany\",14,\"createdAt\"],\"parentType\":\"Dish\",\"fieldName\":\"createdAt\",\"returnType\":\"Date\",\"startOffset\":26214660,\"duration\":18837},{\"path\":[\"dishMany\",14,\"_id\"],\"parentType\":\"Dish\",\"fieldName\":\"_id\",\"returnType\":\"MongoID!\",\"startOffset\":26250064,\"duration\":15074},{\"path\":[\"dishMany\",15,\"description\"],\"parentType\":\"Dish\",\"fieldName\":\"description\",\"returnType\":\"String\",\"startOffset\":26280282,\"duration\":21698},{\"path\":[\"dishMany\",15,\"createdAt\"],\"parentType\":\"Dish\",\"fieldName\":\"createdAt\",\"returnType\":\"Date\",\"startOffset\":26307627,\"duration\":14057},{\"path\":[\"dishMany\",15,\"_id\"],\"parentType\":\"Dish\",\"fieldName\":\"_id\",\"returnType\":\"MongoID!\",\"startOffset\":26337785,\"duration\":46543},{\"path\":[\"dishMany\",16,\"description\"],\"parentType\":\"Dish\",\"fieldName\":\"description\",\"returnType\":\"String\",\"startOffset\":26406309,\"duration\":18361},{\"path\":[\"dishMany\",16,\"createdAt\"],\"parentType\":\"Dish\",\"fieldName\":\"createdAt\",\"returnType\":\"Date\",\"startOffset\":27926263,\"duration\":27765},{\"path\":[\"dishMany\",16,\"_id\"],\"parentType\":\"Dish\",\"fieldName\":\"_id\",\"returnType\":\"MongoID!\",\"startOffset\":27976051,\"duration\":27466},{\"path\":[\"dishMany\",17,\"description\"],\"parentType\":\"Dish\",\"fieldName\":\"description\",\"returnType\":\"String\",\"startOffset\":28025847,\"duration\":42427},{\"path\":[\"dishMany\",17,\"createdAt\"],\"parentType\":\"Dish\",\"fieldName\":\"createdAt\",\"returnType\":\"Date\",\"startOffset\":28076484,\"duration\":39247},{\"path\":[\"dishMany\",17,\"_id\"],\"parentType\":\"Dish\",\"fieldName\":\"_id\",\"returnType\":\"MongoID!\",\"startOffset\":28138889,\"duration\":29368},{\"path\":[\"dishMany\",18,\"description\"],\"parentType\":\"Dish\",\"fieldName\":\"description\",\"returnType\":\"String\",\"startOffset\":28203997,\"duration\":21583},{\"path\":[\"dishMany\",18,\"createdAt\"],\"parentType\":\"Dish\",\"fieldName\":\"createdAt\",\"returnType\":\"Date\",\"startOffset\":28242289,\"duration\":26990},{\"path\":[\"dishMany\",18,\"_id\"],\"parentType\":\"Dish\",\"fieldName\":\"_id\",\"returnType\":\"MongoID!\",\"startOffset\":28292277,\"duration\":17521},{\"path\":[\"dishMany\",19,\"description\"],\"parentType\":\"Dish\",\"fieldName\":\"description\",\"returnType\":\"String\",\"startOffset\":28326000,\"duration\":16278},{\"path\":[\"dishMany\",19,\"createdAt\"],\"parentType\":\"Dish\",\"fieldName\":\"createdAt\",\"returnType\":\"Date\",\"startOffset\":28353031,\"duration\":16247},{\"path\":[\"dishMany\",19,\"_id\"],\"parentType\":\"Dish\",\"fieldName\":\"_id\",\"returnType\":\"MongoID!\",\"startOffset\":28391357,\"duration\":16723},{\"path\":[\"dishMany\",20,\"description\"],\"parentType\":\"Dish\",\"fieldName\":\"description\",\"returnType\":\"String\",\"startOffset\":28429568,\"duration\":16985},{\"path\":[\"dishMany\",20,\"createdAt\"],\"parentType\":\"Dish\",\"fieldName\":\"createdAt\",\"returnType\":\"Date\",\"startOffset\":28452172,\"duration\":13855},{\"path\":[\"dishMany\",20,\"_id\"],\"parentType\":\"Dish\",\"fieldName\":\"_id\",\"returnType\":\"MongoID!\",\"startOffset\":28487314,\"duration\":16742},{\"path\":[\"dishMany\",21,\"description\"],\"parentType\":\"Dish\",\"fieldName\":\"description\",\"returnType\":\"String\",\"startOffset\":28521406,\"duration\":26101},{\"path\":[\"dishMany\",21,\"createdAt\"],\"parentType\":\"Dish\",\"fieldName\":\"createdAt\",\"returnType\":\"Date\",\"startOffset\":28555356,\"duration\":17022},{\"path\":[\"dishMany\",21,\"_id\"],\"parentType\":\"Dish\",\"fieldName\":\"_id\",\"returnType\":\"MongoID!\",\"startOffset\":28588651,\"duration\":16499},{\"path\":[\"dishMany\",22,\"description\"],\"parentType\":\"Dish\",\"fieldName\":\"description\",\"returnType\":\"String\",\"startOffset\":28630145,\"duration\":22067},{\"path\":[\"dishMany\",22,\"createdAt\"],\"parentType\":\"Dish\",\"fieldName\":\"createdAt\",\"returnType\":\"Date\",\"startOffset\":28659435,\"duration\":23045},{\"path\":[\"dishMany\",22,\"_id\"],\"parentType\":\"Dish\",\"fieldName\":\"_id\",\"returnType\":\"MongoID!\",\"startOffset\":28702246,\"duration\":17324},{\"path\":[\"dishMany\",23,\"description\"],\"parentType\":\"Dish\",\"fieldName\":\"description\",\"returnType\":\"String\",\"startOffset\":28736630,\"duration\":22561},{\"path\":[\"dishMany\",23,\"createdAt\"],\"parentType\":\"Dish\",\"fieldName\":\"createdAt\",\"returnType\":\"Date\",\"startOffset\":28765331,\"duration\":16115},{\"path\":[\"dishMany\",23,\"_id\"],\"parentType\":\"Dish\",\"fieldName\":\"_id\",\"returnType\":\"MongoID!\",\"startOffset\":28799307,\"duration\":23759},{\"path\":[\"dishMany\",24,\"description\"],\"parentType\":\"Dish\",\"fieldName\":\"description\",\"returnType\":\"String\",\"startOffset\":28842901,\"duration\":19695},{\"path\":[\"dishMany\",24,\"createdAt\"],\"parentType\":\"Dish\",\"fieldName\":\"createdAt\",\"returnType\":\"Date\",\"startOffset\":28868462,\"duration\":21118},{\"path\":[\"dishMany\",24,\"_id\"],\"parentType\":\"Dish\",\"fieldName\":\"_id\",\"returnType\":\"MongoID!\",\"startOffset\":28906977,\"duration\":16275},{\"path\":[\"dishMany\",25,\"description\"],\"parentType\":\"Dish\",\"fieldName\":\"description\",\"returnType\":\"String\",\"startOffset\":28940896,\"duration\":23828},{\"path\":[\"dishMany\",25,\"createdAt\"],\"parentType\":\"Dish\",\"fieldName\":\"createdAt\",\"returnType\":\"Date\",\"startOffset\":28971248,\"duration\":14936},{\"path\":[\"dishMany\",25,\"_id\"],\"parentType\":\"Dish\",\"fieldName\":\"_id\",\"returnType\":\"MongoID!\",\"startOffset\":29003281,\"duration\":22432},{\"path\":[\"dishMany\",26,\"description\"],\"parentType\":\"Dish\",\"fieldName\":\"description\",\"returnType\":\"String\",\"startOffset\":29044957,\"duration\":18774},{\"path\":[\"dishMany\",26,\"createdAt\"],\"parentType\":\"Dish\",\"fieldName\":\"createdAt\",\"returnType\":\"Date\",\"startOffset\":29075453,\"duration\":18733},{\"path\":[\"dishMany\",26,\"_id\"],\"parentType\":\"Dish\",\"fieldName\":\"_id\",\"returnType\":\"MongoID!\",\"startOffset\":29114137,\"duration\":17192},{\"path\":[\"dishMany\",27,\"description\"],\"parentType\":\"Dish\",\"fieldName\":\"description\",\"returnType\":\"String\",\"startOffset\":29153050,\"duration\":18921},{\"path\":[\"dishMany\",27,\"createdAt\"],\"parentType\":\"Dish\",\"fieldName\":\"createdAt\",\"returnType\":\"Date\",\"startOffset\":29178451,\"duration\":20033},{\"path\":[\"dishMany\",27,\"_id\"],\"parentType\":\"Dish\",\"fieldName\":\"_id\",\"returnType\":\"MongoID!\",\"startOffset\":29216498,\"duration\":17124},{\"path\":[\"dishMany\",28,\"description\"],\"parentType\":\"Dish\",\"fieldName\":\"description\",\"returnType\":\"String\",\"startOffset\":29251038,\"duration\":22278},{\"path\":[\"dishMany\",28,\"createdAt\"],\"parentType\":\"Dish\",\"fieldName\":\"createdAt\",\"returnType\":\"Date\",\"startOffset\":29279642,\"duration\":15717},{\"path\":[\"dishMany\",28,\"_id\"],\"parentType\":\"Dish\",\"fieldName\":\"_id\",\"returnType\":\"MongoID!\",\"startOffset\":29315738,\"duration\":22183},{\"path\":[\"dishMany\",29,\"description\"],\"parentType\":\"Dish\",\"fieldName\":\"description\",\"returnType\":\"String\",\"startOffset\":29356190,\"duration\":19343},{\"path\":[\"dishMany\",29,\"createdAt\"],\"parentType\":\"Dish\",\"fieldName\":\"createdAt\",\"returnType\":\"Date\",\"startOffset\":29382027,\"duration\":17693},{\"path\":[\"dishMany\",29,\"_id\"],\"parentType\":\"Dish\",\"fieldName\":\"_id\",\"returnType\":\"MongoID!\",\"startOffset\":29417522,\"duration\":16832},{\"path\":[\"dishMany\",30,\"description\"],\"parentType\":\"Dish\",\"fieldName\":\"description\",\"returnType\":\"String\",\"startOffset\":29456787,\"duration\":24093},{\"path\":[\"dishMany\",30,\"createdAt\"],\"parentType\":\"Dish\",\"fieldName\":\"createdAt\",\"returnType\":\"Date\",\"startOffset\":29487507,\"duration\":14882},{\"path\":[\"dishMany\",30,\"_id\"],\"parentType\":\"Dish\",\"fieldName\":\"_id\",\"returnType\":\"MongoID!\",\"startOffset\":29524369,\"duration\":17407},{\"path\":[\"dishMany\",31,\"description\"],\"parentType\":\"Dish\",\"fieldName\":\"description\",\"returnType\":\"String\",\"startOffset\":29559233,\"duration\":23120},{\"path\":[\"dishMany\",31,\"createdAt\"],\"parentType\":\"Dish\",\"fieldName\":\"createdAt\",\"returnType\":\"Date\",\"startOffset\":29594554,\"duration\":17297},{\"path\":[\"dishMany\",31,\"_id\"],\"parentType\":\"Dish\",\"fieldName\":\"_id\",\"returnType\":\"MongoID!\",\"startOffset\":29630088,\"duration\":16950},{\"path\":[\"dishMany\",32,\"description\"],\"parentType\":\"Dish\",\"fieldName\":\"description\",\"returnType\":\"String\",\"startOffset\":29669977,\"duration\":18670},{\"path\":[\"dishMany\",32,\"createdAt\"],\"parentType\":\"Dish\",\"fieldName\":\"createdAt\",\"returnType\":\"Date\",\"startOffset\":29694944,\"duration\":16154},{\"path\":[\"dishMany\",32,\"_id\"],\"parentType\":\"Dish\",\"fieldName\":\"_id\",\"returnType\":\"MongoID!\",\"startOffset\":29734627,\"duration\":18800},{\"path\":[\"dishMany\",33,\"description\"],\"parentType\":\"Dish\",\"fieldName\":\"description\",\"returnType\":\"String\",\"startOffset\":29770786,\"duration\":24184},{\"path\":[\"dishMany\",33,\"createdAt\"],\"parentType\":\"Dish\",\"fieldName\":\"createdAt\",\"returnType\":\"Date\",\"startOffset\":29801259,\"duration\":16340},{\"path\":[\"dishMany\",33,\"_id\"],\"parentType\":\"Dish\",\"fieldName\":\"_id\",\"returnType\":\"MongoID!\",\"startOffset\":29836328,\"duration\":19037},{\"path\":[\"dishMany\",34,\"description\"],\"parentType\":\"Dish\",\"fieldName\":\"description\",\"returnType\":\"String\",\"startOffset\":29882595,\"duration\":21926},{\"path\":[\"dishMany\",34,\"createdAt\"],\"parentType\":\"Dish\",\"fieldName\":\"createdAt\",\"returnType\":\"Date\",\"startOffset\":29912555,\"duration\":25293},{\"path\":[\"dishMany\",34,\"_id\"],\"parentType\":\"Dish\",\"fieldName\":\"_id\",\"returnType\":\"MongoID!\",\"startOffset\":29959780,\"duration\":22051},{\"path\":[\"dishMany\",35,\"description\"],\"parentType\":\"Dish\",\"fieldName\":\"description\",\"returnType\":\"String\",\"startOffset\":30003743,\"duration\":28322},{\"path\":[\"dishMany\",35,\"createdAt\"],\"parentType\":\"Dish\",\"fieldName\":\"createdAt\",\"returnType\":\"Date\",\"startOffset\":30041060,\"duration\":19114},{\"path\":[\"dishMany\",35,\"_id\"],\"parentType\":\"Dish\",\"fieldName\":\"_id\",\"returnType\":\"MongoID!\",\"startOffset\":30081710,\"duration\":27519},{\"path\":[\"dishMany\",36,\"description\"],\"parentType\":\"Dish\",\"fieldName\":\"description\",\"returnType\":\"String\",\"startOffset\":30130742,\"duration\":22838},{\"path\":[\"dishMany\",36,\"createdAt\"],\"parentType\":\"Dish\",\"fieldName\":\"createdAt\",\"returnType\":\"Date\",\"startOffset\":30161183,\"duration\":26192},{\"path\":[\"dishMany\",36,\"_id\"],\"parentType\":\"Dish\",\"fieldName\":\"_id\",\"returnType\":\"MongoID!\",\"startOffset\":30210143,\"duration\":21897},{\"path\":[\"dishMany\",37,\"description\"],\"parentType\":\"Dish\",\"fieldName\":\"description\",\"returnType\":\"String\",\"startOffset\":30252962,\"duration\":29042},{\"path\":[\"dishMany\",37,\"createdAt\"],\"parentType\":\"Dish\",\"fieldName\":\"createdAt\",\"returnType\":\"Date\",\"startOffset\":30290031,\"duration\":20036},{\"path\":[\"dishMany\",37,\"_id\"],\"parentType\":\"Dish\",\"fieldName\":\"_id\",\"returnType\":\"MongoID!\",\"startOffset\":30331729,\"duration\":108569},{\"path\":[\"dishMany\",38,\"description\"],\"parentType\":\"Dish\",\"fieldName\":\"description\",\"returnType\":\"String\",\"startOffset\":30469381,\"duration\":23029},{\"path\":[\"dishMany\",38,\"createdAt\"],\"parentType\":\"Dish\",\"fieldName\":\"createdAt\",\"returnType\":\"Date\",\"startOffset\":30506070,\"duration\":21877},{\"path\":[\"dishMany\",38,\"_id\"],\"parentType\":\"Dish\",\"fieldName\":\"_id\",\"returnType\":\"MongoID!\",\"startOffset\":30553682,\"duration\":23814},{\"path\":[\"dishMany\",39,\"description\"],\"parentType\":\"Dish\",\"fieldName\":\"description\",\"returnType\":\"String\",\"startOffset\":30604646,\"duration\":24126},{\"path\":[\"dishMany\",39,\"createdAt\"],\"parentType\":\"Dish\",\"fieldName\":\"createdAt\",\"returnType\":\"Date\",\"startOffset\":30637105,\"duration\":19033},{\"path\":[\"dishMany\",39,\"_id\"],\"parentType\":\"Dish\",\"fieldName\":\"_id\",\"returnType\":\"MongoID!\",\"startOffset\":30683675,\"duration\":22537},{\"path\":[\"dishMany\",40,\"description\"],\"parentType\":\"Dish\",\"fieldName\":\"description\",\"returnType\":\"String\",\"startOffset\":30729011,\"duration\":22361},{\"path\":[\"dishMany\",40,\"createdAt\"],\"parentType\":\"Dish\",\"fieldName\":\"createdAt\",\"returnType\":\"Date\",\"startOffset\":30766114,\"duration\":23667},{\"path\":[\"dishMany\",40,\"_id\"],\"parentType\":\"Dish\",\"fieldName\":\"_id\",\"returnType\":\"MongoID!\",\"startOffset\":30811522,\"duration\":22349},{\"path\":[\"dishMany\",41,\"description\"],\"parentType\":\"Dish\",\"fieldName\":\"description\",\"returnType\":\"String\",\"startOffset\":30860975,\"duration\":25158},{\"path\":[\"dishMany\",41,\"createdAt\"],\"parentType\":\"Dish\",\"fieldName\":\"createdAt\",\"returnType\":\"Date\",\"startOffset\":30894069,\"duration\":18792},{\"path\":[\"dishMany\",41,\"_id\"],\"parentType\":\"Dish\",\"fieldName\":\"_id\",\"returnType\":\"MongoID!\",\"startOffset\":30939589,\"duration\":26587},{\"path\":[\"dishMany\",42,\"description\"],\"parentType\":\"Dish\",\"fieldName\":\"description\",\"returnType\":\"String\",\"startOffset\":30989705,\"duration\":28520},{\"path\":[\"dishMany\",42,\"createdAt\"],\"parentType\":\"Dish\",\"fieldName\":\"createdAt\",\"returnType\":\"Date\",\"startOffset\":34342643,\"duration\":57348},{\"path\":[\"dishMany\",42,\"_id\"],\"parentType\":\"Dish\",\"fieldName\":\"_id\",\"returnType\":\"MongoID!\",\"startOffset\":34429265,\"duration\":29339},{\"path\":[\"dishMany\",43,\"description\"],\"parentType\":\"Dish\",\"fieldName\":\"description\",\"returnType\":\"String\",\"startOffset\":34485344,\"duration\":28773},{\"path\":[\"dishMany\",43,\"createdAt\"],\"parentType\":\"Dish\",\"fieldName\":\"createdAt\",\"returnType\":\"Date\",\"startOffset\":34522643,\"duration\":24886},{\"path\":[\"dishMany\",43,\"_id\"],\"parentType\":\"Dish\",\"fieldName\":\"_id\",\"returnType\":\"MongoID!\",\"startOffset\":34570636,\"duration\":21933},{\"path\":[\"dishMany\",44,\"description\"],\"parentType\":\"Dish\",\"fieldName\":\"description\",\"returnType\":\"String\",\"startOffset\":34612174,\"duration\":25030},{\"path\":[\"dishMany\",44,\"createdAt\"],\"parentType\":\"Dish\",\"fieldName\":\"createdAt\",\"returnType\":\"Date\",\"startOffset\":34644514,\"duration\":18153},{\"path\":[\"dishMany\",44,\"_id\"],\"parentType\":\"Dish\",\"fieldName\":\"_id\",\"returnType\":\"MongoID!\",\"startOffset\":34683359,\"duration\":29143},{\"path\":[\"dishMany\",45,\"description\"],\"parentType\":\"Dish\",\"fieldName\":\"description\",\"returnType\":\"String\",\"startOffset\":34734398,\"duration\":19661},{\"path\":[\"dishMany\",45,\"createdAt\"],\"parentType\":\"Dish\",\"fieldName\":\"createdAt\",\"returnType\":\"Date\",\"startOffset\":34761775,\"duration\":23817},{\"path\":[\"dishMany\",45,\"_id\"],\"parentType\":\"Dish\",\"fieldName\":\"_id\",\"returnType\":\"MongoID!\",\"startOffset\":34806891,\"duration\":18161},{\"path\":[\"dishMany\",46,\"description\"],\"parentType\":\"Dish\",\"fieldName\":\"description\",\"returnType\":\"String\",\"startOffset\":34844392,\"duration\":24147},{\"path\":[\"dishMany\",46,\"createdAt\"],\"parentType\":\"Dish\",\"fieldName\":\"createdAt\",\"returnType\":\"Date\",\"startOffset\":34875443,\"duration\":20273},{\"path\":[\"dishMany\",46,\"_id\"],\"parentType\":\"Dish\",\"fieldName\":\"_id\",\"returnType\":\"MongoID!\",\"startOffset\":34915080,\"duration\":15095},{\"path\":[\"dishMany\",47,\"description\"],\"parentType\":\"Dish\",\"fieldName\":\"description\",\"returnType\":\"String\",\"startOffset\":34947398,\"duration\":22625},{\"path\":[\"dishMany\",47,\"createdAt\"],\"parentType\":\"Dish\",\"fieldName\":\"createdAt\",\"returnType\":\"Date\",\"startOffset\":34976211,\"duration\":15054},{\"path\":[\"dishMany\",47,\"_id\"],\"parentType\":\"Dish\",\"fieldName\":\"_id\",\"returnType\":\"MongoID!\",\"startOffset\":35008229,\"duration\":21629},{\"path\":[\"dishMany\",48,\"description\"],\"parentType\":\"Dish\",\"fieldName\":\"description\",\"returnType\":\"String\",\"startOffset\":35047202,\"duration\":23408},{\"path\":[\"dishMany\",48,\"createdAt\"],\"parentType\":\"Dish\",\"fieldName\":\"createdAt\",\"returnType\":\"Date\",\"startOffset\":35081543,\"duration\":15206},{\"path\":[\"dishMany\",48,\"_id\"],\"parentType\":\"Dish\",\"fieldName\":\"_id\",\"returnType\":\"MongoID!\",\"startOffset\":35118137,\"duration\":15389},{\"path\":[\"dishMany\",49,\"description\"],\"parentType\":\"Dish\",\"fieldName\":\"description\",\"returnType\":\"String\",\"startOffset\":35157151,\"duration\":17298},{\"path\":[\"dishMany\",49,\"createdAt\"],\"parentType\":\"Dish\",\"fieldName\":\"createdAt\",\"returnType\":\"Date\",\"startOffset\":35179893,\"duration\":15752},{\"path\":[\"dishMany\",49,\"_id\"],\"parentType\":\"Dish\",\"fieldName\":\"_id\",\"returnType\":\"MongoID!\",\"startOffset\":35221570,\"duration\":22077}]}}}}\n",
      "\n"
     ]
    }
   ],
   "source": [
    "url = 'https://palette-backend.herokuapp.com/graphql'\n",
    "r = requests.post(url, json={'query': new_dish_query})\n",
    "print(r.status_code)\n",
    "print(r.text)"
   ]
  },
  {
   "cell_type": "code",
   "execution_count": 58,
   "metadata": {},
   "outputs": [],
   "source": [
    "json_data = json.loads(r.text)\n",
    "df = json_data['data']['dishMany']"
   ]
  },
  {
   "cell_type": "code",
   "execution_count": 59,
   "metadata": {
    "scrolled": true
   },
   "outputs": [
    {
     "name": "stdout",
     "output_type": "stream",
     "text": [
      "[{'description': 'Fried rice with egg, onions, carrots, green peas and tomatoes topped with crispy chicken.', 'createdAt': '2021-04-04T15:00:00.000Z', '_id': '603ab53b88dbe9c89607dfae'}, {'description': 'Sweet potato gratin, green beans, pan jus', 'createdAt': '2021-04-04T15:00:00.000Z', '_id': '603ab53b88dbe9c89607dfc4'}, {'description': 'Thai Panang curry paste with coconut milk, kaffir lime leaves and bell peppers.', 'createdAt': '2021-04-04T15:00:00.000Z', '_id': '603ab53b88dbe9c89607dfa7'}, {'description': 'Wide rice noodles stir-fried with egg, fresh chili, bell peppers, onions, green beans and basil leaves.', 'createdAt': '2021-04-04T15:00:00.000Z', '_id': '603ab53b88dbe9c89607dfab'}, {'description': 'Your choice of meat with steamed vegetables, topped with peanut sauce.', 'createdAt': '2021-04-04T15:00:00.000Z', '_id': '603ab53b88dbe9c89607dfac'}, {'description': 'VT turkey, cheddar, cranberry, mayo', 'createdAt': '2021-04-04T15:00:00.000Z', '_id': '603ab53b88dbe9c89607dfb1'}, {'description': 'American cheese, crispy shallots, bacon, Baja sauce', 'createdAt': '2021-04-04T15:00:00.000Z', '_id': '603ab53b88dbe9c89607dfb4'}, {'description': 'Pan seared pork chop, potato confit, green beans, cinnamon pear demi', 'createdAt': '2021-04-04T15:00:00.000Z', '_id': '603ab53b88dbe9c89607dfba'}, {'description': 'the Classic with pepperoni', 'createdAt': '2021-04-04T15:00:00.000Z', '_id': '603ab53b88dbe9c89607dfc6'}, {'description': 'beer battered north Atlantic cod served with fries, slaw and tartar sauce', 'createdAt': '2021-04-04T15:00:00.000Z', '_id': '603ab53b88dbe9c89607dfcf'}, {'description': 'Butternut squash, nutritional yeast, garbanzo bean, scallion, shiitake bacon', 'createdAt': '2021-04-04T15:00:00.000Z', '_id': '603ab53b88dbe9c89607dfc0'}, {'description': 'ripe tomato, roasted garlic, fontina, fresh mozzarella, basil dressed arugala on top', 'createdAt': '2021-04-04T15:00:00.000Z', '_id': '603ab53b88dbe9c89607dfc7'}, {'description': 'sautéed chicken strips with bacon, garlic, basil, tossed in parmesan cream sauce and rigatoni', 'createdAt': '2021-04-04T15:00:00.000Z', '_id': '603ab53b88dbe9c89607dfcb'}, {'description': 'Tomato sauce, spicy chicken, tomatoes, peppers, onions and crushed red peppers.', 'createdAt': '2021-04-04T15:00:00.000Z', '_id': '603ab53b88dbe9c89607dfd8'}, {'description': 'Thai Green curry paste with coconut milk, basil leaves, bamboo shoots, eggplant, zucchini and bell peppers.', 'createdAt': '2021-04-04T15:00:00.000Z', '_id': '603ab53b88dbe9c89607dfaa'}, {'description': 'Spicy fried rice with egg, fresh ground chili, onions, bell peppers, garlic, green beans and basil leaves.', 'createdAt': '2021-04-04T15:00:00.000Z', '_id': '603ab53b88dbe9c89607dfaf'}, {'description': 'Wide rice noodles stir-fried with egg, sweet soy sauce, broccoli and carrots.', 'createdAt': '2021-04-04T15:00:00.000Z', '_id': '603ab53b88dbe9c89607dfad'}, {'description': 'sautéed chicken strips with coconut milk, green curry, ginger, scallions and sweet bell peppers, served over confetti rice', 'createdAt': '2021-04-04T15:00:00.000Z', '_id': '603ab53b88dbe9c89607dfc3'}, {'description': 'Tomato sauce, mozzarella and american cheeses, beef, peppers, mushrooms and onions.', 'createdAt': '2021-04-04T15:00:00.000Z', '_id': '603ab53b88dbe9c89607dfd2'}, {'description': 'Add chicken, sweet Italian sausage or meatballs for $2.00', 'createdAt': '2021-04-04T15:00:00.000Z', '_id': '603ab53b88dbe9c89607dfd4'}, {'description': 'beef tenderloin tips, grilled peppers, crispy onions, over confetti rice', 'createdAt': '2021-04-04T15:00:00.000Z', '_id': '603ab53b88dbe9c89607dfd0'}, {'description': 'Corn Slaw, pickled onion, feta, radish, Pico, lime', 'createdAt': '2021-04-04T15:00:00.000Z', '_id': '603ab53b88dbe9c89607dfbe'}, {'description': 'bacon, lettuce, tomato, Dijon aioli', 'createdAt': '2021-04-04T15:00:00.000Z', '_id': '603ab53b88dbe9c89607dfb2'}, {'description': 'Fresh ground chilis, stir-fried with basil leaves, onions, fresh garlic, bamboo shoots, green beans and bell peppers.', 'createdAt': '2021-04-04T15:00:00.000Z', '_id': '603ab53b88dbe9c89607dfa9'}, {'description': 'Prosciutto and chicken breast tossed in a creamy pesto sauce with tomatoes, broccoli and penne.', 'createdAt': '2021-04-04T15:00:00.000Z', '_id': '603ab53b88dbe9c89607dfd6'}, {'description': 'Cheddar, avocado, grilled sourdough', 'createdAt': '2021-04-04T15:00:00.000Z', '_id': '603ab53b88dbe9c89607dfbd'}, {'description': 'baby arugula, toasted almonds, lemon basil quinoa, herb honey glaze', 'createdAt': '2021-04-04T15:00:00.000Z', '_id': '603ab53b88dbe9c89607dfcd'}, {'description': 'Crisp greens with classic Mediterranean veggies, pepperoncini, feta cheese, salami, and ham, served with greek dressing.', 'createdAt': '2021-04-04T15:00:00.000Z', '_id': '603ab53b88dbe9c89607dfd5'}, {'description': 'Mozzarella topped with tomato sauce, fresh basil and extra virgin olive oil.', 'createdAt': '2021-04-04T15:00:00.000Z', '_id': '603ab53b88dbe9c89607dfd7'}, {'description': 'your choice of seafood with shredded cabbage, cheddar, guacamole, sides Mexican rice, chipotle ranch and rustic salsa', 'createdAt': '2021-04-04T15:00:00.000Z', '_id': '603ab53b88dbe9c89607dfc5'}, {'description': 'Seasoned fresh mozzarella, fresh basil and tomatoes served on a bed of romaine; finished with a drizzle of extra virgin olive oil and balsamic reduction.', 'createdAt': '2021-04-04T15:00:00.000Z', '_id': '603ab53b88dbe9c89607dfd3'}, {'description': 'corn, peppers,onion, cheddar, Mexican spices, topped with tomato, arugula and guacamole', 'createdAt': '2021-04-04T15:00:00.000Z', '_id': '603ab53b88dbe9c89607dfca'}, {'description': 'Thin rice noodles stir-fried with egg, green onions, bean sprouts and ground peanuts.', 'createdAt': '2021-05-04T15:00:00.000Z', '_id': '603ab53b88dbe9c89607dfa8'}, {'description': 'Mashed potato, green beans, red wine demi', 'createdAt': '2021-04-04T15:00:00.000Z', '_id': '603ab53b88dbe9c89607dfbb'}, {'description': 'Ground lamb, peas, onions, corn, carrots, mashed potato', 'createdAt': '2021-04-04T15:00:00.000Z', '_id': '603ab53b88dbe9c89607dfb6'}, {'description': 'Fried white fish, slaw, tartar', 'createdAt': '2021-04-04T15:00:00.000Z', '_id': '603ab53b88dbe9c89607dfc2'}, {'description': 'Bacon, lettuce, tomato, avocado, mayo', 'createdAt': '2021-04-04T15:00:00.000Z', '_id': '603ab53b88dbe9c89607dfbf'}, {'description': 'Penne, cheddar, bread crumbs', 'createdAt': '2021-04-04T15:00:00.000Z', '_id': '603ab53b88dbe9c89607dfc1'}, {'description': 'plant-based patty, BBQ, cheddar, avocado, crispy onion', 'createdAt': '2021-04-04T15:00:00.000Z', '_id': '603ab53b88dbe9c89607dfc9'}, {'description': 'Corn Slaw, pickled onion, feta, radish, Pico, lime', 'createdAt': '2021-04-04T15:00:00.000Z', '_id': '603ab53b88dbe9c89607dfb7'}, {'description': 'Lettuce, tomato, pickle, chipotle aioli', 'createdAt': '2021-04-04T15:00:00.000Z', '_id': '603ab53b88dbe9c89607dfb8'}, {'description': 'sliced medium rare tenderloin, lettuce, tomato cheddar, red onion, served with Mexican rice, rustic salsa and guacamole', 'createdAt': '2021-04-04T15:00:00.000Z', '_id': '603ab53b88dbe9c89607dfce'}, {'description': '', 'createdAt': '2021-04-04T15:00:00.000Z', '_id': '603ab53b88dbe9c89607dfd1'}, {'description': 'Lettuce, tomato, pickle', 'createdAt': '2021-04-04T15:00:00.000Z', '_id': '603ab53b88dbe9c89607dfbc'}, {'description': 'add cheddar, Swiss, or American, add bacon', 'createdAt': '2021-04-04T15:00:00.000Z', '_id': '603ab53b88dbe9c89607dfc8'}, {'description': 'with maple aioli on grilled brioche', 'createdAt': '2021-04-04T15:00:00.000Z', '_id': '603ab53b88dbe9c89607dfcc'}, {'description': '', 'createdAt': '2021-04-04T15:00:00.000Z', '_id': '603ab53b88dbe9c89607dfb0'}, {'description': 'Spicy mayo, slaw, pickles', 'createdAt': '2021-04-04T15:00:00.000Z', '_id': '603ab53b88dbe9c89607dfb3'}, {'description': 'Mashed potato, red wine demi glaze', 'createdAt': '2021-04-04T15:00:00.000Z', '_id': '603ab53b88dbe9c89607dfb5'}, {'description': 'Winter Slaw, horseradish sauce', 'createdAt': '2021-04-04T15:00:00.000Z', '_id': '603ab53b88dbe9c89607dfb9'}]\n"
     ]
    }
   ],
   "source": [
    "#filter out the old ones, we'll give dishes a 'new' rating for a period of time \n",
    "print(df)"
   ]
  },
  {
   "cell_type": "code",
   "execution_count": null,
   "metadata": {},
   "outputs": [],
   "source": []
  },
  {
   "cell_type": "code",
   "execution_count": 89,
   "metadata": {},
   "outputs": [],
   "source": [
    "\n",
    "new_dish_df = []\n",
    "\n",
    "today = datetime.today()\n",
    "margin = timedelta(days = 14)\n",
    "\n",
    "for dish in df:\n",
    "\n",
    "        pyth_date = datetime.strptime(dish['createdAt'], '%Y-%m-%dT%H:%M:%S.%fZ')\n",
    "        if (today - margin) <= pyth_date <= today:\n",
    "            new_dish_df.append(dish)\n",
    "    "
   ]
  },
  {
   "cell_type": "code",
   "execution_count": 104,
   "metadata": {},
   "outputs": [
    {
     "name": "stdout",
     "output_type": "stream",
     "text": [
      "200\n",
      "{\"data\":{\"dishByIds\":[{\"description\":\"Thai Panang curry paste with coconut milk, kaffir lime leaves and bell peppers.\",\"createdAt\":\"2021-04-04T15:00:00.000Z\",\"_id\":\"603ab53b88dbe9c89607dfa7\"},{\"description\":\"Thin rice noodles stir-fried with egg, green onions, bean sprouts and ground peanuts.\",\"createdAt\":\"2021-05-04T15:00:00.000Z\",\"_id\":\"603ab53b88dbe9c89607dfa8\"},{\"description\":\"Fresh ground chilis, stir-fried with basil leaves, onions, fresh garlic, bamboo shoots, green beans and bell peppers.\",\"createdAt\":\"2021-04-04T15:00:00.000Z\",\"_id\":\"603ab53b88dbe9c89607dfa9\"},{\"description\":\"Thai Green curry paste with coconut milk, basil leaves, bamboo shoots, eggplant, zucchini and bell peppers.\",\"createdAt\":\"2021-04-04T15:00:00.000Z\",\"_id\":\"603ab53b88dbe9c89607dfaa\"},{\"description\":\"Wide rice noodles stir-fried with egg, fresh chili, bell peppers, onions, green beans and basil leaves.\",\"createdAt\":\"2021-04-04T15:00:00.000Z\",\"_id\":\"603ab53b88dbe9c89607dfab\"},{\"description\":\"Your choice of meat with steamed vegetables, topped with peanut sauce.\",\"createdAt\":\"2021-04-04T15:00:00.000Z\",\"_id\":\"603ab53b88dbe9c89607dfac\"},{\"description\":\"Wide rice noodles stir-fried with egg, sweet soy sauce, broccoli and carrots.\",\"createdAt\":\"2021-04-04T15:00:00.000Z\",\"_id\":\"603ab53b88dbe9c89607dfad\"},{\"description\":\"Fried rice with egg, onions, carrots, green peas and tomatoes topped with crispy chicken.\",\"createdAt\":\"2021-04-04T15:00:00.000Z\",\"_id\":\"603ab53b88dbe9c89607dfae\"},{\"description\":\"American cheese, crispy shallots, bacon, Baja sauce\",\"createdAt\":\"2021-04-04T15:00:00.000Z\",\"_id\":\"603ab53b88dbe9c89607dfb4\"},{\"description\":\"Corn Slaw, pickled onion, feta, radish, Pico, lime\",\"createdAt\":\"2021-04-04T15:00:00.000Z\",\"_id\":\"603ab53b88dbe9c89607dfbe\"},{\"description\":\"Sweet potato gratin, green beans, pan jus\",\"createdAt\":\"2021-04-04T15:00:00.000Z\",\"_id\":\"603ab53b88dbe9c89607dfc4\"},{\"description\":\"the Classic with pepperoni\",\"createdAt\":\"2021-04-04T15:00:00.000Z\",\"_id\":\"603ab53b88dbe9c89607dfc6\"},{\"description\":\"ripe tomato, roasted garlic, fontina, fresh mozzarella, basil dressed arugala on top\",\"createdAt\":\"2021-04-04T15:00:00.000Z\",\"_id\":\"603ab53b88dbe9c89607dfc7\"},{\"description\":\"add cheddar, Swiss, or American, add bacon\",\"createdAt\":\"2021-04-04T15:00:00.000Z\",\"_id\":\"603ab53b88dbe9c89607dfc8\"},{\"description\":\"sliced medium rare tenderloin, lettuce, tomato cheddar, red onion, served with Mexican rice, rustic salsa and guacamole\",\"createdAt\":\"2021-04-04T15:00:00.000Z\",\"_id\":\"603ab53b88dbe9c89607dfce\"}]},\"extensions\":{\"tracing\":{\"version\":1,\"startTime\":\"2021-05-04T21:15:59.083Z\",\"endTime\":\"2021-05-04T21:15:59.095Z\",\"duration\":11701924,\"execution\":{\"resolvers\":[{\"path\":[\"dishByIds\"],\"parentType\":\"Query\",\"fieldName\":\"dishByIds\",\"returnType\":\"[Dish!]!\",\"startOffset\":3784538,\"duration\":6218793},{\"path\":[\"dishByIds\",0,\"description\"],\"parentType\":\"Dish\",\"fieldName\":\"description\",\"returnType\":\"String\",\"startOffset\":10057524,\"duration\":30872},{\"path\":[\"dishByIds\",0,\"createdAt\"],\"parentType\":\"Dish\",\"fieldName\":\"createdAt\",\"returnType\":\"Date\",\"startOffset\":10098565,\"duration\":30976},{\"path\":[\"dishByIds\",0,\"_id\"],\"parentType\":\"Dish\",\"fieldName\":\"_id\",\"returnType\":\"MongoID!\",\"startOffset\":10163863,\"duration\":19484},{\"path\":[\"dishByIds\",1,\"description\"],\"parentType\":\"Dish\",\"fieldName\":\"description\",\"returnType\":\"String\",\"startOffset\":10204254,\"duration\":16295},{\"path\":[\"dishByIds\",1,\"createdAt\"],\"parentType\":\"Dish\",\"fieldName\":\"createdAt\",\"returnType\":\"Date\",\"startOffset\":10232653,\"duration\":15967},{\"path\":[\"dishByIds\",1,\"_id\"],\"parentType\":\"Dish\",\"fieldName\":\"_id\",\"returnType\":\"MongoID!\",\"startOffset\":10267626,\"duration\":16448},{\"path\":[\"dishByIds\",2,\"description\"],\"parentType\":\"Dish\",\"fieldName\":\"description\",\"returnType\":\"String\",\"startOffset\":10307907,\"duration\":19473},{\"path\":[\"dishByIds\",2,\"createdAt\"],\"parentType\":\"Dish\",\"fieldName\":\"createdAt\",\"returnType\":\"Date\",\"startOffset\":10335825,\"duration\":21285},{\"path\":[\"dishByIds\",2,\"_id\"],\"parentType\":\"Dish\",\"fieldName\":\"_id\",\"returnType\":\"MongoID!\",\"startOffset\":10376578,\"duration\":15409},{\"path\":[\"dishByIds\",3,\"description\"],\"parentType\":\"Dish\",\"fieldName\":\"description\",\"returnType\":\"String\",\"startOffset\":10407892,\"duration\":20198},{\"path\":[\"dishByIds\",3,\"createdAt\"],\"parentType\":\"Dish\",\"fieldName\":\"createdAt\",\"returnType\":\"Date\",\"startOffset\":10434863,\"duration\":15288},{\"path\":[\"dishByIds\",3,\"_id\"],\"parentType\":\"Dish\",\"fieldName\":\"_id\",\"returnType\":\"MongoID!\",\"startOffset\":10468867,\"duration\":21365},{\"path\":[\"dishByIds\",4,\"description\"],\"parentType\":\"Dish\",\"fieldName\":\"description\",\"returnType\":\"String\",\"startOffset\":10508815,\"duration\":17782},{\"path\":[\"dishByIds\",4,\"createdAt\"],\"parentType\":\"Dish\",\"fieldName\":\"createdAt\",\"returnType\":\"Date\",\"startOffset\":10533026,\"duration\":18687},{\"path\":[\"dishByIds\",4,\"_id\"],\"parentType\":\"Dish\",\"fieldName\":\"_id\",\"returnType\":\"MongoID!\",\"startOffset\":10570197,\"duration\":15954},{\"path\":[\"dishByIds\",5,\"description\"],\"parentType\":\"Dish\",\"fieldName\":\"description\",\"returnType\":\"String\",\"startOffset\":10603191,\"duration\":24265},{\"path\":[\"dishByIds\",5,\"createdAt\"],\"parentType\":\"Dish\",\"fieldName\":\"createdAt\",\"returnType\":\"Date\",\"startOffset\":10635545,\"duration\":14960},{\"path\":[\"dishByIds\",5,\"_id\"],\"parentType\":\"Dish\",\"fieldName\":\"_id\",\"returnType\":\"MongoID!\",\"startOffset\":10669388,\"duration\":21136},{\"path\":[\"dishByIds\",6,\"description\"],\"parentType\":\"Dish\",\"fieldName\":\"description\",\"returnType\":\"String\",\"startOffset\":10708006,\"duration\":16287},{\"path\":[\"dishByIds\",6,\"createdAt\"],\"parentType\":\"Dish\",\"fieldName\":\"createdAt\",\"returnType\":\"Date\",\"startOffset\":10735871,\"duration\":15288},{\"path\":[\"dishByIds\",6,\"_id\"],\"parentType\":\"Dish\",\"fieldName\":\"_id\",\"returnType\":\"MongoID!\",\"startOffset\":10768961,\"duration\":14858},{\"path\":[\"dishByIds\",7,\"description\"],\"parentType\":\"Dish\",\"fieldName\":\"description\",\"returnType\":\"String\",\"startOffset\":10806125,\"duration\":17126},{\"path\":[\"dishByIds\",7,\"createdAt\"],\"parentType\":\"Dish\",\"fieldName\":\"createdAt\",\"returnType\":\"Date\",\"startOffset\":10830047,\"duration\":18500},{\"path\":[\"dishByIds\",7,\"_id\"],\"parentType\":\"Dish\",\"fieldName\":\"_id\",\"returnType\":\"MongoID!\",\"startOffset\":10871155,\"duration\":16017},{\"path\":[\"dishByIds\",8,\"description\"],\"parentType\":\"Dish\",\"fieldName\":\"description\",\"returnType\":\"String\",\"startOffset\":10904327,\"duration\":15965},{\"path\":[\"dishByIds\",8,\"createdAt\"],\"parentType\":\"Dish\",\"fieldName\":\"createdAt\",\"returnType\":\"Date\",\"startOffset\":10934001,\"duration\":14750},{\"path\":[\"dishByIds\",8,\"_id\"],\"parentType\":\"Dish\",\"fieldName\":\"_id\",\"returnType\":\"MongoID!\",\"startOffset\":10966650,\"duration\":15454},{\"path\":[\"dishByIds\",9,\"description\"],\"parentType\":\"Dish\",\"fieldName\":\"description\",\"returnType\":\"String\",\"startOffset\":11005217,\"duration\":16458},{\"path\":[\"dishByIds\",9,\"createdAt\"],\"parentType\":\"Dish\",\"fieldName\":\"createdAt\",\"returnType\":\"Date\",\"startOffset\":11029013,\"duration\":17024},{\"path\":[\"dishByIds\",9,\"_id\"],\"parentType\":\"Dish\",\"fieldName\":\"_id\",\"returnType\":\"MongoID!\",\"startOffset\":11075831,\"duration\":23418},{\"path\":[\"dishByIds\",10,\"description\"],\"parentType\":\"Dish\",\"fieldName\":\"description\",\"returnType\":\"String\",\"startOffset\":11150947,\"duration\":32519},{\"path\":[\"dishByIds\",10,\"createdAt\"],\"parentType\":\"Dish\",\"fieldName\":\"createdAt\",\"returnType\":\"Date\",\"startOffset\":11193584,\"duration\":20365},{\"path\":[\"dishByIds\",10,\"_id\"],\"parentType\":\"Dish\",\"fieldName\":\"_id\",\"returnType\":\"MongoID!\",\"startOffset\":11235211,\"duration\":22045},{\"path\":[\"dishByIds\",11,\"description\"],\"parentType\":\"Dish\",\"fieldName\":\"description\",\"returnType\":\"String\",\"startOffset\":11274666,\"duration\":16238},{\"path\":[\"dishByIds\",11,\"createdAt\"],\"parentType\":\"Dish\",\"fieldName\":\"createdAt\",\"returnType\":\"Date\",\"startOffset\":11297196,\"duration\":19839},{\"path\":[\"dishByIds\",11,\"_id\"],\"parentType\":\"Dish\",\"fieldName\":\"_id\",\"returnType\":\"MongoID!\",\"startOffset\":11335019,\"duration\":14998},{\"path\":[\"dishByIds\",12,\"description\"],\"parentType\":\"Dish\",\"fieldName\":\"description\",\"returnType\":\"String\",\"startOffset\":11365808,\"duration\":22452},{\"path\":[\"dishByIds\",12,\"createdAt\"],\"parentType\":\"Dish\",\"fieldName\":\"createdAt\",\"returnType\":\"Date\",\"startOffset\":11396021,\"duration\":13013},{\"path\":[\"dishByIds\",12,\"_id\"],\"parentType\":\"Dish\",\"fieldName\":\"_id\",\"returnType\":\"MongoID!\",\"startOffset\":11425801,\"duration\":19968},{\"path\":[\"dishByIds\",13,\"description\"],\"parentType\":\"Dish\",\"fieldName\":\"description\",\"returnType\":\"String\",\"startOffset\":11461909,\"duration\":15057},{\"path\":[\"dishByIds\",13,\"createdAt\"],\"parentType\":\"Dish\",\"fieldName\":\"createdAt\",\"returnType\":\"Date\",\"startOffset\":11482951,\"duration\":19889},{\"path\":[\"dishByIds\",13,\"_id\"],\"parentType\":\"Dish\",\"fieldName\":\"_id\",\"returnType\":\"MongoID!\",\"startOffset\":11520784,\"duration\":16727},{\"path\":[\"dishByIds\",14,\"description\"],\"parentType\":\"Dish\",\"fieldName\":\"description\",\"returnType\":\"String\",\"startOffset\":11553745,\"duration\":23355},{\"path\":[\"dishByIds\",14,\"createdAt\"],\"parentType\":\"Dish\",\"fieldName\":\"createdAt\",\"returnType\":\"Date\",\"startOffset\":11583408,\"duration\":36257},{\"path\":[\"dishByIds\",14,\"_id\"],\"parentType\":\"Dish\",\"fieldName\":\"_id\",\"returnType\":\"MongoID!\",\"startOffset\":11645871,\"duration\":19242}]}}}}\n",
      "\n"
     ]
    }
   ],
   "source": [
    "rec_list = [\n",
    "  \"603ab53b88dbe9c89607dfc6\",\n",
    "  \"603ab53b88dbe9c89607dfb3\",\n",
    "  \"603ab53b88dbe9c89607dfb4\",\n",
    "  \"603ab53b88dbe9c89607dfbe\",\n",
    "  \"603ab53b88dbe9c89607dfce\",\n",
    "  \"603ab53b88dbe9c89607dfae\",\n",
    "  \"603ab53b88dbe9c89607dfc7\",\n",
    "  \"603ab53b88dbe9c89607dfc8\",\n",
    "  \"603ab53b88dbe9c89607dfab\",\n",
    "  \"603ab53b88dbe9c89607dfad\",\n",
    "  \"603ab53b88dbe9c89607dfac\",\n",
    "  \"603ab53b88dbe9c89607dfa9\",\n",
    "  \"603ab53b88dbe9c89607dfaa\",\n",
    "  \"603ab53b88dbe9c89607dfa7\",\n",
    "  \"603ab53b88dbe9c89607dfc4\"\n",
    "]\n",
    "\n",
    "\n",
    "rec_dish_query = \"\"\"query {\n",
    "  \t\tdishByIds (_ids:\"\"\" + json.dumps(rec_list) + \"\"\"){\n",
    "\t\t\tdescription\n",
    "            createdAt\n",
    "            _id\n",
    "  \t\t}}\"\"\"\n",
    "\n",
    "url = 'https://palette-backend.herokuapp.com/graphql'\n",
    "r = requests.post(url, json={'query': rec_dish_query})\n",
    "print(r.status_code)\n",
    "print(r.text)\n"
   ]
  },
  {
   "cell_type": "code",
   "execution_count": 105,
   "metadata": {},
   "outputs": [],
   "source": [
    "json_data = json.loads(r.text)\n",
    "rec_dish_df = json_data['data']['dishByIds']"
   ]
  },
  {
   "cell_type": "code",
   "execution_count": null,
   "metadata": {},
   "outputs": [],
   "source": []
  },
  {
   "cell_type": "code",
   "execution_count": 106,
   "metadata": {},
   "outputs": [
    {
     "name": "stdout",
     "output_type": "stream",
     "text": [
      "[{'description': 'Thin rice noodles stir-fried with egg, green onions, bean sprouts and ground peanuts.', 'createdAt': '2021-05-04T15:00:00.000Z', '_id': '603ab53b88dbe9c89607dfa8'}]\n"
     ]
    }
   ],
   "source": [
    "print(new_dish_df)"
   ]
  },
  {
   "cell_type": "code",
   "execution_count": 107,
   "metadata": {},
   "outputs": [
    {
     "name": "stdout",
     "output_type": "stream",
     "text": [
      "{'description': 'Thai Panang curry paste with coconut milk, kaffir lime leaves and bell peppers.', 'createdAt': '2021-04-04T15:00:00.000Z', '_id': '603ab53b88dbe9c89607dfa7'}\n",
      "{'description': 'Thin rice noodles stir-fried with egg, green onions, bean sprouts and ground peanuts.', 'createdAt': '2021-05-04T15:00:00.000Z', '_id': '603ab53b88dbe9c89607dfa8'}\n",
      "{'description': 'Fresh ground chilis, stir-fried with basil leaves, onions, fresh garlic, bamboo shoots, green beans and bell peppers.', 'createdAt': '2021-04-04T15:00:00.000Z', '_id': '603ab53b88dbe9c89607dfa9'}\n",
      "{'description': 'Thai Green curry paste with coconut milk, basil leaves, bamboo shoots, eggplant, zucchini and bell peppers.', 'createdAt': '2021-04-04T15:00:00.000Z', '_id': '603ab53b88dbe9c89607dfaa'}\n",
      "{'description': 'Wide rice noodles stir-fried with egg, fresh chili, bell peppers, onions, green beans and basil leaves.', 'createdAt': '2021-04-04T15:00:00.000Z', '_id': '603ab53b88dbe9c89607dfab'}\n",
      "{'description': 'Your choice of meat with steamed vegetables, topped with peanut sauce.', 'createdAt': '2021-04-04T15:00:00.000Z', '_id': '603ab53b88dbe9c89607dfac'}\n",
      "{'description': 'Wide rice noodles stir-fried with egg, sweet soy sauce, broccoli and carrots.', 'createdAt': '2021-04-04T15:00:00.000Z', '_id': '603ab53b88dbe9c89607dfad'}\n",
      "{'description': 'Fried rice with egg, onions, carrots, green peas and tomatoes topped with crispy chicken.', 'createdAt': '2021-04-04T15:00:00.000Z', '_id': '603ab53b88dbe9c89607dfae'}\n",
      "{'description': 'American cheese, crispy shallots, bacon, Baja sauce', 'createdAt': '2021-04-04T15:00:00.000Z', '_id': '603ab53b88dbe9c89607dfb4'}\n",
      "{'description': 'Corn Slaw, pickled onion, feta, radish, Pico, lime', 'createdAt': '2021-04-04T15:00:00.000Z', '_id': '603ab53b88dbe9c89607dfbe'}\n",
      "{'description': 'Sweet potato gratin, green beans, pan jus', 'createdAt': '2021-04-04T15:00:00.000Z', '_id': '603ab53b88dbe9c89607dfc4'}\n",
      "{'description': 'the Classic with pepperoni', 'createdAt': '2021-04-04T15:00:00.000Z', '_id': '603ab53b88dbe9c89607dfc6'}\n",
      "{'description': 'ripe tomato, roasted garlic, fontina, fresh mozzarella, basil dressed arugala on top', 'createdAt': '2021-04-04T15:00:00.000Z', '_id': '603ab53b88dbe9c89607dfc7'}\n",
      "{'description': 'add cheddar, Swiss, or American, add bacon', 'createdAt': '2021-04-04T15:00:00.000Z', '_id': '603ab53b88dbe9c89607dfc8'}\n",
      "{'description': 'sliced medium rare tenderloin, lettuce, tomato cheddar, red onion, served with Mexican rice, rustic salsa and guacamole', 'createdAt': '2021-04-04T15:00:00.000Z', '_id': '603ab53b88dbe9c89607dfce'}\n",
      "tensor([[1.0000]])\n"
     ]
    }
   ],
   "source": [
    "max_score = 0\n",
    "max_dish = new_dish_df[0]['_id']\n",
    "\n",
    "for dish in new_dish_df:\n",
    "    for rec in rec_dish_df:\n",
    "        \n",
    "        print(rec)\n",
    "        #Compute embedding for both descriptions\n",
    "        embeddingsDish = model.encode(dish['description'], convert_to_tensor=True, show_progress_bar=False)\n",
    "        embeddingsRec = model.encode(rec['description'], convert_to_tensor=True, show_progress_bar=False)\n",
    "        \n",
    "        #Compute cosine-similarits\n",
    "        cosine_scores = util.pytorch_cos_sim(embeddingsDish, embeddingsRec)\n",
    "\n",
    "        if max_score < cosine_scores:\n",
    "            max_dish = dish['_id']\n",
    "            max_score = cosine_scores\n",
    "            \n",
    "            \n",
    "print(max_score)"
   ]
  },
  {
   "cell_type": "code",
   "execution_count": null,
   "metadata": {},
   "outputs": [],
   "source": []
  }
 ],
 "metadata": {
  "kernelspec": {
   "display_name": "Python 3",
   "language": "python",
   "name": "python3"
  },
  "language_info": {
   "codemirror_mode": {
    "name": "ipython",
    "version": 3
   },
   "file_extension": ".py",
   "mimetype": "text/x-python",
   "name": "python",
   "nbconvert_exporter": "python",
   "pygments_lexer": "ipython3",
   "version": "3.8.5"
  }
 },
 "nbformat": 4,
 "nbformat_minor": 4
}
