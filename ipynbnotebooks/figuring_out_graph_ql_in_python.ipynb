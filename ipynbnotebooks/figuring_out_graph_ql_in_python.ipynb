{
 "cells": [
  {
   "cell_type": "code",
   "execution_count": 1,
   "metadata": {},
   "outputs": [],
   "source": [
    "import requests\n",
    "import json\n",
    "import pandas as pd"
   ]
  },
  {
   "cell_type": "code",
   "execution_count": 6,
   "metadata": {},
   "outputs": [],
   "source": [
    "user_query = \"\"\"query  {\n",
    "              userById (_id:  \"607f2bbfc2799a00154554de\") {\n",
    "                name\n",
    "                _id\n",
    "                createdAt\n",
    "          }\n",
    "    }\"\"\""
   ]
  },
  {
   "cell_type": "code",
   "execution_count": 7,
   "metadata": {},
   "outputs": [
    {
     "name": "stdout",
     "output_type": "stream",
     "text": [
      "200\n",
      "{\"data\":{\"userById\":{\"name\":\"Connor\",\"_id\":\"607f2bbfc2799a00154554de\",\"createdAt\":\"2021-04-20T19:30:07.015Z\"}},\"extensions\":{\"tracing\":{\"version\":1,\"startTime\":\"2021-04-29T19:07:20.070Z\",\"endTime\":\"2021-04-29T19:07:20.087Z\",\"duration\":16644050,\"execution\":{\"resolvers\":[{\"path\":[\"userById\"],\"parentType\":\"Query\",\"fieldName\":\"userById\",\"returnType\":\"User\",\"startOffset\":8385279,\"duration\":7754608},{\"path\":[\"userById\",\"name\"],\"parentType\":\"User\",\"fieldName\":\"name\",\"returnType\":\"String!\",\"startOffset\":16248828,\"duration\":76068},{\"path\":[\"userById\",\"_id\"],\"parentType\":\"User\",\"fieldName\":\"_id\",\"returnType\":\"MongoID!\",\"startOffset\":16361069,\"duration\":47297},{\"path\":[\"userById\",\"createdAt\"],\"parentType\":\"User\",\"fieldName\":\"createdAt\",\"returnType\":\"Date\",\"startOffset\":16455603,\"duration\":57218}]}}}}\n",
      "\n"
     ]
    }
   ],
   "source": [
    "url = 'https://palette-backend.herokuapp.com/graphql'\n",
    "r = requests.post(url, json={'query': user_query})\n",
    "print(r.status_code)\n",
    "print(r.text)"
   ]
  },
  {
   "cell_type": "code",
   "execution_count": 8,
   "metadata": {},
   "outputs": [],
   "source": [
    "json_data = json.loads(r.text)"
   ]
  },
  {
   "cell_type": "code",
   "execution_count": 9,
   "metadata": {},
   "outputs": [
    {
     "name": "stdout",
     "output_type": "stream",
     "text": [
      "{'name': 'Connor', '_id': '607f2bbfc2799a00154554de', 'createdAt': '2021-04-20T19:30:07.015Z'}\n"
     ]
    }
   ],
   "source": [
    "print(json_data['data']['userById'])\n",
    "\n",
    "user_id = json_data['data']['userById']['_id']\n"
   ]
  },
  {
   "cell_type": "code",
   "execution_count": null,
   "metadata": {},
   "outputs": [],
   "source": []
  },
  {
   "cell_type": "code",
   "execution_count": 10,
   "metadata": {},
   "outputs": [
    {
     "ename": "NameError",
     "evalue": "name 'df' is not defined",
     "output_type": "error",
     "traceback": [
      "\u001b[0;31m---------------------------------------------------------------------------\u001b[0m",
      "\u001b[0;31mNameError\u001b[0m                                 Traceback (most recent call last)",
      "\u001b[0;32m<ipython-input-10-89148ddff993>\u001b[0m in \u001b[0;36m<module>\u001b[0;34m\u001b[0m\n\u001b[0;32m----> 1\u001b[0;31m \u001b[0mdf\u001b[0m\u001b[0;34m.\u001b[0m\u001b[0mhead\u001b[0m\u001b[0;34m\u001b[0m\u001b[0;34m\u001b[0m\u001b[0m\n\u001b[0m",
      "\u001b[0;31mNameError\u001b[0m: name 'df' is not defined"
     ]
    }
   ],
   "source": [
    "df.head"
   ]
  },
  {
   "cell_type": "code",
   "execution_count": 133,
   "metadata": {},
   "outputs": [],
   "source": [
    "dish_rating_query = \"\"\"query  {\n",
    "\t\tdishRatingMany (filter: {user_id: \"607f2bbfc2799a00154554de\"}) {\n",
    "\t\t\t_id\n",
    "\t\t\tdish_id\n",
    "\t\t\tuser { name }\n",
    "\t\t\trating\n",
    "\t\t\treview\n",
    "\t\t\tcreatedAt\n",
    "\t\t\tdish { \n",
    "\t\t\t\tdish_name \n",
    "\t\t\t\trestaurant { name }\n",
    "\t\t\t\t}\n",
    "\t\t}\n",
    "\t}\"\"\""
   ]
  },
  {
   "cell_type": "code",
   "execution_count": 134,
   "metadata": {},
   "outputs": [
    {
     "name": "stdout",
     "output_type": "stream",
     "text": [
      "200\n",
      "{\"data\":{\"dishRatingMany\":[{\"_id\":\"607f2f75914a7b001549af49\",\"dish_id\":\"603ab53b88dbe9c89607dfa7\",\"user\":{\"name\":\"Connor\"},\"rating\":4,\"review\":\"Pretty god,  could use salt\",\"createdAt\":\"2021-04-20T19:45:57.321Z\",\"dish\":{\"dish_name\":\"Panang Curry\",\"restaurant\":{\"name\":\"Tuk Tuk Thai Cuisine\"}}}]},\"extensions\":{\"tracing\":{\"version\":1,\"startTime\":\"2021-05-04T21:45:59.801Z\",\"endTime\":\"2021-05-04T21:45:59.906Z\",\"duration\":105558978,\"execution\":{\"resolvers\":[{\"path\":[\"dishRatingMany\"],\"parentType\":\"Query\",\"fieldName\":\"dishRatingMany\",\"returnType\":\"[DishRating!]!\",\"startOffset\":24907650,\"duration\":19944502},{\"path\":[\"dishRatingMany\",0,\"_id\"],\"parentType\":\"DishRating\",\"fieldName\":\"_id\",\"returnType\":\"MongoID!\",\"startOffset\":44940039,\"duration\":41815},{\"path\":[\"dishRatingMany\",0,\"dish_id\"],\"parentType\":\"DishRating\",\"fieldName\":\"dish_id\",\"returnType\":\"String!\",\"startOffset\":45001938,\"duration\":32354},{\"path\":[\"dishRatingMany\",0,\"user\"],\"parentType\":\"DishRating\",\"fieldName\":\"user\",\"returnType\":\"User\",\"startOffset\":45048426,\"duration\":17832239},{\"path\":[\"dishRatingMany\",0,\"rating\"],\"parentType\":\"DishRating\",\"fieldName\":\"rating\",\"returnType\":\"Float!\",\"startOffset\":45356584,\"duration\":32251},{\"path\":[\"dishRatingMany\",0,\"review\"],\"parentType\":\"DishRating\",\"fieldName\":\"review\",\"returnType\":\"String\",\"startOffset\":45413840,\"duration\":32710},{\"path\":[\"dishRatingMany\",0,\"createdAt\"],\"parentType\":\"DishRating\",\"fieldName\":\"createdAt\",\"returnType\":\"Date\",\"startOffset\":45457887,\"duration\":25682},{\"path\":[\"dishRatingMany\",0,\"dish\"],\"parentType\":\"DishRating\",\"fieldName\":\"dish\",\"returnType\":\"Dish\",\"startOffset\":45527936,\"duration\":17515939},{\"path\":[\"dishRatingMany\",0,\"user\",\"name\"],\"parentType\":\"User\",\"fieldName\":\"name\",\"returnType\":\"String!\",\"startOffset\":62936660,\"duration\":25447},{\"path\":[\"dishRatingMany\",0,\"dish\",\"dish_name\"],\"parentType\":\"Dish\",\"fieldName\":\"dish_name\",\"returnType\":\"String!\",\"startOffset\":63082756,\"duration\":15104},{\"path\":[\"dishRatingMany\",0,\"dish\",\"restaurant\"],\"parentType\":\"Dish\",\"fieldName\":\"restaurant\",\"returnType\":\"Restaurant\",\"startOffset\":63106095,\"duration\":21432599},{\"path\":[\"dishRatingMany\",0,\"dish\",\"restaurant\",\"name\"],\"parentType\":\"Restaurant\",\"fieldName\":\"name\",\"returnType\":\"String!\",\"startOffset\":84600868,\"duration\":33539}]}}}}\n",
      "\n"
     ]
    }
   ],
   "source": [
    "url = 'https://palette-backend.herokuapp.com/graphql'\n",
    "r = requests.post(url, json={'query': dish_rating_query})\n",
    "print(r.status_code)\n",
    "print(r.text)"
   ]
  },
  {
   "cell_type": "code",
   "execution_count": 135,
   "metadata": {},
   "outputs": [],
   "source": [
    "json_data = json.loads(r.text)"
   ]
  },
  {
   "cell_type": "code",
   "execution_count": 136,
   "metadata": {},
   "outputs": [],
   "source": [
    "df = json_data['data']['dishRatingMany']"
   ]
  },
  {
   "cell_type": "code",
   "execution_count": 137,
   "metadata": {},
   "outputs": [
    {
     "name": "stdout",
     "output_type": "stream",
     "text": [
      "1\n"
     ]
    }
   ],
   "source": [
    "print(len(df))"
   ]
  },
  {
   "cell_type": "code",
   "execution_count": 138,
   "metadata": {},
   "outputs": [
    {
     "name": "stdout",
     "output_type": "stream",
     "text": [
      "[{'_id': '607f2f75914a7b001549af49', 'dish_id': '603ab53b88dbe9c89607dfa7', 'user': {'name': 'Connor'}, 'rating': 4, 'review': 'Pretty god,  could use salt', 'createdAt': '2021-04-20T19:45:57.321Z', 'dish': {'dish_name': 'Panang Curry', 'restaurant': {'name': 'Tuk Tuk Thai Cuisine'}}}]\n"
     ]
    }
   ],
   "source": [
    "print(df)\n"
   ]
  },
  {
   "cell_type": "code",
   "execution_count": 40,
   "metadata": {},
   "outputs": [],
   "source": [
    "popular_dish_query = \"\"\"query {\n",
    "  \t\tdishMany {\n",
    "            average_rating\n",
    "\t\t\t_id\n",
    "  \t\t}}\"\"\"\n"
   ]
  },
  {
   "cell_type": "code",
   "execution_count": 41,
   "metadata": {},
   "outputs": [
    {
     "name": "stdout",
     "output_type": "stream",
     "text": [
      "200\n",
      "{\"data\":{\"dishMany\":[{\"average_rating\":3.3,\"_id\":\"603ab53b88dbe9c89607dfae\"},{\"average_rating\":1.1,\"_id\":\"603ab53b88dbe9c89607dfc4\"},{\"average_rating\":2.5,\"_id\":\"603ab53b88dbe9c89607dfa7\"},{\"average_rating\":1.3,\"_id\":\"603ab53b88dbe9c89607dfab\"},{\"average_rating\":5,\"_id\":\"603ab53b88dbe9c89607dfac\"},{\"average_rating\":5,\"_id\":\"603ab53b88dbe9c89607dfb1\"},{\"average_rating\":1.8,\"_id\":\"603ab53b88dbe9c89607dfb4\"},{\"average_rating\":4.1,\"_id\":\"603ab53b88dbe9c89607dfba\"},{\"average_rating\":2,\"_id\":\"603ab53b88dbe9c89607dfc6\"},{\"average_rating\":3.9,\"_id\":\"603ab53b88dbe9c89607dfcf\"},{\"average_rating\":2.9,\"_id\":\"603ab53b88dbe9c89607dfc0\"},{\"average_rating\":3.1,\"_id\":\"603ab53b88dbe9c89607dfc7\"},{\"average_rating\":3.1,\"_id\":\"603ab53b88dbe9c89607dfcb\"},{\"average_rating\":4.8,\"_id\":\"603ab53b88dbe9c89607dfd8\"},{\"average_rating\":4,\"_id\":\"603ab53b88dbe9c89607dfaa\"},{\"average_rating\":5,\"_id\":\"603ab53b88dbe9c89607dfaf\"},{\"average_rating\":2.1,\"_id\":\"603ab53b88dbe9c89607dfad\"},{\"average_rating\":1.6,\"_id\":\"603ab53b88dbe9c89607dfc3\"},{\"average_rating\":3.5,\"_id\":\"603ab53b88dbe9c89607dfd2\"},{\"average_rating\":2.1,\"_id\":\"603ab53b88dbe9c89607dfd4\"},{\"average_rating\":3.4,\"_id\":\"603ab53b88dbe9c89607dfd0\"},{\"average_rating\":1.5,\"_id\":\"603ab53b88dbe9c89607dfbe\"},{\"average_rating\":4.1,\"_id\":\"603ab53b88dbe9c89607dfb2\"},{\"average_rating\":1.5,\"_id\":\"603ab53b88dbe9c89607dfa9\"},{\"average_rating\":4.2,\"_id\":\"603ab53b88dbe9c89607dfd6\"},{\"average_rating\":3.7,\"_id\":\"603ab53b88dbe9c89607dfbd\"},{\"average_rating\":4.5,\"_id\":\"603ab53b88dbe9c89607dfcd\"},{\"average_rating\":1.1,\"_id\":\"603ab53b88dbe9c89607dfd5\"},{\"average_rating\":3.3,\"_id\":\"603ab53b88dbe9c89607dfd7\"},{\"average_rating\":1.3,\"_id\":\"603ab53b88dbe9c89607dfc5\"},{\"average_rating\":5,\"_id\":\"603ab53b88dbe9c89607dfd3\"},{\"average_rating\":1.2,\"_id\":\"603ab53b88dbe9c89607dfca\"},{\"average_rating\":5,\"_id\":\"603ab53b88dbe9c89607dfa8\"},{\"average_rating\":4.2,\"_id\":\"603ab53b88dbe9c89607dfbb\"},{\"average_rating\":1.1,\"_id\":\"603ab53b88dbe9c89607dfb6\"},{\"average_rating\":4.9,\"_id\":\"603ab53b88dbe9c89607dfc2\"},{\"average_rating\":3.7,\"_id\":\"603ab53b88dbe9c89607dfbf\"},{\"average_rating\":1.8,\"_id\":\"603ab53b88dbe9c89607dfc1\"},{\"average_rating\":4.5,\"_id\":\"603ab53b88dbe9c89607dfc9\"},{\"average_rating\":1.5,\"_id\":\"603ab53b88dbe9c89607dfb7\"},{\"average_rating\":4.7,\"_id\":\"603ab53b88dbe9c89607dfb8\"},{\"average_rating\":2.2,\"_id\":\"603ab53b88dbe9c89607dfce\"},{\"average_rating\":1,\"_id\":\"603ab53b88dbe9c89607dfd1\"},{\"average_rating\":4.5,\"_id\":\"603ab53b88dbe9c89607dfbc\"},{\"average_rating\":2.8,\"_id\":\"603ab53b88dbe9c89607dfc8\"},{\"average_rating\":4.5,\"_id\":\"603ab53b88dbe9c89607dfcc\"},{\"average_rating\":2.3,\"_id\":\"603ab53b88dbe9c89607dfb0\"},{\"average_rating\":1.2,\"_id\":\"603ab53b88dbe9c89607dfb3\"},{\"average_rating\":1.2,\"_id\":\"603ab53b88dbe9c89607dfb5\"},{\"average_rating\":4.6,\"_id\":\"603ab53b88dbe9c89607dfb9\"}]},\"extensions\":{\"tracing\":{\"version\":1,\"startTime\":\"2021-04-29T19:20:15.021Z\",\"endTime\":\"2021-04-29T19:20:15.038Z\",\"duration\":17043355,\"execution\":{\"resolvers\":[{\"path\":[\"dishMany\"],\"parentType\":\"Query\",\"fieldName\":\"dishMany\",\"returnType\":\"[Dish!]!\",\"startOffset\":1177338,\"duration\":12765540},{\"path\":[\"dishMany\",0,\"average_rating\"],\"parentType\":\"Dish\",\"fieldName\":\"average_rating\",\"returnType\":\"Float\",\"startOffset\":14005888,\"duration\":35182},{\"path\":[\"dishMany\",0,\"_id\"],\"parentType\":\"Dish\",\"fieldName\":\"_id\",\"returnType\":\"MongoID!\",\"startOffset\":14051160,\"duration\":24724},{\"path\":[\"dishMany\",1,\"average_rating\"],\"parentType\":\"Dish\",\"fieldName\":\"average_rating\",\"returnType\":\"Float\",\"startOffset\":14107777,\"duration\":20309},{\"path\":[\"dishMany\",1,\"_id\"],\"parentType\":\"Dish\",\"fieldName\":\"_id\",\"returnType\":\"MongoID!\",\"startOffset\":14140027,\"duration\":12809},{\"path\":[\"dishMany\",2,\"average_rating\"],\"parentType\":\"Dish\",\"fieldName\":\"average_rating\",\"returnType\":\"Float\",\"startOffset\":14168678,\"duration\":21598},{\"path\":[\"dishMany\",2,\"_id\"],\"parentType\":\"Dish\",\"fieldName\":\"_id\",\"returnType\":\"MongoID!\",\"startOffset\":14196856,\"duration\":11827},{\"path\":[\"dishMany\",3,\"average_rating\"],\"parentType\":\"Dish\",\"fieldName\":\"average_rating\",\"returnType\":\"Float\",\"startOffset\":14222512,\"duration\":19710},{\"path\":[\"dishMany\",3,\"_id\"],\"parentType\":\"Dish\",\"fieldName\":\"_id\",\"returnType\":\"MongoID!\",\"startOffset\":14248245,\"duration\":10504},{\"path\":[\"dishMany\",4,\"average_rating\"],\"parentType\":\"Dish\",\"fieldName\":\"average_rating\",\"returnType\":\"Float\",\"startOffset\":14276547,\"duration\":15844},{\"path\":[\"dishMany\",4,\"_id\"],\"parentType\":\"Dish\",\"fieldName\":\"_id\",\"returnType\":\"MongoID!\",\"startOffset\":14298491,\"duration\":14960},{\"path\":[\"dishMany\",5,\"average_rating\"],\"parentType\":\"Dish\",\"fieldName\":\"average_rating\",\"returnType\":\"Float\",\"startOffset\":14327188,\"duration\":14479},{\"path\":[\"dishMany\",5,\"_id\"],\"parentType\":\"Dish\",\"fieldName\":\"_id\",\"returnType\":\"MongoID!\",\"startOffset\":14351796,\"duration\":11915},{\"path\":[\"dishMany\",6,\"average_rating\"],\"parentType\":\"Dish\",\"fieldName\":\"average_rating\",\"returnType\":\"Float\",\"startOffset\":14376746,\"duration\":16497},{\"path\":[\"dishMany\",6,\"_id\"],\"parentType\":\"Dish\",\"fieldName\":\"_id\",\"returnType\":\"MongoID!\",\"startOffset\":14399341,\"duration\":11297},{\"path\":[\"dishMany\",7,\"average_rating\"],\"parentType\":\"Dish\",\"fieldName\":\"average_rating\",\"returnType\":\"Float\",\"startOffset\":14429312,\"duration\":15661},{\"path\":[\"dishMany\",7,\"_id\"],\"parentType\":\"Dish\",\"fieldName\":\"_id\",\"returnType\":\"MongoID!\",\"startOffset\":14450745,\"duration\":10394},{\"path\":[\"dishMany\",8,\"average_rating\"],\"parentType\":\"Dish\",\"fieldName\":\"average_rating\",\"returnType\":\"Float\",\"startOffset\":14478906,\"duration\":15337},{\"path\":[\"dishMany\",8,\"_id\"],\"parentType\":\"Dish\",\"fieldName\":\"_id\",\"returnType\":\"MongoID!\",\"startOffset\":14503831,\"duration\":11667},{\"path\":[\"dishMany\",9,\"average_rating\"],\"parentType\":\"Dish\",\"fieldName\":\"average_rating\",\"returnType\":\"Float\",\"startOffset\":14528725,\"duration\":18614},{\"path\":[\"dishMany\",9,\"_id\"],\"parentType\":\"Dish\",\"fieldName\":\"_id\",\"returnType\":\"MongoID!\",\"startOffset\":14553729,\"duration\":11209},{\"path\":[\"dishMany\",10,\"average_rating\"],\"parentType\":\"Dish\",\"fieldName\":\"average_rating\",\"returnType\":\"Float\",\"startOffset\":14578091,\"duration\":19046},{\"path\":[\"dishMany\",10,\"_id\"],\"parentType\":\"Dish\",\"fieldName\":\"_id\",\"returnType\":\"MongoID!\",\"startOffset\":14603010,\"duration\":10759},{\"path\":[\"dishMany\",11,\"average_rating\"],\"parentType\":\"Dish\",\"fieldName\":\"average_rating\",\"returnType\":\"Float\",\"startOffset\":14631636,\"duration\":15406},{\"path\":[\"dishMany\",11,\"_id\"],\"parentType\":\"Dish\",\"fieldName\":\"_id\",\"returnType\":\"MongoID!\",\"startOffset\":14653103,\"duration\":14629},{\"path\":[\"dishMany\",12,\"average_rating\"],\"parentType\":\"Dish\",\"fieldName\":\"average_rating\",\"returnType\":\"Float\",\"startOffset\":14681342,\"duration\":25885},{\"path\":[\"dishMany\",12,\"_id\"],\"parentType\":\"Dish\",\"fieldName\":\"_id\",\"returnType\":\"MongoID!\",\"startOffset\":14727150,\"duration\":25681},{\"path\":[\"dishMany\",13,\"average_rating\"],\"parentType\":\"Dish\",\"fieldName\":\"average_rating\",\"returnType\":\"Float\",\"startOffset\":14782885,\"duration\":31955},{\"path\":[\"dishMany\",13,\"_id\"],\"parentType\":\"Dish\",\"fieldName\":\"_id\",\"returnType\":\"MongoID!\",\"startOffset\":14822879,\"duration\":12525},{\"path\":[\"dishMany\",14,\"average_rating\"],\"parentType\":\"Dish\",\"fieldName\":\"average_rating\",\"returnType\":\"Float\",\"startOffset\":14856221,\"duration\":16069},{\"path\":[\"dishMany\",14,\"_id\"],\"parentType\":\"Dish\",\"fieldName\":\"_id\",\"returnType\":\"MongoID!\",\"startOffset\":14878353,\"duration\":10388},{\"path\":[\"dishMany\",15,\"average_rating\"],\"parentType\":\"Dish\",\"fieldName\":\"average_rating\",\"returnType\":\"Float\",\"startOffset\":14906907,\"duration\":15562},{\"path\":[\"dishMany\",15,\"_id\"],\"parentType\":\"Dish\",\"fieldName\":\"_id\",\"returnType\":\"MongoID!\",\"startOffset\":14928276,\"duration\":47447},{\"path\":[\"dishMany\",16,\"average_rating\"],\"parentType\":\"Dish\",\"fieldName\":\"average_rating\",\"returnType\":\"Float\",\"startOffset\":15084008,\"duration\":21861},{\"path\":[\"dishMany\",16,\"_id\"],\"parentType\":\"Dish\",\"fieldName\":\"_id\",\"returnType\":\"MongoID!\",\"startOffset\":15117225,\"duration\":12089},{\"path\":[\"dishMany\",17,\"average_rating\"],\"parentType\":\"Dish\",\"fieldName\":\"average_rating\",\"returnType\":\"Float\",\"startOffset\":15144344,\"duration\":18906},{\"path\":[\"dishMany\",17,\"_id\"],\"parentType\":\"Dish\",\"fieldName\":\"_id\",\"returnType\":\"MongoID!\",\"startOffset\":15169631,\"duration\":11025},{\"path\":[\"dishMany\",18,\"average_rating\"],\"parentType\":\"Dish\",\"fieldName\":\"average_rating\",\"returnType\":\"Float\",\"startOffset\":15201587,\"duration\":15958},{\"path\":[\"dishMany\",18,\"_id\"],\"parentType\":\"Dish\",\"fieldName\":\"_id\",\"returnType\":\"MongoID!\",\"startOffset\":15223624,\"duration\":20840},{\"path\":[\"dishMany\",19,\"average_rating\"],\"parentType\":\"Dish\",\"fieldName\":\"average_rating\",\"returnType\":\"Float\",\"startOffset\":15269987,\"duration\":26566},{\"path\":[\"dishMany\",19,\"_id\"],\"parentType\":\"Dish\",\"fieldName\":\"_id\",\"returnType\":\"MongoID!\",\"startOffset\":15302947,\"duration\":15482},{\"path\":[\"dishMany\",20,\"average_rating\"],\"parentType\":\"Dish\",\"fieldName\":\"average_rating\",\"returnType\":\"Float\",\"startOffset\":15343909,\"duration\":16878},{\"path\":[\"dishMany\",20,\"_id\"],\"parentType\":\"Dish\",\"fieldName\":\"_id\",\"returnType\":\"MongoID!\",\"startOffset\":15371184,\"duration\":11935},{\"path\":[\"dishMany\",21,\"average_rating\"],\"parentType\":\"Dish\",\"fieldName\":\"average_rating\",\"returnType\":\"Float\",\"startOffset\":15397184,\"duration\":26011},{\"path\":[\"dishMany\",21,\"_id\"],\"parentType\":\"Dish\",\"fieldName\":\"_id\",\"returnType\":\"MongoID!\",\"startOffset\":15429659,\"duration\":13942},{\"path\":[\"dishMany\",22,\"average_rating\"],\"parentType\":\"Dish\",\"fieldName\":\"average_rating\",\"returnType\":\"Float\",\"startOffset\":15464805,\"duration\":16698},{\"path\":[\"dishMany\",22,\"_id\"],\"parentType\":\"Dish\",\"fieldName\":\"_id\",\"returnType\":\"MongoID!\",\"startOffset\":15487622,\"duration\":15644},{\"path\":[\"dishMany\",23,\"average_rating\"],\"parentType\":\"Dish\",\"fieldName\":\"average_rating\",\"returnType\":\"Float\",\"startOffset\":15517241,\"duration\":14803},{\"path\":[\"dishMany\",23,\"_id\"],\"parentType\":\"Dish\",\"fieldName\":\"_id\",\"returnType\":\"MongoID!\",\"startOffset\":15542195,\"duration\":11676},{\"path\":[\"dishMany\",24,\"average_rating\"],\"parentType\":\"Dish\",\"fieldName\":\"average_rating\",\"returnType\":\"Float\",\"startOffset\":15567044,\"duration\":18985},{\"path\":[\"dishMany\",24,\"_id\"],\"parentType\":\"Dish\",\"fieldName\":\"_id\",\"returnType\":\"MongoID!\",\"startOffset\":15592229,\"duration\":11149},{\"path\":[\"dishMany\",25,\"average_rating\"],\"parentType\":\"Dish\",\"fieldName\":\"average_rating\",\"returnType\":\"Float\",\"startOffset\":15622324,\"duration\":15989},{\"path\":[\"dishMany\",25,\"_id\"],\"parentType\":\"Dish\",\"fieldName\":\"_id\",\"returnType\":\"MongoID!\",\"startOffset\":15644534,\"duration\":10741},{\"path\":[\"dishMany\",26,\"average_rating\"],\"parentType\":\"Dish\",\"fieldName\":\"average_rating\",\"returnType\":\"Float\",\"startOffset\":15673038,\"duration\":15276},{\"path\":[\"dishMany\",26,\"_id\"],\"parentType\":\"Dish\",\"fieldName\":\"_id\",\"returnType\":\"MongoID!\",\"startOffset\":15694180,\"duration\":15857},{\"path\":[\"dishMany\",27,\"average_rating\"],\"parentType\":\"Dish\",\"fieldName\":\"average_rating\",\"returnType\":\"Float\",\"startOffset\":15723680,\"duration\":14566},{\"path\":[\"dishMany\",27,\"_id\"],\"parentType\":\"Dish\",\"fieldName\":\"_id\",\"returnType\":\"MongoID!\",\"startOffset\":15748176,\"duration\":11529},{\"path\":[\"dishMany\",28,\"average_rating\"],\"parentType\":\"Dish\",\"fieldName\":\"average_rating\",\"returnType\":\"Float\",\"startOffset\":15773029,\"duration\":18940},{\"path\":[\"dishMany\",28,\"_id\"],\"parentType\":\"Dish\",\"fieldName\":\"_id\",\"returnType\":\"MongoID!\",\"startOffset\":15798059,\"duration\":11300},{\"path\":[\"dishMany\",29,\"average_rating\"],\"parentType\":\"Dish\",\"fieldName\":\"average_rating\",\"returnType\":\"Float\",\"startOffset\":15826533,\"duration\":15867},{\"path\":[\"dishMany\",29,\"_id\"],\"parentType\":\"Dish\",\"fieldName\":\"_id\",\"returnType\":\"MongoID!\",\"startOffset\":15848497,\"duration\":10698},{\"path\":[\"dishMany\",30,\"average_rating\"],\"parentType\":\"Dish\",\"fieldName\":\"average_rating\",\"returnType\":\"Float\",\"startOffset\":15876572,\"duration\":15122},{\"path\":[\"dishMany\",30,\"_id\"],\"parentType\":\"Dish\",\"fieldName\":\"_id\",\"returnType\":\"MongoID!\",\"startOffset\":15897609,\"duration\":15136},{\"path\":[\"dishMany\",31,\"average_rating\"],\"parentType\":\"Dish\",\"fieldName\":\"average_rating\",\"returnType\":\"Float\",\"startOffset\":15926209,\"duration\":14294},{\"path\":[\"dishMany\",31,\"_id\"],\"parentType\":\"Dish\",\"fieldName\":\"_id\",\"returnType\":\"MongoID!\",\"startOffset\":15950703,\"duration\":11489},{\"path\":[\"dishMany\",32,\"average_rating\"],\"parentType\":\"Dish\",\"fieldName\":\"average_rating\",\"returnType\":\"Float\",\"startOffset\":15975520,\"duration\":18997},{\"path\":[\"dishMany\",32,\"_id\"],\"parentType\":\"Dish\",\"fieldName\":\"_id\",\"returnType\":\"MongoID!\",\"startOffset\":16000794,\"duration\":10682},{\"path\":[\"dishMany\",33,\"average_rating\"],\"parentType\":\"Dish\",\"fieldName\":\"average_rating\",\"returnType\":\"Float\",\"startOffset\":16028881,\"duration\":15557},{\"path\":[\"dishMany\",33,\"_id\"],\"parentType\":\"Dish\",\"fieldName\":\"_id\",\"returnType\":\"MongoID!\",\"startOffset\":16050152,\"duration\":14076},{\"path\":[\"dishMany\",34,\"average_rating\"],\"parentType\":\"Dish\",\"fieldName\":\"average_rating\",\"returnType\":\"Float\",\"startOffset\":16078579,\"duration\":14821},{\"path\":[\"dishMany\",34,\"_id\"],\"parentType\":\"Dish\",\"fieldName\":\"_id\",\"returnType\":\"MongoID!\",\"startOffset\":16102880,\"duration\":11759},{\"path\":[\"dishMany\",35,\"average_rating\"],\"parentType\":\"Dish\",\"fieldName\":\"average_rating\",\"returnType\":\"Float\",\"startOffset\":16127799,\"duration\":18385},{\"path\":[\"dishMany\",35,\"_id\"],\"parentType\":\"Dish\",\"fieldName\":\"_id\",\"returnType\":\"MongoID!\",\"startOffset\":16152476,\"duration\":11025},{\"path\":[\"dishMany\",36,\"average_rating\"],\"parentType\":\"Dish\",\"fieldName\":\"average_rating\",\"returnType\":\"Float\",\"startOffset\":16176418,\"duration\":21169},{\"path\":[\"dishMany\",36,\"_id\"],\"parentType\":\"Dish\",\"fieldName\":\"_id\",\"returnType\":\"MongoID!\",\"startOffset\":16203748,\"duration\":10586},{\"path\":[\"dishMany\",37,\"average_rating\"],\"parentType\":\"Dish\",\"fieldName\":\"average_rating\",\"returnType\":\"Float\",\"startOffset\":16231541,\"duration\":15549},{\"path\":[\"dishMany\",37,\"_id\"],\"parentType\":\"Dish\",\"fieldName\":\"_id\",\"returnType\":\"MongoID!\",\"startOffset\":16253163,\"duration\":14405},{\"path\":[\"dishMany\",38,\"average_rating\"],\"parentType\":\"Dish\",\"fieldName\":\"average_rating\",\"returnType\":\"Float\",\"startOffset\":16281671,\"duration\":15053},{\"path\":[\"dishMany\",38,\"_id\"],\"parentType\":\"Dish\",\"fieldName\":\"_id\",\"returnType\":\"MongoID!\",\"startOffset\":16306470,\"duration\":11810},{\"path\":[\"dishMany\",39,\"average_rating\"],\"parentType\":\"Dish\",\"fieldName\":\"average_rating\",\"returnType\":\"Float\",\"startOffset\":16332021,\"duration\":18400},{\"path\":[\"dishMany\",39,\"_id\"],\"parentType\":\"Dish\",\"fieldName\":\"_id\",\"returnType\":\"MongoID!\",\"startOffset\":16356439,\"duration\":11451},{\"path\":[\"dishMany\",40,\"average_rating\"],\"parentType\":\"Dish\",\"fieldName\":\"average_rating\",\"returnType\":\"Float\",\"startOffset\":16381108,\"duration\":19221},{\"path\":[\"dishMany\",40,\"_id\"],\"parentType\":\"Dish\",\"fieldName\":\"_id\",\"returnType\":\"MongoID!\",\"startOffset\":16406446,\"duration\":42729},{\"path\":[\"dishMany\",41,\"average_rating\"],\"parentType\":\"Dish\",\"fieldName\":\"average_rating\",\"returnType\":\"Float\",\"startOffset\":16467320,\"duration\":16759},{\"path\":[\"dishMany\",41,\"_id\"],\"parentType\":\"Dish\",\"fieldName\":\"_id\",\"returnType\":\"MongoID!\",\"startOffset\":16494758,\"duration\":11844},{\"path\":[\"dishMany\",42,\"average_rating\"],\"parentType\":\"Dish\",\"fieldName\":\"average_rating\",\"returnType\":\"Float\",\"startOffset\":16520231,\"duration\":22217},{\"path\":[\"dishMany\",42,\"_id\"],\"parentType\":\"Dish\",\"fieldName\":\"_id\",\"returnType\":\"MongoID!\",\"startOffset\":16548542,\"duration\":11269},{\"path\":[\"dishMany\",43,\"average_rating\"],\"parentType\":\"Dish\",\"fieldName\":\"average_rating\",\"returnType\":\"Float\",\"startOffset\":16576936,\"duration\":27308},{\"path\":[\"dishMany\",43,\"_id\"],\"parentType\":\"Dish\",\"fieldName\":\"_id\",\"returnType\":\"MongoID!\",\"startOffset\":16610809,\"duration\":52781},{\"path\":[\"dishMany\",44,\"average_rating\"],\"parentType\":\"Dish\",\"fieldName\":\"average_rating\",\"returnType\":\"Float\",\"startOffset\":16695838,\"duration\":20932},{\"path\":[\"dishMany\",44,\"_id\"],\"parentType\":\"Dish\",\"fieldName\":\"_id\",\"returnType\":\"MongoID!\",\"startOffset\":16722986,\"duration\":21690},{\"path\":[\"dishMany\",45,\"average_rating\"],\"parentType\":\"Dish\",\"fieldName\":\"average_rating\",\"returnType\":\"Float\",\"startOffset\":16761063,\"duration\":18338},{\"path\":[\"dishMany\",45,\"_id\"],\"parentType\":\"Dish\",\"fieldName\":\"_id\",\"returnType\":\"MongoID!\",\"startOffset\":16791552,\"duration\":13080},{\"path\":[\"dishMany\",46,\"average_rating\"],\"parentType\":\"Dish\",\"fieldName\":\"average_rating\",\"returnType\":\"Float\",\"startOffset\":16819282,\"duration\":18900},{\"path\":[\"dishMany\",46,\"_id\"],\"parentType\":\"Dish\",\"fieldName\":\"_id\",\"returnType\":\"MongoID!\",\"startOffset\":16844322,\"duration\":11267},{\"path\":[\"dishMany\",47,\"average_rating\"],\"parentType\":\"Dish\",\"fieldName\":\"average_rating\",\"returnType\":\"Float\",\"startOffset\":16874228,\"duration\":15781},{\"path\":[\"dishMany\",47,\"_id\"],\"parentType\":\"Dish\",\"fieldName\":\"_id\",\"returnType\":\"MongoID!\",\"startOffset\":16895949,\"duration\":10493},{\"path\":[\"dishMany\",48,\"average_rating\"],\"parentType\":\"Dish\",\"fieldName\":\"average_rating\",\"returnType\":\"Float\",\"startOffset\":16924051,\"duration\":15021},{\"path\":[\"dishMany\",48,\"_id\"],\"parentType\":\"Dish\",\"fieldName\":\"_id\",\"returnType\":\"MongoID!\",\"startOffset\":16945002,\"duration\":15333},{\"path\":[\"dishMany\",49,\"average_rating\"],\"parentType\":\"Dish\",\"fieldName\":\"average_rating\",\"returnType\":\"Float\",\"startOffset\":16973597,\"duration\":14230},{\"path\":[\"dishMany\",49,\"_id\"],\"parentType\":\"Dish\",\"fieldName\":\"_id\",\"returnType\":\"MongoID!\",\"startOffset\":16997944,\"duration\":11292}]}}}}\n",
      "\n"
     ]
    }
   ],
   "source": [
    "url = 'https://palette-backend.herokuapp.com/graphql'\n",
    "r = requests.post(url, json={'query': popular_dish_query})\n",
    "print(r.status_code)\n",
    "print(r.text)"
   ]
  },
  {
   "cell_type": "code",
   "execution_count": 42,
   "metadata": {},
   "outputs": [],
   "source": [
    "json_data = json.loads(r.text)\n",
    "df = json_data['data']['dishMany']"
   ]
  },
  {
   "cell_type": "code",
   "execution_count": 43,
   "metadata": {},
   "outputs": [
    {
     "name": "stdout",
     "output_type": "stream",
     "text": [
      "[{'average_rating': 3.3, '_id': '603ab53b88dbe9c89607dfae'}, {'average_rating': 1.1, '_id': '603ab53b88dbe9c89607dfc4'}, {'average_rating': 2.5, '_id': '603ab53b88dbe9c89607dfa7'}, {'average_rating': 1.3, '_id': '603ab53b88dbe9c89607dfab'}, {'average_rating': 5, '_id': '603ab53b88dbe9c89607dfac'}, {'average_rating': 5, '_id': '603ab53b88dbe9c89607dfb1'}, {'average_rating': 1.8, '_id': '603ab53b88dbe9c89607dfb4'}, {'average_rating': 4.1, '_id': '603ab53b88dbe9c89607dfba'}, {'average_rating': 2, '_id': '603ab53b88dbe9c89607dfc6'}, {'average_rating': 3.9, '_id': '603ab53b88dbe9c89607dfcf'}, {'average_rating': 2.9, '_id': '603ab53b88dbe9c89607dfc0'}, {'average_rating': 3.1, '_id': '603ab53b88dbe9c89607dfc7'}, {'average_rating': 3.1, '_id': '603ab53b88dbe9c89607dfcb'}, {'average_rating': 4.8, '_id': '603ab53b88dbe9c89607dfd8'}, {'average_rating': 4, '_id': '603ab53b88dbe9c89607dfaa'}, {'average_rating': 5, '_id': '603ab53b88dbe9c89607dfaf'}, {'average_rating': 2.1, '_id': '603ab53b88dbe9c89607dfad'}, {'average_rating': 1.6, '_id': '603ab53b88dbe9c89607dfc3'}, {'average_rating': 3.5, '_id': '603ab53b88dbe9c89607dfd2'}, {'average_rating': 2.1, '_id': '603ab53b88dbe9c89607dfd4'}, {'average_rating': 3.4, '_id': '603ab53b88dbe9c89607dfd0'}, {'average_rating': 1.5, '_id': '603ab53b88dbe9c89607dfbe'}, {'average_rating': 4.1, '_id': '603ab53b88dbe9c89607dfb2'}, {'average_rating': 1.5, '_id': '603ab53b88dbe9c89607dfa9'}, {'average_rating': 4.2, '_id': '603ab53b88dbe9c89607dfd6'}, {'average_rating': 3.7, '_id': '603ab53b88dbe9c89607dfbd'}, {'average_rating': 4.5, '_id': '603ab53b88dbe9c89607dfcd'}, {'average_rating': 1.1, '_id': '603ab53b88dbe9c89607dfd5'}, {'average_rating': 3.3, '_id': '603ab53b88dbe9c89607dfd7'}, {'average_rating': 1.3, '_id': '603ab53b88dbe9c89607dfc5'}, {'average_rating': 5, '_id': '603ab53b88dbe9c89607dfd3'}, {'average_rating': 1.2, '_id': '603ab53b88dbe9c89607dfca'}, {'average_rating': 5, '_id': '603ab53b88dbe9c89607dfa8'}, {'average_rating': 4.2, '_id': '603ab53b88dbe9c89607dfbb'}, {'average_rating': 1.1, '_id': '603ab53b88dbe9c89607dfb6'}, {'average_rating': 4.9, '_id': '603ab53b88dbe9c89607dfc2'}, {'average_rating': 3.7, '_id': '603ab53b88dbe9c89607dfbf'}, {'average_rating': 1.8, '_id': '603ab53b88dbe9c89607dfc1'}, {'average_rating': 4.5, '_id': '603ab53b88dbe9c89607dfc9'}, {'average_rating': 1.5, '_id': '603ab53b88dbe9c89607dfb7'}, {'average_rating': 4.7, '_id': '603ab53b88dbe9c89607dfb8'}, {'average_rating': 2.2, '_id': '603ab53b88dbe9c89607dfce'}, {'average_rating': 1, '_id': '603ab53b88dbe9c89607dfd1'}, {'average_rating': 4.5, '_id': '603ab53b88dbe9c89607dfbc'}, {'average_rating': 2.8, '_id': '603ab53b88dbe9c89607dfc8'}, {'average_rating': 4.5, '_id': '603ab53b88dbe9c89607dfcc'}, {'average_rating': 2.3, '_id': '603ab53b88dbe9c89607dfb0'}, {'average_rating': 1.2, '_id': '603ab53b88dbe9c89607dfb3'}, {'average_rating': 1.2, '_id': '603ab53b88dbe9c89607dfb5'}, {'average_rating': 4.6, '_id': '603ab53b88dbe9c89607dfb9'}]\n"
     ]
    }
   ],
   "source": [
    "print(df)"
   ]
  },
  {
   "cell_type": "code",
   "execution_count": 48,
   "metadata": {},
   "outputs": [],
   "source": [
    "def extract_average(json):\n",
    "    try:\n",
    "        # Also convert to int since update_time will be string.  When comparing\n",
    "        # strings, \"10\" is smaller than \"2\".\n",
    "        return int(json['average_rating'])\n",
    "    except KeyError:\n",
    "        return 0\n",
    "\n",
    "df.sort(key=extract_average, reverse=True)"
   ]
  },
  {
   "cell_type": "code",
   "execution_count": 56,
   "metadata": {},
   "outputs": [
    {
     "name": "stdout",
     "output_type": "stream",
     "text": [
      "[{'average_rating': 5, '_id': '603ab53b88dbe9c89607dfac'}, {'average_rating': 5, '_id': '603ab53b88dbe9c89607dfb1'}, {'average_rating': 5, '_id': '603ab53b88dbe9c89607dfaf'}, {'average_rating': 5, '_id': '603ab53b88dbe9c89607dfd3'}, {'average_rating': 5, '_id': '603ab53b88dbe9c89607dfa8'}, {'average_rating': 4.1, '_id': '603ab53b88dbe9c89607dfba'}, {'average_rating': 4.8, '_id': '603ab53b88dbe9c89607dfd8'}, {'average_rating': 4, '_id': '603ab53b88dbe9c89607dfaa'}, {'average_rating': 4.1, '_id': '603ab53b88dbe9c89607dfb2'}, {'average_rating': 4.2, '_id': '603ab53b88dbe9c89607dfd6'}, {'average_rating': 4.5, '_id': '603ab53b88dbe9c89607dfcd'}, {'average_rating': 4.2, '_id': '603ab53b88dbe9c89607dfbb'}, {'average_rating': 4.9, '_id': '603ab53b88dbe9c89607dfc2'}, {'average_rating': 4.5, '_id': '603ab53b88dbe9c89607dfc9'}, {'average_rating': 4.7, '_id': '603ab53b88dbe9c89607dfb8'}, {'average_rating': 4.5, '_id': '603ab53b88dbe9c89607dfbc'}, {'average_rating': 4.5, '_id': '603ab53b88dbe9c89607dfcc'}, {'average_rating': 4.6, '_id': '603ab53b88dbe9c89607dfb9'}, {'average_rating': 3.3, '_id': '603ab53b88dbe9c89607dfae'}, {'average_rating': 3.9, '_id': '603ab53b88dbe9c89607dfcf'}, {'average_rating': 3.1, '_id': '603ab53b88dbe9c89607dfc7'}, {'average_rating': 3.1, '_id': '603ab53b88dbe9c89607dfcb'}, {'average_rating': 3.5, '_id': '603ab53b88dbe9c89607dfd2'}, {'average_rating': 3.4, '_id': '603ab53b88dbe9c89607dfd0'}, {'average_rating': 3.7, '_id': '603ab53b88dbe9c89607dfbd'}, {'average_rating': 3.3, '_id': '603ab53b88dbe9c89607dfd7'}, {'average_rating': 3.7, '_id': '603ab53b88dbe9c89607dfbf'}, {'average_rating': 2.5, '_id': '603ab53b88dbe9c89607dfa7'}, {'average_rating': 2, '_id': '603ab53b88dbe9c89607dfc6'}, {'average_rating': 2.9, '_id': '603ab53b88dbe9c89607dfc0'}, {'average_rating': 2.1, '_id': '603ab53b88dbe9c89607dfad'}, {'average_rating': 2.1, '_id': '603ab53b88dbe9c89607dfd4'}, {'average_rating': 2.2, '_id': '603ab53b88dbe9c89607dfce'}, {'average_rating': 2.8, '_id': '603ab53b88dbe9c89607dfc8'}, {'average_rating': 2.3, '_id': '603ab53b88dbe9c89607dfb0'}, {'average_rating': 1.1, '_id': '603ab53b88dbe9c89607dfc4'}, {'average_rating': 1.3, '_id': '603ab53b88dbe9c89607dfab'}, {'average_rating': 1.8, '_id': '603ab53b88dbe9c89607dfb4'}, {'average_rating': 1.6, '_id': '603ab53b88dbe9c89607dfc3'}, {'average_rating': 1.5, '_id': '603ab53b88dbe9c89607dfbe'}, {'average_rating': 1.5, '_id': '603ab53b88dbe9c89607dfa9'}, {'average_rating': 1.1, '_id': '603ab53b88dbe9c89607dfd5'}, {'average_rating': 1.3, '_id': '603ab53b88dbe9c89607dfc5'}, {'average_rating': 1.2, '_id': '603ab53b88dbe9c89607dfca'}, {'average_rating': 1.1, '_id': '603ab53b88dbe9c89607dfb6'}, {'average_rating': 1.8, '_id': '603ab53b88dbe9c89607dfc1'}, {'average_rating': 1.5, '_id': '603ab53b88dbe9c89607dfb7'}, {'average_rating': 1, '_id': '603ab53b88dbe9c89607dfd1'}, {'average_rating': 1.2, '_id': '603ab53b88dbe9c89607dfb3'}, {'average_rating': 1.2, '_id': '603ab53b88dbe9c89607dfb5'}]\n"
     ]
    }
   ],
   "source": [
    "print(df)\n",
    "df = df[0:9]"
   ]
  },
  {
   "cell_type": "code",
   "execution_count": 57,
   "metadata": {},
   "outputs": [
    {
     "name": "stdout",
     "output_type": "stream",
     "text": [
      "[{'average_rating': 5, '_id': '603ab53b88dbe9c89607dfac'}, {'average_rating': 5, '_id': '603ab53b88dbe9c89607dfb1'}, {'average_rating': 5, '_id': '603ab53b88dbe9c89607dfaf'}, {'average_rating': 5, '_id': '603ab53b88dbe9c89607dfd3'}, {'average_rating': 5, '_id': '603ab53b88dbe9c89607dfa8'}, {'average_rating': 4.1, '_id': '603ab53b88dbe9c89607dfba'}, {'average_rating': 4.8, '_id': '603ab53b88dbe9c89607dfd8'}, {'average_rating': 4, '_id': '603ab53b88dbe9c89607dfaa'}, {'average_rating': 4.1, '_id': '603ab53b88dbe9c89607dfb2'}]\n"
     ]
    }
   ],
   "source": [
    "print(ret)"
   ]
  },
  {
   "cell_type": "code",
   "execution_count": 58,
   "metadata": {},
   "outputs": [
    {
     "name": "stdout",
     "output_type": "stream",
     "text": [
      "['603ab53b88dbe9c89607dfac', '603ab53b88dbe9c89607dfb1', '603ab53b88dbe9c89607dfaf', '603ab53b88dbe9c89607dfd3', '603ab53b88dbe9c89607dfa8', '603ab53b88dbe9c89607dfba', '603ab53b88dbe9c89607dfd8', '603ab53b88dbe9c89607dfaa', '603ab53b88dbe9c89607dfb2']\n"
     ]
    }
   ],
   "source": [
    "rec_list = []\n",
    "for rec in df:\n",
    "    rec_list.append(rec['_id'])\n",
    "\n",
    "print(rec_list)"
   ]
  },
  {
   "cell_type": "code",
   "execution_count": 52,
   "metadata": {},
   "outputs": [],
   "source": [
    "from sentence_transformers import SentenceTransformer, util\n",
    "from datetime import date, datetime, timedelta\n"
   ]
  },
  {
   "cell_type": "code",
   "execution_count": 53,
   "metadata": {},
   "outputs": [],
   "source": [
    "model = SentenceTransformer('paraphrase-distilroberta-base-v1')\n",
    "\n",
    "# Two lists of sentences\n",
    "recommended_desc = ['Thin rice noodles stir-fried with egg, green onions, bean sprouts and ground peanuts.']\n",
    "\n",
    "new_desc = ['Wide rice noodles stir-fried with egg, sweet soy sauce, broccoli and carrots.']"
   ]
  },
  {
   "cell_type": "code",
   "execution_count": 54,
   "metadata": {},
   "outputs": [],
   "source": [
    "#Compute embedding for both lists\n",
    "embeddings1 = model.encode(sentences1, convert_to_tensor=True, show_progress_bar=False)\n",
    "embeddings2 = model.encode(sentences2, convert_to_tensor=True, show_progress_bar=False)"
   ]
  },
  {
   "cell_type": "code",
   "execution_count": 55,
   "metadata": {},
   "outputs": [
    {
     "name": "stdout",
     "output_type": "stream",
     "text": [
      "tensor([[0.5883]])\n"
     ]
    }
   ],
   "source": [
    "#Compute cosine-similarits\n",
    "cosine_scores = util.pytorch_cos_sim(embeddings1, embeddings2)\n",
    "\n",
    "print(cosine_scores)"
   ]
  },
  {
   "cell_type": "code",
   "execution_count": 122,
   "metadata": {},
   "outputs": [],
   "source": [
    "new_dish_query = \"\"\"query {\n",
    "  \t\tdishMany {\n",
    "\t\t\tdescription\n",
    "            createdAt\n",
    "\t\t\t_id\n",
    "  \t\t}}\"\"\"\n",
    "\n"
   ]
  },
  {
   "cell_type": "code",
   "execution_count": 123,
   "metadata": {},
   "outputs": [
    {
     "name": "stdout",
     "output_type": "stream",
     "text": [
      "200\n",
      "{\"data\":{\"dishMany\":[{\"description\":\"Fried rice with egg, onions, carrots, green peas and tomatoes topped with crispy chicken.\",\"createdAt\":\"2021-04-04T15:00:00.000Z\",\"_id\":\"603ab53b88dbe9c89607dfae\"},{\"description\":\"Sweet potato gratin, green beans, pan jus\",\"createdAt\":\"2021-04-04T15:00:00.000Z\",\"_id\":\"603ab53b88dbe9c89607dfc4\"},{\"description\":\"Thai Panang curry paste with coconut milk, kaffir lime leaves and bell peppers.\",\"createdAt\":\"2021-04-04T15:00:00.000Z\",\"_id\":\"603ab53b88dbe9c89607dfa7\"},{\"description\":\"Wide rice noodles stir-fried with egg, fresh chili, bell peppers, onions, green beans and basil leaves.\",\"createdAt\":\"2021-04-04T15:00:00.000Z\",\"_id\":\"603ab53b88dbe9c89607dfab\"},{\"description\":\"Your choice of meat with steamed vegetables, topped with peanut sauce.\",\"createdAt\":\"2021-04-04T15:00:00.000Z\",\"_id\":\"603ab53b88dbe9c89607dfac\"},{\"description\":\"VT turkey, cheddar, cranberry, mayo\",\"createdAt\":\"2021-04-04T15:00:00.000Z\",\"_id\":\"603ab53b88dbe9c89607dfb1\"},{\"description\":\"American cheese, crispy shallots, bacon, Baja sauce\",\"createdAt\":\"2021-04-04T15:00:00.000Z\",\"_id\":\"603ab53b88dbe9c89607dfb4\"},{\"description\":\"Pan seared pork chop, potato confit, green beans, cinnamon pear demi\",\"createdAt\":\"2021-04-04T15:00:00.000Z\",\"_id\":\"603ab53b88dbe9c89607dfba\"},{\"description\":\"the Classic with pepperoni\",\"createdAt\":\"2021-04-04T15:00:00.000Z\",\"_id\":\"603ab53b88dbe9c89607dfc6\"},{\"description\":\"beer battered north Atlantic cod served with fries, slaw and tartar sauce\",\"createdAt\":\"2021-04-04T15:00:00.000Z\",\"_id\":\"603ab53b88dbe9c89607dfcf\"},{\"description\":\"Butternut squash, nutritional yeast, garbanzo bean, scallion, shiitake bacon\",\"createdAt\":\"2021-04-04T15:00:00.000Z\",\"_id\":\"603ab53b88dbe9c89607dfc0\"},{\"description\":\"ripe tomato, roasted garlic, fontina, fresh mozzarella, basil dressed arugala on top\",\"createdAt\":\"2021-04-04T15:00:00.000Z\",\"_id\":\"603ab53b88dbe9c89607dfc7\"},{\"description\":\"sautéed chicken strips with bacon, garlic, basil, tossed in parmesan cream sauce and rigatoni\",\"createdAt\":\"2021-04-04T15:00:00.000Z\",\"_id\":\"603ab53b88dbe9c89607dfcb\"},{\"description\":\"Tomato sauce, spicy chicken, tomatoes, peppers, onions and crushed red peppers.\",\"createdAt\":\"2021-04-04T15:00:00.000Z\",\"_id\":\"603ab53b88dbe9c89607dfd8\"},{\"description\":\"Thai Green curry paste with coconut milk, basil leaves, bamboo shoots, eggplant, zucchini and bell peppers.\",\"createdAt\":\"2021-04-04T15:00:00.000Z\",\"_id\":\"603ab53b88dbe9c89607dfaa\"},{\"description\":\"Spicy fried rice with egg, fresh ground chili, onions, bell peppers, garlic, green beans and basil leaves.\",\"createdAt\":\"2021-04-04T15:00:00.000Z\",\"_id\":\"603ab53b88dbe9c89607dfaf\"},{\"description\":\"Wide rice noodles stir-fried with egg, sweet soy sauce, broccoli and carrots.\",\"createdAt\":\"2021-04-04T15:00:00.000Z\",\"_id\":\"603ab53b88dbe9c89607dfad\"},{\"description\":\"sautéed chicken strips with coconut milk, green curry, ginger, scallions and sweet bell peppers, served over confetti rice\",\"createdAt\":\"2021-04-04T15:00:00.000Z\",\"_id\":\"603ab53b88dbe9c89607dfc3\"},{\"description\":\"Tomato sauce, mozzarella and american cheeses, beef, peppers, mushrooms and onions.\",\"createdAt\":\"2021-04-04T15:00:00.000Z\",\"_id\":\"603ab53b88dbe9c89607dfd2\"},{\"description\":\"Add chicken, sweet Italian sausage or meatballs for $2.00\",\"createdAt\":\"2021-04-04T15:00:00.000Z\",\"_id\":\"603ab53b88dbe9c89607dfd4\"},{\"description\":\"beef tenderloin tips, grilled peppers, crispy onions, over confetti rice\",\"createdAt\":\"2021-04-04T15:00:00.000Z\",\"_id\":\"603ab53b88dbe9c89607dfd0\"},{\"description\":\"Corn Slaw, pickled onion, feta, radish, Pico, lime\",\"createdAt\":\"2021-04-04T15:00:00.000Z\",\"_id\":\"603ab53b88dbe9c89607dfbe\"},{\"description\":\"bacon, lettuce, tomato, Dijon aioli\",\"createdAt\":\"2021-04-04T15:00:00.000Z\",\"_id\":\"603ab53b88dbe9c89607dfb2\"},{\"description\":\"Fresh ground chilis, stir-fried with basil leaves, onions, fresh garlic, bamboo shoots, green beans and bell peppers.\",\"createdAt\":\"2021-04-04T15:00:00.000Z\",\"_id\":\"603ab53b88dbe9c89607dfa9\"},{\"description\":\"Prosciutto and chicken breast tossed in a creamy pesto sauce with tomatoes, broccoli and penne.\",\"createdAt\":\"2021-04-04T15:00:00.000Z\",\"_id\":\"603ab53b88dbe9c89607dfd6\"},{\"description\":\"Cheddar, avocado, grilled sourdough\",\"createdAt\":\"2021-04-04T15:00:00.000Z\",\"_id\":\"603ab53b88dbe9c89607dfbd\"},{\"description\":\"baby arugula, toasted almonds, lemon basil quinoa, herb honey glaze\",\"createdAt\":\"2021-04-04T15:00:00.000Z\",\"_id\":\"603ab53b88dbe9c89607dfcd\"},{\"description\":\"Crisp greens with classic Mediterranean veggies, pepperoncini, feta cheese, salami, and ham, served with greek dressing.\",\"createdAt\":\"2021-04-04T15:00:00.000Z\",\"_id\":\"603ab53b88dbe9c89607dfd5\"},{\"description\":\"Mozzarella topped with tomato sauce, fresh basil and extra virgin olive oil.\",\"createdAt\":\"2021-04-04T15:00:00.000Z\",\"_id\":\"603ab53b88dbe9c89607dfd7\"},{\"description\":\"your choice of seafood with shredded cabbage, cheddar, guacamole, sides Mexican rice, chipotle ranch and rustic salsa\",\"createdAt\":\"2021-04-04T15:00:00.000Z\",\"_id\":\"603ab53b88dbe9c89607dfc5\"},{\"description\":\"Seasoned fresh mozzarella, fresh basil and tomatoes served on a bed of romaine; finished with a drizzle of extra virgin olive oil and balsamic reduction.\",\"createdAt\":\"2021-04-04T15:00:00.000Z\",\"_id\":\"603ab53b88dbe9c89607dfd3\"},{\"description\":\"corn, peppers,onion, cheddar, Mexican spices, topped with tomato, arugula and guacamole\",\"createdAt\":\"2021-04-04T15:00:00.000Z\",\"_id\":\"603ab53b88dbe9c89607dfca\"},{\"description\":\"Thin rice noodles stir-fried with egg, green onions, bean sprouts and ground peanuts.\",\"createdAt\":\"2021-05-04T15:00:00.000Z\",\"_id\":\"603ab53b88dbe9c89607dfa8\"},{\"description\":\"Mashed potato, green beans, red wine demi\",\"createdAt\":\"2021-04-04T15:00:00.000Z\",\"_id\":\"603ab53b88dbe9c89607dfbb\"},{\"description\":\"Ground lamb, peas, onions, corn, carrots, mashed potato\",\"createdAt\":\"2021-04-04T15:00:00.000Z\",\"_id\":\"603ab53b88dbe9c89607dfb6\"},{\"description\":\"Fried white fish, slaw, tartar\",\"createdAt\":\"2021-04-04T15:00:00.000Z\",\"_id\":\"603ab53b88dbe9c89607dfc2\"},{\"description\":\"Bacon, lettuce, tomato, avocado, mayo\",\"createdAt\":\"2021-04-04T15:00:00.000Z\",\"_id\":\"603ab53b88dbe9c89607dfbf\"},{\"description\":\"Penne, cheddar, bread crumbs\",\"createdAt\":\"2021-04-04T15:00:00.000Z\",\"_id\":\"603ab53b88dbe9c89607dfc1\"},{\"description\":\"plant-based patty, BBQ, cheddar, avocado, crispy onion\",\"createdAt\":\"2021-05-04T15:00:00.000Z\",\"_id\":\"603ab53b88dbe9c89607dfc9\"},{\"description\":\"Corn Slaw, pickled onion, feta, radish, Pico, lime\",\"createdAt\":\"2021-04-04T15:00:00.000Z\",\"_id\":\"603ab53b88dbe9c89607dfb7\"},{\"description\":\"Lettuce, tomato, pickle, chipotle aioli\",\"createdAt\":\"2021-04-04T15:00:00.000Z\",\"_id\":\"603ab53b88dbe9c89607dfb8\"},{\"description\":\"sliced medium rare tenderloin, lettuce, tomato cheddar, red onion, served with Mexican rice, rustic salsa and guacamole\",\"createdAt\":\"2021-04-04T15:00:00.000Z\",\"_id\":\"603ab53b88dbe9c89607dfce\"},{\"description\":\"\",\"createdAt\":\"2021-04-04T15:00:00.000Z\",\"_id\":\"603ab53b88dbe9c89607dfd1\"},{\"description\":\"Lettuce, tomato, pickle\",\"createdAt\":\"2021-04-04T15:00:00.000Z\",\"_id\":\"603ab53b88dbe9c89607dfbc\"},{\"description\":\"add cheddar, Swiss, or American, add bacon\",\"createdAt\":\"2021-04-04T15:00:00.000Z\",\"_id\":\"603ab53b88dbe9c89607dfc8\"},{\"description\":\"with maple aioli on grilled brioche\",\"createdAt\":\"2021-04-04T15:00:00.000Z\",\"_id\":\"603ab53b88dbe9c89607dfcc\"},{\"description\":\"\",\"createdAt\":\"2021-04-04T15:00:00.000Z\",\"_id\":\"603ab53b88dbe9c89607dfb0\"},{\"description\":\"Spicy mayo, slaw, pickles\",\"createdAt\":\"2021-04-04T15:00:00.000Z\",\"_id\":\"603ab53b88dbe9c89607dfb3\"},{\"description\":\"Mashed potato, red wine demi glaze\",\"createdAt\":\"2021-04-04T15:00:00.000Z\",\"_id\":\"603ab53b88dbe9c89607dfb5\"},{\"description\":\"Winter Slaw, horseradish sauce\",\"createdAt\":\"2021-04-04T15:00:00.000Z\",\"_id\":\"603ab53b88dbe9c89607dfb9\"}]},\"extensions\":{\"tracing\":{\"version\":1,\"startTime\":\"2021-05-04T21:21:04.897Z\",\"endTime\":\"2021-05-04T21:21:04.954Z\",\"duration\":56922680,\"execution\":{\"resolvers\":[{\"path\":[\"dishMany\"],\"parentType\":\"Query\",\"fieldName\":\"dishMany\",\"returnType\":\"[Dish!]!\",\"startOffset\":394671,\"duration\":49446022},{\"path\":[\"dishMany\",0,\"description\"],\"parentType\":\"Dish\",\"fieldName\":\"description\",\"returnType\":\"String\",\"startOffset\":49914819,\"duration\":39548},{\"path\":[\"dishMany\",0,\"createdAt\"],\"parentType\":\"Dish\",\"fieldName\":\"createdAt\",\"returnType\":\"Date\",\"startOffset\":49973796,\"duration\":47175},{\"path\":[\"dishMany\",0,\"_id\"],\"parentType\":\"Dish\",\"fieldName\":\"_id\",\"returnType\":\"MongoID!\",\"startOffset\":50055275,\"duration\":24352},{\"path\":[\"dishMany\",1,\"description\"],\"parentType\":\"Dish\",\"fieldName\":\"description\",\"returnType\":\"String\",\"startOffset\":50118717,\"duration\":16719},{\"path\":[\"dishMany\",1,\"createdAt\"],\"parentType\":\"Dish\",\"fieldName\":\"createdAt\",\"returnType\":\"Date\",\"startOffset\":50141383,\"duration\":23616},{\"path\":[\"dishMany\",1,\"_id\"],\"parentType\":\"Dish\",\"fieldName\":\"_id\",\"returnType\":\"MongoID!\",\"startOffset\":50181672,\"duration\":13821},{\"path\":[\"dishMany\",2,\"description\"],\"parentType\":\"Dish\",\"fieldName\":\"description\",\"returnType\":\"String\",\"startOffset\":50215915,\"duration\":33203},{\"path\":[\"dishMany\",2,\"createdAt\"],\"parentType\":\"Dish\",\"fieldName\":\"createdAt\",\"returnType\":\"Date\",\"startOffset\":50259576,\"duration\":21581},{\"path\":[\"dishMany\",2,\"_id\"],\"parentType\":\"Dish\",\"fieldName\":\"_id\",\"returnType\":\"MongoID!\",\"startOffset\":50304933,\"duration\":28598},{\"path\":[\"dishMany\",3,\"description\"],\"parentType\":\"Dish\",\"fieldName\":\"description\",\"returnType\":\"String\",\"startOffset\":50357214,\"duration\":22655},{\"path\":[\"dishMany\",3,\"createdAt\"],\"parentType\":\"Dish\",\"fieldName\":\"createdAt\",\"returnType\":\"Date\",\"startOffset\":50388934,\"duration\":22658},{\"path\":[\"dishMany\",3,\"_id\"],\"parentType\":\"Dish\",\"fieldName\":\"_id\",\"returnType\":\"MongoID!\",\"startOffset\":50429406,\"duration\":12420},{\"path\":[\"dishMany\",4,\"description\"],\"parentType\":\"Dish\",\"fieldName\":\"description\",\"returnType\":\"String\",\"startOffset\":50471473,\"duration\":20357},{\"path\":[\"dishMany\",4,\"createdAt\"],\"parentType\":\"Dish\",\"fieldName\":\"createdAt\",\"returnType\":\"Date\",\"startOffset\":50497677,\"duration\":11019},{\"path\":[\"dishMany\",4,\"_id\"],\"parentType\":\"Dish\",\"fieldName\":\"_id\",\"returnType\":\"MongoID!\",\"startOffset\":50523419,\"duration\":16820},{\"path\":[\"dishMany\",5,\"description\"],\"parentType\":\"Dish\",\"fieldName\":\"description\",\"returnType\":\"String\",\"startOffset\":50559544,\"duration\":21169},{\"path\":[\"dishMany\",5,\"createdAt\"],\"parentType\":\"Dish\",\"fieldName\":\"createdAt\",\"returnType\":\"Date\",\"startOffset\":50589051,\"duration\":25596},{\"path\":[\"dishMany\",5,\"_id\"],\"parentType\":\"Dish\",\"fieldName\":\"_id\",\"returnType\":\"MongoID!\",\"startOffset\":50636690,\"duration\":20912},{\"path\":[\"dishMany\",6,\"description\"],\"parentType\":\"Dish\",\"fieldName\":\"description\",\"returnType\":\"String\",\"startOffset\":50686274,\"duration\":24192},{\"path\":[\"dishMany\",6,\"createdAt\"],\"parentType\":\"Dish\",\"fieldName\":\"createdAt\",\"returnType\":\"Date\",\"startOffset\":50719872,\"duration\":19165},{\"path\":[\"dishMany\",6,\"_id\"],\"parentType\":\"Dish\",\"fieldName\":\"_id\",\"returnType\":\"MongoID!\",\"startOffset\":50765361,\"duration\":15239},{\"path\":[\"dishMany\",7,\"description\"],\"parentType\":\"Dish\",\"fieldName\":\"description\",\"returnType\":\"String\",\"startOffset\":50795674,\"duration\":13162},{\"path\":[\"dishMany\",7,\"createdAt\"],\"parentType\":\"Dish\",\"fieldName\":\"createdAt\",\"returnType\":\"Date\",\"startOffset\":50818953,\"duration\":12004},{\"path\":[\"dishMany\",7,\"_id\"],\"parentType\":\"Dish\",\"fieldName\":\"_id\",\"returnType\":\"MongoID!\",\"startOffset\":50845200,\"duration\":11543},{\"path\":[\"dishMany\",8,\"description\"],\"parentType\":\"Dish\",\"fieldName\":\"description\",\"returnType\":\"String\",\"startOffset\":50874668,\"duration\":13311},{\"path\":[\"dishMany\",8,\"createdAt\"],\"parentType\":\"Dish\",\"fieldName\":\"createdAt\",\"returnType\":\"Date\",\"startOffset\":50893464,\"duration\":17770},{\"path\":[\"dishMany\",8,\"_id\"],\"parentType\":\"Dish\",\"fieldName\":\"_id\",\"returnType\":\"MongoID!\",\"startOffset\":50933239,\"duration\":21915},{\"path\":[\"dishMany\",9,\"description\"],\"parentType\":\"Dish\",\"fieldName\":\"description\",\"returnType\":\"String\",\"startOffset\":50977029,\"duration\":30889},{\"path\":[\"dishMany\",9,\"createdAt\"],\"parentType\":\"Dish\",\"fieldName\":\"createdAt\",\"returnType\":\"Date\",\"startOffset\":51018005,\"duration\":21274},{\"path\":[\"dishMany\",9,\"_id\"],\"parentType\":\"Dish\",\"fieldName\":\"_id\",\"returnType\":\"MongoID!\",\"startOffset\":51067084,\"duration\":28914},{\"path\":[\"dishMany\",10,\"description\"],\"parentType\":\"Dish\",\"fieldName\":\"description\",\"returnType\":\"String\",\"startOffset\":51113821,\"duration\":15533},{\"path\":[\"dishMany\",10,\"createdAt\"],\"parentType\":\"Dish\",\"fieldName\":\"createdAt\",\"returnType\":\"Date\",\"startOffset\":51138677,\"duration\":17010},{\"path\":[\"dishMany\",10,\"_id\"],\"parentType\":\"Dish\",\"fieldName\":\"_id\",\"returnType\":\"MongoID!\",\"startOffset\":51171297,\"duration\":12121},{\"path\":[\"dishMany\",11,\"description\"],\"parentType\":\"Dish\",\"fieldName\":\"description\",\"returnType\":\"String\",\"startOffset\":51196790,\"duration\":17940},{\"path\":[\"dishMany\",11,\"createdAt\"],\"parentType\":\"Dish\",\"fieldName\":\"createdAt\",\"returnType\":\"Date\",\"startOffset\":51220054,\"duration\":13216},{\"path\":[\"dishMany\",11,\"_id\"],\"parentType\":\"Dish\",\"fieldName\":\"_id\",\"returnType\":\"MongoID!\",\"startOffset\":51253018,\"duration\":26765},{\"path\":[\"dishMany\",12,\"description\"],\"parentType\":\"Dish\",\"fieldName\":\"description\",\"returnType\":\"String\",\"startOffset\":51301879,\"duration\":22366},{\"path\":[\"dishMany\",12,\"createdAt\"],\"parentType\":\"Dish\",\"fieldName\":\"createdAt\",\"returnType\":\"Date\",\"startOffset\":51338734,\"duration\":21470},{\"path\":[\"dishMany\",12,\"_id\"],\"parentType\":\"Dish\",\"fieldName\":\"_id\",\"returnType\":\"MongoID!\",\"startOffset\":51383796,\"duration\":21819},{\"path\":[\"dishMany\",13,\"description\"],\"parentType\":\"Dish\",\"fieldName\":\"description\",\"returnType\":\"String\",\"startOffset\":51435178,\"duration\":17900},{\"path\":[\"dishMany\",13,\"createdAt\"],\"parentType\":\"Dish\",\"fieldName\":\"createdAt\",\"returnType\":\"Date\",\"startOffset\":51459083,\"duration\":10706},{\"path\":[\"dishMany\",13,\"_id\"],\"parentType\":\"Dish\",\"fieldName\":\"_id\",\"returnType\":\"MongoID!\",\"startOffset\":51489971,\"duration\":12491},{\"path\":[\"dishMany\",14,\"description\"],\"parentType\":\"Dish\",\"fieldName\":\"description\",\"returnType\":\"String\",\"startOffset\":51568877,\"duration\":28311},{\"path\":[\"dishMany\",14,\"createdAt\"],\"parentType\":\"Dish\",\"fieldName\":\"createdAt\",\"returnType\":\"Date\",\"startOffset\":51606342,\"duration\":15811},{\"path\":[\"dishMany\",14,\"_id\"],\"parentType\":\"Dish\",\"fieldName\":\"_id\",\"returnType\":\"MongoID!\",\"startOffset\":51638378,\"duration\":17592},{\"path\":[\"dishMany\",15,\"description\"],\"parentType\":\"Dish\",\"fieldName\":\"description\",\"returnType\":\"String\",\"startOffset\":51671228,\"duration\":13539},{\"path\":[\"dishMany\",15,\"createdAt\"],\"parentType\":\"Dish\",\"fieldName\":\"createdAt\",\"returnType\":\"Date\",\"startOffset\":51689740,\"duration\":15699},{\"path\":[\"dishMany\",15,\"_id\"],\"parentType\":\"Dish\",\"fieldName\":\"_id\",\"returnType\":\"MongoID!\",\"startOffset\":51719889,\"duration\":12012},{\"path\":[\"dishMany\",16,\"description\"],\"parentType\":\"Dish\",\"fieldName\":\"description\",\"returnType\":\"String\",\"startOffset\":51744958,\"duration\":22657},{\"path\":[\"dishMany\",16,\"createdAt\"],\"parentType\":\"Dish\",\"fieldName\":\"createdAt\",\"returnType\":\"Date\",\"startOffset\":51776547,\"duration\":17873},{\"path\":[\"dishMany\",16,\"_id\"],\"parentType\":\"Dish\",\"fieldName\":\"_id\",\"returnType\":\"MongoID!\",\"startOffset\":51816662,\"duration\":27358},{\"path\":[\"dishMany\",17,\"description\"],\"parentType\":\"Dish\",\"fieldName\":\"description\",\"returnType\":\"String\",\"startOffset\":51866990,\"duration\":23850},{\"path\":[\"dishMany\",17,\"createdAt\"],\"parentType\":\"Dish\",\"fieldName\":\"createdAt\",\"returnType\":\"Date\",\"startOffset\":51900031,\"duration\":25826},{\"path\":[\"dishMany\",17,\"_id\"],\"parentType\":\"Dish\",\"fieldName\":\"_id\",\"returnType\":\"MongoID!\",\"startOffset\":51949354,\"duration\":17980},{\"path\":[\"dishMany\",18,\"description\"],\"parentType\":\"Dish\",\"fieldName\":\"description\",\"returnType\":\"String\",\"startOffset\":51992019,\"duration\":15387},{\"path\":[\"dishMany\",18,\"createdAt\"],\"parentType\":\"Dish\",\"fieldName\":\"createdAt\",\"returnType\":\"Date\",\"startOffset\":52012779,\"duration\":10954},{\"path\":[\"dishMany\",18,\"_id\"],\"parentType\":\"Dish\",\"fieldName\":\"_id\",\"returnType\":\"MongoID!\",\"startOffset\":52043055,\"duration\":13026},{\"path\":[\"dishMany\",19,\"description\"],\"parentType\":\"Dish\",\"fieldName\":\"description\",\"returnType\":\"String\",\"startOffset\":52069634,\"duration\":12542},{\"path\":[\"dishMany\",19,\"createdAt\"],\"parentType\":\"Dish\",\"fieldName\":\"createdAt\",\"returnType\":\"Date\",\"startOffset\":52091335,\"duration\":11900},{\"path\":[\"dishMany\",19,\"_id\"],\"parentType\":\"Dish\",\"fieldName\":\"_id\",\"returnType\":\"MongoID!\",\"startOffset\":52122555,\"duration\":17994},{\"path\":[\"dishMany\",20,\"description\"],\"parentType\":\"Dish\",\"fieldName\":\"description\",\"returnType\":\"String\",\"startOffset\":52167271,\"duration\":22500},{\"path\":[\"dishMany\",20,\"createdAt\"],\"parentType\":\"Dish\",\"fieldName\":\"createdAt\",\"returnType\":\"Date\",\"startOffset\":52199496,\"duration\":19077},{\"path\":[\"dishMany\",20,\"_id\"],\"parentType\":\"Dish\",\"fieldName\":\"_id\",\"returnType\":\"MongoID!\",\"startOffset\":52246302,\"duration\":22564},{\"path\":[\"dishMany\",21,\"description\"],\"parentType\":\"Dish\",\"fieldName\":\"description\",\"returnType\":\"String\",\"startOffset\":52290825,\"duration\":21689},{\"path\":[\"dishMany\",21,\"createdAt\"],\"parentType\":\"Dish\",\"fieldName\":\"createdAt\",\"returnType\":\"Date\",\"startOffset\":52334306,\"duration\":12953},{\"path\":[\"dishMany\",21,\"_id\"],\"parentType\":\"Dish\",\"fieldName\":\"_id\",\"returnType\":\"MongoID!\",\"startOffset\":52362999,\"duration\":12047},{\"path\":[\"dishMany\",22,\"description\"],\"parentType\":\"Dish\",\"fieldName\":\"description\",\"returnType\":\"String\",\"startOffset\":52394424,\"duration\":13903},{\"path\":[\"dishMany\",22,\"createdAt\"],\"parentType\":\"Dish\",\"fieldName\":\"createdAt\",\"returnType\":\"Date\",\"startOffset\":52413367,\"duration\":14704},{\"path\":[\"dishMany\",22,\"_id\"],\"parentType\":\"Dish\",\"fieldName\":\"_id\",\"returnType\":\"MongoID!\",\"startOffset\":52442378,\"duration\":19127},{\"path\":[\"dishMany\",23,\"description\"],\"parentType\":\"Dish\",\"fieldName\":\"description\",\"returnType\":\"String\",\"startOffset\":52482023,\"duration\":28079},{\"path\":[\"dishMany\",23,\"createdAt\"],\"parentType\":\"Dish\",\"fieldName\":\"createdAt\",\"returnType\":\"Date\",\"startOffset\":52524715,\"duration\":21897},{\"path\":[\"dishMany\",23,\"_id\"],\"parentType\":\"Dish\",\"fieldName\":\"_id\",\"returnType\":\"MongoID!\",\"startOffset\":52569622,\"duration\":27899},{\"path\":[\"dishMany\",24,\"description\"],\"parentType\":\"Dish\",\"fieldName\":\"description\",\"returnType\":\"String\",\"startOffset\":52619970,\"duration\":23441},{\"path\":[\"dishMany\",24,\"createdAt\"],\"parentType\":\"Dish\",\"fieldName\":\"createdAt\",\"returnType\":\"Date\",\"startOffset\":52652529,\"duration\":20382},{\"path\":[\"dishMany\",24,\"_id\"],\"parentType\":\"Dish\",\"fieldName\":\"_id\",\"returnType\":\"MongoID!\",\"startOffset\":52689699,\"duration\":12486},{\"path\":[\"dishMany\",25,\"description\"],\"parentType\":\"Dish\",\"fieldName\":\"description\",\"returnType\":\"String\",\"startOffset\":52716819,\"duration\":20173},{\"path\":[\"dishMany\",25,\"createdAt\"],\"parentType\":\"Dish\",\"fieldName\":\"createdAt\",\"returnType\":\"Date\",\"startOffset\":52742634,\"duration\":11247},{\"path\":[\"dishMany\",25,\"_id\"],\"parentType\":\"Dish\",\"fieldName\":\"_id\",\"returnType\":\"MongoID!\",\"startOffset\":52767772,\"duration\":17051},{\"path\":[\"dishMany\",26,\"description\"],\"parentType\":\"Dish\",\"fieldName\":\"description\",\"returnType\":\"String\",\"startOffset\":52803131,\"duration\":20218},{\"path\":[\"dishMany\",26,\"createdAt\"],\"parentType\":\"Dish\",\"fieldName\":\"createdAt\",\"returnType\":\"Date\",\"startOffset\":52832012,\"duration\":24994},{\"path\":[\"dishMany\",26,\"_id\"],\"parentType\":\"Dish\",\"fieldName\":\"_id\",\"returnType\":\"MongoID!\",\"startOffset\":52878102,\"duration\":20885},{\"path\":[\"dishMany\",27,\"description\"],\"parentType\":\"Dish\",\"fieldName\":\"description\",\"returnType\":\"String\",\"startOffset\":52925798,\"duration\":23816},{\"path\":[\"dishMany\",27,\"createdAt\"],\"parentType\":\"Dish\",\"fieldName\":\"createdAt\",\"returnType\":\"Date\",\"startOffset\":52959207,\"duration\":25233},{\"path\":[\"dishMany\",27,\"_id\"],\"parentType\":\"Dish\",\"fieldName\":\"_id\",\"returnType\":\"MongoID!\",\"startOffset\":53005306,\"duration\":14303},{\"path\":[\"dishMany\",28,\"description\"],\"parentType\":\"Dish\",\"fieldName\":\"description\",\"returnType\":\"String\",\"startOffset\":53034700,\"duration\":18058},{\"path\":[\"dishMany\",28,\"createdAt\"],\"parentType\":\"Dish\",\"fieldName\":\"createdAt\",\"returnType\":\"Date\",\"startOffset\":53058656,\"duration\":11485},{\"path\":[\"dishMany\",28,\"_id\"],\"parentType\":\"Dish\",\"fieldName\":\"_id\",\"returnType\":\"MongoID!\",\"startOffset\":53084198,\"duration\":16483},{\"path\":[\"dishMany\",29,\"description\"],\"parentType\":\"Dish\",\"fieldName\":\"description\",\"returnType\":\"String\",\"startOffset\":53114339,\"duration\":13123},{\"path\":[\"dishMany\",29,\"createdAt\"],\"parentType\":\"Dish\",\"fieldName\":\"createdAt\",\"returnType\":\"Date\",\"startOffset\":53132454,\"duration\":19729},{\"path\":[\"dishMany\",29,\"_id\"],\"parentType\":\"Dish\",\"fieldName\":\"_id\",\"returnType\":\"MongoID!\",\"startOffset\":53173284,\"duration\":20824},{\"path\":[\"dishMany\",30,\"description\"],\"parentType\":\"Dish\",\"fieldName\":\"description\",\"returnType\":\"String\",\"startOffset\":53220040,\"duration\":30323},{\"path\":[\"dishMany\",30,\"createdAt\"],\"parentType\":\"Dish\",\"fieldName\":\"createdAt\",\"returnType\":\"Date\",\"startOffset\":53260589,\"duration\":19812},{\"path\":[\"dishMany\",30,\"_id\"],\"parentType\":\"Dish\",\"fieldName\":\"_id\",\"returnType\":\"MongoID!\",\"startOffset\":53303086,\"duration\":27900},{\"path\":[\"dishMany\",31,\"description\"],\"parentType\":\"Dish\",\"fieldName\":\"description\",\"returnType\":\"String\",\"startOffset\":53352359,\"duration\":15970},{\"path\":[\"dishMany\",31,\"createdAt\"],\"parentType\":\"Dish\",\"fieldName\":\"createdAt\",\"returnType\":\"Date\",\"startOffset\":53378277,\"duration\":12440},{\"path\":[\"dishMany\",31,\"_id\"],\"parentType\":\"Dish\",\"fieldName\":\"_id\",\"returnType\":\"MongoID!\",\"startOffset\":53405977,\"duration\":11937},{\"path\":[\"dishMany\",32,\"description\"],\"parentType\":\"Dish\",\"fieldName\":\"description\",\"returnType\":\"String\",\"startOffset\":53436403,\"duration\":13594},{\"path\":[\"dishMany\",32,\"createdAt\"],\"parentType\":\"Dish\",\"fieldName\":\"createdAt\",\"returnType\":\"Date\",\"startOffset\":53455204,\"duration\":10870},{\"path\":[\"dishMany\",32,\"_id\"],\"parentType\":\"Dish\",\"fieldName\":\"_id\",\"returnType\":\"MongoID!\",\"startOffset\":53484256,\"duration\":14927},{\"path\":[\"dishMany\",33,\"description\"],\"parentType\":\"Dish\",\"fieldName\":\"description\",\"returnType\":\"String\",\"startOffset\":53518592,\"duration\":20380},{\"path\":[\"dishMany\",33,\"createdAt\"],\"parentType\":\"Dish\",\"fieldName\":\"createdAt\",\"returnType\":\"Date\",\"startOffset\":53554340,\"duration\":20184},{\"path\":[\"dishMany\",33,\"_id\"],\"parentType\":\"Dish\",\"fieldName\":\"_id\",\"returnType\":\"MongoID!\",\"startOffset\":53596197,\"duration\":20600},{\"path\":[\"dishMany\",34,\"description\"],\"parentType\":\"Dish\",\"fieldName\":\"description\",\"returnType\":\"String\",\"startOffset\":53646569,\"duration\":22847},{\"path\":[\"dishMany\",34,\"createdAt\"],\"parentType\":\"Dish\",\"fieldName\":\"createdAt\",\"returnType\":\"Date\",\"startOffset\":53678922,\"duration\":18340},{\"path\":[\"dishMany\",34,\"_id\"],\"parentType\":\"Dish\",\"fieldName\":\"_id\",\"returnType\":\"MongoID!\",\"startOffset\":53719685,\"duration\":13562},{\"path\":[\"dishMany\",35,\"description\"],\"parentType\":\"Dish\",\"fieldName\":\"description\",\"returnType\":\"String\",\"startOffset\":53747786,\"duration\":17301},{\"path\":[\"dishMany\",35,\"createdAt\"],\"parentType\":\"Dish\",\"fieldName\":\"createdAt\",\"returnType\":\"Date\",\"startOffset\":53770986,\"duration\":11253},{\"path\":[\"dishMany\",35,\"_id\"],\"parentType\":\"Dish\",\"fieldName\":\"_id\",\"returnType\":\"MongoID!\",\"startOffset\":53796502,\"duration\":49640},{\"path\":[\"dishMany\",36,\"description\"],\"parentType\":\"Dish\",\"fieldName\":\"description\",\"returnType\":\"String\",\"startOffset\":53868842,\"duration\":23103},{\"path\":[\"dishMany\",36,\"createdAt\"],\"parentType\":\"Dish\",\"fieldName\":\"createdAt\",\"returnType\":\"Date\",\"startOffset\":53901239,\"duration\":25599},{\"path\":[\"dishMany\",36,\"_id\"],\"parentType\":\"Dish\",\"fieldName\":\"_id\",\"returnType\":\"MongoID!\",\"startOffset\":53950492,\"duration\":22034},{\"path\":[\"dishMany\",37,\"description\"],\"parentType\":\"Dish\",\"fieldName\":\"description\",\"returnType\":\"String\",\"startOffset\":53995065,\"duration\":29669},{\"path\":[\"dishMany\",37,\"createdAt\"],\"parentType\":\"Dish\",\"fieldName\":\"createdAt\",\"returnType\":\"Date\",\"startOffset\":54034575,\"duration\":14941},{\"path\":[\"dishMany\",37,\"_id\"],\"parentType\":\"Dish\",\"fieldName\":\"_id\",\"returnType\":\"MongoID!\",\"startOffset\":54065720,\"duration\":17558},{\"path\":[\"dishMany\",38,\"description\"],\"parentType\":\"Dish\",\"fieldName\":\"description\",\"returnType\":\"String\",\"startOffset\":54098569,\"duration\":13086},{\"path\":[\"dishMany\",38,\"createdAt\"],\"parentType\":\"Dish\",\"fieldName\":\"createdAt\",\"returnType\":\"Date\",\"startOffset\":54116836,\"duration\":16211},{\"path\":[\"dishMany\",38,\"_id\"],\"parentType\":\"Dish\",\"fieldName\":\"_id\",\"returnType\":\"MongoID!\",\"startOffset\":54147372,\"duration\":11579},{\"path\":[\"dishMany\",39,\"description\"],\"parentType\":\"Dish\",\"fieldName\":\"description\",\"returnType\":\"String\",\"startOffset\":54172221,\"duration\":24898},{\"path\":[\"dishMany\",39,\"createdAt\"],\"parentType\":\"Dish\",\"fieldName\":\"createdAt\",\"returnType\":\"Date\",\"startOffset\":54205622,\"duration\":18059},{\"path\":[\"dishMany\",39,\"_id\"],\"parentType\":\"Dish\",\"fieldName\":\"_id\",\"returnType\":\"MongoID!\",\"startOffset\":54249652,\"duration\":18899},{\"path\":[\"dishMany\",40,\"description\"],\"parentType\":\"Dish\",\"fieldName\":\"description\",\"returnType\":\"String\",\"startOffset\":54287877,\"duration\":27488},{\"path\":[\"dishMany\",40,\"createdAt\"],\"parentType\":\"Dish\",\"fieldName\":\"createdAt\",\"returnType\":\"Date\",\"startOffset\":54330115,\"duration\":20601},{\"path\":[\"dishMany\",40,\"_id\"],\"parentType\":\"Dish\",\"fieldName\":\"_id\",\"returnType\":\"MongoID!\",\"startOffset\":54374196,\"duration\":19139},{\"path\":[\"dishMany\",41,\"description\"],\"parentType\":\"Dish\",\"fieldName\":\"description\",\"returnType\":\"String\",\"startOffset\":54429337,\"duration\":24145},{\"path\":[\"dishMany\",41,\"createdAt\"],\"parentType\":\"Dish\",\"fieldName\":\"createdAt\",\"returnType\":\"Date\",\"startOffset\":54466033,\"duration\":20710},{\"path\":[\"dishMany\",41,\"_id\"],\"parentType\":\"Dish\",\"fieldName\":\"_id\",\"returnType\":\"MongoID!\",\"startOffset\":54514591,\"duration\":22368},{\"path\":[\"dishMany\",42,\"description\"],\"parentType\":\"Dish\",\"fieldName\":\"description\",\"returnType\":\"String\",\"startOffset\":54560205,\"duration\":17122},{\"path\":[\"dishMany\",42,\"createdAt\"],\"parentType\":\"Dish\",\"fieldName\":\"createdAt\",\"returnType\":\"Date\",\"startOffset\":54588348,\"duration\":12182},{\"path\":[\"dishMany\",42,\"_id\"],\"parentType\":\"Dish\",\"fieldName\":\"_id\",\"returnType\":\"MongoID!\",\"startOffset\":54616049,\"duration\":11807},{\"path\":[\"dishMany\",43,\"description\"],\"parentType\":\"Dish\",\"fieldName\":\"description\",\"returnType\":\"String\",\"startOffset\":54648685,\"duration\":13584},{\"path\":[\"dishMany\",43,\"createdAt\"],\"parentType\":\"Dish\",\"fieldName\":\"createdAt\",\"returnType\":\"Date\",\"startOffset\":54667721,\"duration\":14350},{\"path\":[\"dishMany\",43,\"_id\"],\"parentType\":\"Dish\",\"fieldName\":\"_id\",\"returnType\":\"MongoID!\",\"startOffset\":54696790,\"duration\":14389},{\"path\":[\"dishMany\",44,\"description\"],\"parentType\":\"Dish\",\"fieldName\":\"description\",\"returnType\":\"String\",\"startOffset\":54731084,\"duration\":27638},{\"path\":[\"dishMany\",44,\"createdAt\"],\"parentType\":\"Dish\",\"fieldName\":\"createdAt\",\"returnType\":\"Date\",\"startOffset\":54768722,\"duration\":20463},{\"path\":[\"dishMany\",44,\"_id\"],\"parentType\":\"Dish\",\"fieldName\":\"_id\",\"returnType\":\"MongoID!\",\"startOffset\":54811941,\"duration\":27606},{\"path\":[\"dishMany\",45,\"description\"],\"parentType\":\"Dish\",\"fieldName\":\"description\",\"returnType\":\"String\",\"startOffset\":54862060,\"duration\":23619},{\"path\":[\"dishMany\",45,\"createdAt\"],\"parentType\":\"Dish\",\"fieldName\":\"createdAt\",\"returnType\":\"Date\",\"startOffset\":54895140,\"duration\":23187},{\"path\":[\"dishMany\",45,\"_id\"],\"parentType\":\"Dish\",\"fieldName\":\"_id\",\"returnType\":\"MongoID!\",\"startOffset\":54936566,\"duration\":13201},{\"path\":[\"dishMany\",46,\"description\"],\"parentType\":\"Dish\",\"fieldName\":\"description\",\"returnType\":\"String\",\"startOffset\":54964393,\"duration\":18234},{\"path\":[\"dishMany\",46,\"createdAt\"],\"parentType\":\"Dish\",\"fieldName\":\"createdAt\",\"returnType\":\"Date\",\"startOffset\":54988455,\"duration\":16482},{\"path\":[\"dishMany\",46,\"_id\"],\"parentType\":\"Dish\",\"fieldName\":\"_id\",\"returnType\":\"MongoID!\",\"startOffset\":55022783,\"duration\":12379},{\"path\":[\"dishMany\",47,\"description\"],\"parentType\":\"Dish\",\"fieldName\":\"description\",\"returnType\":\"String\",\"startOffset\":55048501,\"duration\":22035},{\"path\":[\"dishMany\",47,\"createdAt\"],\"parentType\":\"Dish\",\"fieldName\":\"createdAt\",\"returnType\":\"Date\",\"startOffset\":55079877,\"duration\":17980},{\"path\":[\"dishMany\",47,\"_id\"],\"parentType\":\"Dish\",\"fieldName\":\"_id\",\"returnType\":\"MongoID!\",\"startOffset\":55119269,\"duration\":27848},{\"path\":[\"dishMany\",48,\"description\"],\"parentType\":\"Dish\",\"fieldName\":\"description\",\"returnType\":\"String\",\"startOffset\":55168573,\"duration\":22518},{\"path\":[\"dishMany\",48,\"createdAt\"],\"parentType\":\"Dish\",\"fieldName\":\"createdAt\",\"returnType\":\"Date\",\"startOffset\":55204955,\"duration\":26456},{\"path\":[\"dishMany\",48,\"_id\"],\"parentType\":\"Dish\",\"fieldName\":\"_id\",\"returnType\":\"MongoID!\",\"startOffset\":55255612,\"duration\":17370},{\"path\":[\"dishMany\",49,\"description\"],\"parentType\":\"Dish\",\"fieldName\":\"description\",\"returnType\":\"String\",\"startOffset\":56791761,\"duration\":26755},{\"path\":[\"dishMany\",49,\"createdAt\"],\"parentType\":\"Dish\",\"fieldName\":\"createdAt\",\"returnType\":\"Date\",\"startOffset\":56832328,\"duration\":13886},{\"path\":[\"dishMany\",49,\"_id\"],\"parentType\":\"Dish\",\"fieldName\":\"_id\",\"returnType\":\"MongoID!\",\"startOffset\":56864675,\"duration\":12824}]}}}}\n",
      "\n"
     ]
    }
   ],
   "source": [
    "url = 'https://palette-backend.herokuapp.com/graphql'\n",
    "r = requests.post(url, json={'query': new_dish_query})\n",
    "print(r.status_code)\n",
    "print(r.text)"
   ]
  },
  {
   "cell_type": "code",
   "execution_count": 124,
   "metadata": {},
   "outputs": [],
   "source": [
    "json_data = json.loads(r.text)\n",
    "df = json_data['data']['dishMany']"
   ]
  },
  {
   "cell_type": "code",
   "execution_count": 125,
   "metadata": {
    "scrolled": true
   },
   "outputs": [
    {
     "name": "stdout",
     "output_type": "stream",
     "text": [
      "[{'description': 'Fried rice with egg, onions, carrots, green peas and tomatoes topped with crispy chicken.', 'createdAt': '2021-04-04T15:00:00.000Z', '_id': '603ab53b88dbe9c89607dfae'}, {'description': 'Sweet potato gratin, green beans, pan jus', 'createdAt': '2021-04-04T15:00:00.000Z', '_id': '603ab53b88dbe9c89607dfc4'}, {'description': 'Thai Panang curry paste with coconut milk, kaffir lime leaves and bell peppers.', 'createdAt': '2021-04-04T15:00:00.000Z', '_id': '603ab53b88dbe9c89607dfa7'}, {'description': 'Wide rice noodles stir-fried with egg, fresh chili, bell peppers, onions, green beans and basil leaves.', 'createdAt': '2021-04-04T15:00:00.000Z', '_id': '603ab53b88dbe9c89607dfab'}, {'description': 'Your choice of meat with steamed vegetables, topped with peanut sauce.', 'createdAt': '2021-04-04T15:00:00.000Z', '_id': '603ab53b88dbe9c89607dfac'}, {'description': 'VT turkey, cheddar, cranberry, mayo', 'createdAt': '2021-04-04T15:00:00.000Z', '_id': '603ab53b88dbe9c89607dfb1'}, {'description': 'American cheese, crispy shallots, bacon, Baja sauce', 'createdAt': '2021-04-04T15:00:00.000Z', '_id': '603ab53b88dbe9c89607dfb4'}, {'description': 'Pan seared pork chop, potato confit, green beans, cinnamon pear demi', 'createdAt': '2021-04-04T15:00:00.000Z', '_id': '603ab53b88dbe9c89607dfba'}, {'description': 'the Classic with pepperoni', 'createdAt': '2021-04-04T15:00:00.000Z', '_id': '603ab53b88dbe9c89607dfc6'}, {'description': 'beer battered north Atlantic cod served with fries, slaw and tartar sauce', 'createdAt': '2021-04-04T15:00:00.000Z', '_id': '603ab53b88dbe9c89607dfcf'}, {'description': 'Butternut squash, nutritional yeast, garbanzo bean, scallion, shiitake bacon', 'createdAt': '2021-04-04T15:00:00.000Z', '_id': '603ab53b88dbe9c89607dfc0'}, {'description': 'ripe tomato, roasted garlic, fontina, fresh mozzarella, basil dressed arugala on top', 'createdAt': '2021-04-04T15:00:00.000Z', '_id': '603ab53b88dbe9c89607dfc7'}, {'description': 'sautéed chicken strips with bacon, garlic, basil, tossed in parmesan cream sauce and rigatoni', 'createdAt': '2021-04-04T15:00:00.000Z', '_id': '603ab53b88dbe9c89607dfcb'}, {'description': 'Tomato sauce, spicy chicken, tomatoes, peppers, onions and crushed red peppers.', 'createdAt': '2021-04-04T15:00:00.000Z', '_id': '603ab53b88dbe9c89607dfd8'}, {'description': 'Thai Green curry paste with coconut milk, basil leaves, bamboo shoots, eggplant, zucchini and bell peppers.', 'createdAt': '2021-04-04T15:00:00.000Z', '_id': '603ab53b88dbe9c89607dfaa'}, {'description': 'Spicy fried rice with egg, fresh ground chili, onions, bell peppers, garlic, green beans and basil leaves.', 'createdAt': '2021-04-04T15:00:00.000Z', '_id': '603ab53b88dbe9c89607dfaf'}, {'description': 'Wide rice noodles stir-fried with egg, sweet soy sauce, broccoli and carrots.', 'createdAt': '2021-04-04T15:00:00.000Z', '_id': '603ab53b88dbe9c89607dfad'}, {'description': 'sautéed chicken strips with coconut milk, green curry, ginger, scallions and sweet bell peppers, served over confetti rice', 'createdAt': '2021-04-04T15:00:00.000Z', '_id': '603ab53b88dbe9c89607dfc3'}, {'description': 'Tomato sauce, mozzarella and american cheeses, beef, peppers, mushrooms and onions.', 'createdAt': '2021-04-04T15:00:00.000Z', '_id': '603ab53b88dbe9c89607dfd2'}, {'description': 'Add chicken, sweet Italian sausage or meatballs for $2.00', 'createdAt': '2021-04-04T15:00:00.000Z', '_id': '603ab53b88dbe9c89607dfd4'}, {'description': 'beef tenderloin tips, grilled peppers, crispy onions, over confetti rice', 'createdAt': '2021-04-04T15:00:00.000Z', '_id': '603ab53b88dbe9c89607dfd0'}, {'description': 'Corn Slaw, pickled onion, feta, radish, Pico, lime', 'createdAt': '2021-04-04T15:00:00.000Z', '_id': '603ab53b88dbe9c89607dfbe'}, {'description': 'bacon, lettuce, tomato, Dijon aioli', 'createdAt': '2021-04-04T15:00:00.000Z', '_id': '603ab53b88dbe9c89607dfb2'}, {'description': 'Fresh ground chilis, stir-fried with basil leaves, onions, fresh garlic, bamboo shoots, green beans and bell peppers.', 'createdAt': '2021-04-04T15:00:00.000Z', '_id': '603ab53b88dbe9c89607dfa9'}, {'description': 'Prosciutto and chicken breast tossed in a creamy pesto sauce with tomatoes, broccoli and penne.', 'createdAt': '2021-04-04T15:00:00.000Z', '_id': '603ab53b88dbe9c89607dfd6'}, {'description': 'Cheddar, avocado, grilled sourdough', 'createdAt': '2021-04-04T15:00:00.000Z', '_id': '603ab53b88dbe9c89607dfbd'}, {'description': 'baby arugula, toasted almonds, lemon basil quinoa, herb honey glaze', 'createdAt': '2021-04-04T15:00:00.000Z', '_id': '603ab53b88dbe9c89607dfcd'}, {'description': 'Crisp greens with classic Mediterranean veggies, pepperoncini, feta cheese, salami, and ham, served with greek dressing.', 'createdAt': '2021-04-04T15:00:00.000Z', '_id': '603ab53b88dbe9c89607dfd5'}, {'description': 'Mozzarella topped with tomato sauce, fresh basil and extra virgin olive oil.', 'createdAt': '2021-04-04T15:00:00.000Z', '_id': '603ab53b88dbe9c89607dfd7'}, {'description': 'your choice of seafood with shredded cabbage, cheddar, guacamole, sides Mexican rice, chipotle ranch and rustic salsa', 'createdAt': '2021-04-04T15:00:00.000Z', '_id': '603ab53b88dbe9c89607dfc5'}, {'description': 'Seasoned fresh mozzarella, fresh basil and tomatoes served on a bed of romaine; finished with a drizzle of extra virgin olive oil and balsamic reduction.', 'createdAt': '2021-04-04T15:00:00.000Z', '_id': '603ab53b88dbe9c89607dfd3'}, {'description': 'corn, peppers,onion, cheddar, Mexican spices, topped with tomato, arugula and guacamole', 'createdAt': '2021-04-04T15:00:00.000Z', '_id': '603ab53b88dbe9c89607dfca'}, {'description': 'Thin rice noodles stir-fried with egg, green onions, bean sprouts and ground peanuts.', 'createdAt': '2021-05-04T15:00:00.000Z', '_id': '603ab53b88dbe9c89607dfa8'}, {'description': 'Mashed potato, green beans, red wine demi', 'createdAt': '2021-04-04T15:00:00.000Z', '_id': '603ab53b88dbe9c89607dfbb'}, {'description': 'Ground lamb, peas, onions, corn, carrots, mashed potato', 'createdAt': '2021-04-04T15:00:00.000Z', '_id': '603ab53b88dbe9c89607dfb6'}, {'description': 'Fried white fish, slaw, tartar', 'createdAt': '2021-04-04T15:00:00.000Z', '_id': '603ab53b88dbe9c89607dfc2'}, {'description': 'Bacon, lettuce, tomato, avocado, mayo', 'createdAt': '2021-04-04T15:00:00.000Z', '_id': '603ab53b88dbe9c89607dfbf'}, {'description': 'Penne, cheddar, bread crumbs', 'createdAt': '2021-04-04T15:00:00.000Z', '_id': '603ab53b88dbe9c89607dfc1'}, {'description': 'plant-based patty, BBQ, cheddar, avocado, crispy onion', 'createdAt': '2021-05-04T15:00:00.000Z', '_id': '603ab53b88dbe9c89607dfc9'}, {'description': 'Corn Slaw, pickled onion, feta, radish, Pico, lime', 'createdAt': '2021-04-04T15:00:00.000Z', '_id': '603ab53b88dbe9c89607dfb7'}, {'description': 'Lettuce, tomato, pickle, chipotle aioli', 'createdAt': '2021-04-04T15:00:00.000Z', '_id': '603ab53b88dbe9c89607dfb8'}, {'description': 'sliced medium rare tenderloin, lettuce, tomato cheddar, red onion, served with Mexican rice, rustic salsa and guacamole', 'createdAt': '2021-04-04T15:00:00.000Z', '_id': '603ab53b88dbe9c89607dfce'}, {'description': '', 'createdAt': '2021-04-04T15:00:00.000Z', '_id': '603ab53b88dbe9c89607dfd1'}, {'description': 'Lettuce, tomato, pickle', 'createdAt': '2021-04-04T15:00:00.000Z', '_id': '603ab53b88dbe9c89607dfbc'}, {'description': 'add cheddar, Swiss, or American, add bacon', 'createdAt': '2021-04-04T15:00:00.000Z', '_id': '603ab53b88dbe9c89607dfc8'}, {'description': 'with maple aioli on grilled brioche', 'createdAt': '2021-04-04T15:00:00.000Z', '_id': '603ab53b88dbe9c89607dfcc'}, {'description': '', 'createdAt': '2021-04-04T15:00:00.000Z', '_id': '603ab53b88dbe9c89607dfb0'}, {'description': 'Spicy mayo, slaw, pickles', 'createdAt': '2021-04-04T15:00:00.000Z', '_id': '603ab53b88dbe9c89607dfb3'}, {'description': 'Mashed potato, red wine demi glaze', 'createdAt': '2021-04-04T15:00:00.000Z', '_id': '603ab53b88dbe9c89607dfb5'}, {'description': 'Winter Slaw, horseradish sauce', 'createdAt': '2021-04-04T15:00:00.000Z', '_id': '603ab53b88dbe9c89607dfb9'}]\n"
     ]
    }
   ],
   "source": [
    "#filter out the old ones, we'll give dishes a 'new' rating for a period of time \n",
    "print(df)"
   ]
  },
  {
   "cell_type": "code",
   "execution_count": null,
   "metadata": {},
   "outputs": [],
   "source": []
  },
  {
   "cell_type": "code",
   "execution_count": 126,
   "metadata": {},
   "outputs": [
    {
     "name": "stdout",
     "output_type": "stream",
     "text": [
      "\n",
      "\n",
      "\n",
      "\n",
      "\n",
      "\n",
      "\n",
      "\n",
      "\n",
      "\n",
      "\n",
      "\n",
      "\n",
      "\n",
      "\n",
      "\n",
      "\n",
      "\n",
      "\n",
      "\n",
      "\n",
      "\n",
      "\n",
      "\n",
      "\n",
      "\n",
      "\n",
      "\n",
      "\n",
      "\n",
      "\n",
      "\n",
      "\n",
      "\n",
      "\n",
      "\n",
      "\n",
      "\n",
      "\n",
      "\n",
      "\n",
      "\n",
      "\n",
      "\n",
      "\n",
      "\n",
      "\n",
      "\n",
      "\n",
      "\n",
      "[{'description': 'Thin rice noodles stir-fried with egg, green onions, bean sprouts and ground peanuts.', 'createdAt': '2021-05-04T15:00:00.000Z', '_id': '603ab53b88dbe9c89607dfa8'}, {'description': 'plant-based patty, BBQ, cheddar, avocado, crispy onion', 'createdAt': '2021-05-04T15:00:00.000Z', '_id': '603ab53b88dbe9c89607dfc9'}]\n"
     ]
    }
   ],
   "source": [
    "\n",
    "new_dish_df = []\n",
    "\n",
    "today = datetime.today()\n",
    "margin = timedelta(days = 14)\n",
    "\n",
    "for dish in df:\n",
    "        \n",
    "        print()\n",
    "        pyth_date = datetime.strptime(dish['createdAt'], '%Y-%m-%dT%H:%M:%S.%fZ')\n",
    "        if (today - margin) <= pyth_date <= today:\n",
    "            new_dish_df.append(dish)\n",
    "print(new_dish_df)"
   ]
  },
  {
   "cell_type": "code",
   "execution_count": 127,
   "metadata": {},
   "outputs": [
    {
     "name": "stdout",
     "output_type": "stream",
     "text": [
      "200\n",
      "{\"data\":{\"dishByIds\":[{\"description\":\"Thai Panang curry paste with coconut milk, kaffir lime leaves and bell peppers.\",\"createdAt\":\"2021-04-04T15:00:00.000Z\",\"_id\":\"603ab53b88dbe9c89607dfa7\"},{\"description\":\"Fresh ground chilis, stir-fried with basil leaves, onions, fresh garlic, bamboo shoots, green beans and bell peppers.\",\"createdAt\":\"2021-04-04T15:00:00.000Z\",\"_id\":\"603ab53b88dbe9c89607dfa9\"},{\"description\":\"Thai Green curry paste with coconut milk, basil leaves, bamboo shoots, eggplant, zucchini and bell peppers.\",\"createdAt\":\"2021-04-04T15:00:00.000Z\",\"_id\":\"603ab53b88dbe9c89607dfaa\"},{\"description\":\"Wide rice noodles stir-fried with egg, fresh chili, bell peppers, onions, green beans and basil leaves.\",\"createdAt\":\"2021-04-04T15:00:00.000Z\",\"_id\":\"603ab53b88dbe9c89607dfab\"},{\"description\":\"Your choice of meat with steamed vegetables, topped with peanut sauce.\",\"createdAt\":\"2021-04-04T15:00:00.000Z\",\"_id\":\"603ab53b88dbe9c89607dfac\"},{\"description\":\"Wide rice noodles stir-fried with egg, sweet soy sauce, broccoli and carrots.\",\"createdAt\":\"2021-04-04T15:00:00.000Z\",\"_id\":\"603ab53b88dbe9c89607dfad\"},{\"description\":\"Fried rice with egg, onions, carrots, green peas and tomatoes topped with crispy chicken.\",\"createdAt\":\"2021-04-04T15:00:00.000Z\",\"_id\":\"603ab53b88dbe9c89607dfae\"},{\"description\":\"Spicy mayo, slaw, pickles\",\"createdAt\":\"2021-04-04T15:00:00.000Z\",\"_id\":\"603ab53b88dbe9c89607dfb3\"},{\"description\":\"American cheese, crispy shallots, bacon, Baja sauce\",\"createdAt\":\"2021-04-04T15:00:00.000Z\",\"_id\":\"603ab53b88dbe9c89607dfb4\"},{\"description\":\"Corn Slaw, pickled onion, feta, radish, Pico, lime\",\"createdAt\":\"2021-04-04T15:00:00.000Z\",\"_id\":\"603ab53b88dbe9c89607dfbe\"},{\"description\":\"Sweet potato gratin, green beans, pan jus\",\"createdAt\":\"2021-04-04T15:00:00.000Z\",\"_id\":\"603ab53b88dbe9c89607dfc4\"},{\"description\":\"the Classic with pepperoni\",\"createdAt\":\"2021-04-04T15:00:00.000Z\",\"_id\":\"603ab53b88dbe9c89607dfc6\"},{\"description\":\"ripe tomato, roasted garlic, fontina, fresh mozzarella, basil dressed arugala on top\",\"createdAt\":\"2021-04-04T15:00:00.000Z\",\"_id\":\"603ab53b88dbe9c89607dfc7\"},{\"description\":\"add cheddar, Swiss, or American, add bacon\",\"createdAt\":\"2021-04-04T15:00:00.000Z\",\"_id\":\"603ab53b88dbe9c89607dfc8\"},{\"description\":\"sliced medium rare tenderloin, lettuce, tomato cheddar, red onion, served with Mexican rice, rustic salsa and guacamole\",\"createdAt\":\"2021-04-04T15:00:00.000Z\",\"_id\":\"603ab53b88dbe9c89607dfce\"}]},\"extensions\":{\"tracing\":{\"version\":1,\"startTime\":\"2021-05-04T21:21:11.009Z\",\"endTime\":\"2021-05-04T21:21:11.016Z\",\"duration\":7140472,\"execution\":{\"resolvers\":[{\"path\":[\"dishByIds\"],\"parentType\":\"Query\",\"fieldName\":\"dishByIds\",\"returnType\":\"[Dish!]!\",\"startOffset\":384159,\"duration\":5463357},{\"path\":[\"dishByIds\",0,\"description\"],\"parentType\":\"Dish\",\"fieldName\":\"description\",\"returnType\":\"String\",\"startOffset\":5939543,\"duration\":26306},{\"path\":[\"dishByIds\",0,\"createdAt\"],\"parentType\":\"Dish\",\"fieldName\":\"createdAt\",\"returnType\":\"Date\",\"startOffset\":5977366,\"duration\":14023},{\"path\":[\"dishByIds\",0,\"_id\"],\"parentType\":\"Dish\",\"fieldName\":\"_id\",\"returnType\":\"MongoID!\",\"startOffset\":6016183,\"duration\":13234},{\"path\":[\"dishByIds\",1,\"description\"],\"parentType\":\"Dish\",\"fieldName\":\"description\",\"returnType\":\"String\",\"startOffset\":6054963,\"duration\":14505},{\"path\":[\"dishByIds\",1,\"createdAt\"],\"parentType\":\"Dish\",\"fieldName\":\"createdAt\",\"returnType\":\"Date\",\"startOffset\":6074906,\"duration\":11006},{\"path\":[\"dishByIds\",1,\"_id\"],\"parentType\":\"Dish\",\"fieldName\":\"_id\",\"returnType\":\"MongoID!\",\"startOffset\":6104819,\"duration\":12394},{\"path\":[\"dishByIds\",2,\"description\"],\"parentType\":\"Dish\",\"fieldName\":\"description\",\"returnType\":\"String\",\"startOffset\":6136721,\"duration\":17458},{\"path\":[\"dishByIds\",2,\"createdAt\"],\"parentType\":\"Dish\",\"fieldName\":\"createdAt\",\"returnType\":\"Date\",\"startOffset\":6159836,\"duration\":11281},{\"path\":[\"dishByIds\",2,\"_id\"],\"parentType\":\"Dish\",\"fieldName\":\"_id\",\"returnType\":\"MongoID!\",\"startOffset\":6184954,\"duration\":11441},{\"path\":[\"dishByIds\",3,\"description\"],\"parentType\":\"Dish\",\"fieldName\":\"description\",\"returnType\":\"String\",\"startOffset\":6213965,\"duration\":12950},{\"path\":[\"dishByIds\",3,\"createdAt\"],\"parentType\":\"Dish\",\"fieldName\":\"createdAt\",\"returnType\":\"Date\",\"startOffset\":6231945,\"duration\":14725},{\"path\":[\"dishByIds\",3,\"_id\"],\"parentType\":\"Dish\",\"fieldName\":\"_id\",\"returnType\":\"MongoID!\",\"startOffset\":6264254,\"duration\":13164},{\"path\":[\"dishByIds\",4,\"description\"],\"parentType\":\"Dish\",\"fieldName\":\"description\",\"returnType\":\"String\",\"startOffset\":6290025,\"duration\":16879},{\"path\":[\"dishByIds\",4,\"createdAt\"],\"parentType\":\"Dish\",\"fieldName\":\"createdAt\",\"returnType\":\"Date\",\"startOffset\":6312340,\"duration\":11185},{\"path\":[\"dishByIds\",4,\"_id\"],\"parentType\":\"Dish\",\"fieldName\":\"_id\",\"returnType\":\"MongoID!\",\"startOffset\":6337068,\"duration\":15329},{\"path\":[\"dishByIds\",5,\"description\"],\"parentType\":\"Dish\",\"fieldName\":\"description\",\"returnType\":\"String\",\"startOffset\":6365526,\"duration\":13004},{\"path\":[\"dishByIds\",5,\"createdAt\"],\"parentType\":\"Dish\",\"fieldName\":\"createdAt\",\"returnType\":\"Date\",\"startOffset\":6383539,\"duration\":16158},{\"path\":[\"dishByIds\",5,\"_id\"],\"parentType\":\"Dish\",\"fieldName\":\"_id\",\"returnType\":\"MongoID!\",\"startOffset\":6413266,\"duration\":11557},{\"path\":[\"dishByIds\",6,\"description\"],\"parentType\":\"Dish\",\"fieldName\":\"description\",\"returnType\":\"String\",\"startOffset\":6441792,\"duration\":13390},{\"path\":[\"dishByIds\",6,\"createdAt\"],\"parentType\":\"Dish\",\"fieldName\":\"createdAt\",\"returnType\":\"Date\",\"startOffset\":6460199,\"duration\":11018},{\"path\":[\"dishByIds\",6,\"_id\"],\"parentType\":\"Dish\",\"fieldName\":\"_id\",\"returnType\":\"MongoID!\",\"startOffset\":6489623,\"duration\":12815},{\"path\":[\"dishByIds\",7,\"description\"],\"parentType\":\"Dish\",\"fieldName\":\"description\",\"returnType\":\"String\",\"startOffset\":6515565,\"duration\":12069},{\"path\":[\"dishByIds\",7,\"createdAt\"],\"parentType\":\"Dish\",\"fieldName\":\"createdAt\",\"returnType\":\"Date\",\"startOffset\":6536705,\"duration\":11656},{\"path\":[\"dishByIds\",7,\"_id\"],\"parentType\":\"Dish\",\"fieldName\":\"_id\",\"returnType\":\"MongoID!\",\"startOffset\":6561771,\"duration\":11282},{\"path\":[\"dishByIds\",8,\"description\"],\"parentType\":\"Dish\",\"fieldName\":\"description\",\"returnType\":\"String\",\"startOffset\":6589974,\"duration\":13230},{\"path\":[\"dishByIds\",8,\"createdAt\"],\"parentType\":\"Dish\",\"fieldName\":\"createdAt\",\"returnType\":\"Date\",\"startOffset\":6608181,\"duration\":10629},{\"path\":[\"dishByIds\",8,\"_id\"],\"parentType\":\"Dish\",\"fieldName\":\"_id\",\"returnType\":\"MongoID!\",\"startOffset\":6636525,\"duration\":14787},{\"path\":[\"dishByIds\",9,\"description\"],\"parentType\":\"Dish\",\"fieldName\":\"description\",\"returnType\":\"String\",\"startOffset\":6664321,\"duration\":11963},{\"path\":[\"dishByIds\",9,\"createdAt\"],\"parentType\":\"Dish\",\"fieldName\":\"createdAt\",\"returnType\":\"Date\",\"startOffset\":6685737,\"duration\":11098},{\"path\":[\"dishByIds\",9,\"_id\"],\"parentType\":\"Dish\",\"fieldName\":\"_id\",\"returnType\":\"MongoID!\",\"startOffset\":6710584,\"duration\":11361},{\"path\":[\"dishByIds\",10,\"description\"],\"parentType\":\"Dish\",\"fieldName\":\"description\",\"returnType\":\"String\",\"startOffset\":6740271,\"duration\":12888},{\"path\":[\"dishByIds\",10,\"createdAt\"],\"parentType\":\"Dish\",\"fieldName\":\"createdAt\",\"returnType\":\"Date\",\"startOffset\":6758343,\"duration\":14123},{\"path\":[\"dishByIds\",10,\"_id\"],\"parentType\":\"Dish\",\"fieldName\":\"_id\",\"returnType\":\"MongoID!\",\"startOffset\":6786636,\"duration\":11983},{\"path\":[\"dishByIds\",11,\"description\"],\"parentType\":\"Dish\",\"fieldName\":\"description\",\"returnType\":\"String\",\"startOffset\":6811059,\"duration\":16634},{\"path\":[\"dishByIds\",11,\"createdAt\"],\"parentType\":\"Dish\",\"fieldName\":\"createdAt\",\"returnType\":\"Date\",\"startOffset\":6833139,\"duration\":11259},{\"path\":[\"dishByIds\",11,\"_id\"],\"parentType\":\"Dish\",\"fieldName\":\"_id\",\"returnType\":\"MongoID!\",\"startOffset\":6858045,\"duration\":13142},{\"path\":[\"dishByIds\",12,\"description\"],\"parentType\":\"Dish\",\"fieldName\":\"description\",\"returnType\":\"String\",\"startOffset\":6883939,\"duration\":12436},{\"path\":[\"dishByIds\",12,\"createdAt\"],\"parentType\":\"Dish\",\"fieldName\":\"createdAt\",\"returnType\":\"Date\",\"startOffset\":6901712,\"duration\":16110},{\"path\":[\"dishByIds\",12,\"_id\"],\"parentType\":\"Dish\",\"fieldName\":\"_id\",\"returnType\":\"MongoID!\",\"startOffset\":6931524,\"duration\":11449},{\"path\":[\"dishByIds\",13,\"description\"],\"parentType\":\"Dish\",\"fieldName\":\"description\",\"returnType\":\"String\",\"startOffset\":6959483,\"duration\":13356},{\"path\":[\"dishByIds\",13,\"createdAt\"],\"parentType\":\"Dish\",\"fieldName\":\"createdAt\",\"returnType\":\"Date\",\"startOffset\":6977965,\"duration\":10393},{\"path\":[\"dishByIds\",13,\"_id\"],\"parentType\":\"Dish\",\"fieldName\":\"_id\",\"returnType\":\"MongoID!\",\"startOffset\":7005717,\"duration\":12346},{\"path\":[\"dishByIds\",14,\"description\"],\"parentType\":\"Dish\",\"fieldName\":\"description\",\"returnType\":\"String\",\"startOffset\":7030509,\"duration\":22376},{\"path\":[\"dishByIds\",14,\"createdAt\"],\"parentType\":\"Dish\",\"fieldName\":\"createdAt\",\"returnType\":\"Date\",\"startOffset\":7063038,\"duration\":13110},{\"path\":[\"dishByIds\",14,\"_id\"],\"parentType\":\"Dish\",\"fieldName\":\"_id\",\"returnType\":\"MongoID!\",\"startOffset\":7090757,\"duration\":11673}]}}}}\n",
      "\n"
     ]
    }
   ],
   "source": [
    "rec_list = [\n",
    "  \"603ab53b88dbe9c89607dfc6\",\n",
    "  \"603ab53b88dbe9c89607dfb3\",\n",
    "  \"603ab53b88dbe9c89607dfb4\",\n",
    "  \"603ab53b88dbe9c89607dfbe\",\n",
    "  \"603ab53b88dbe9c89607dfce\",\n",
    "  \"603ab53b88dbe9c89607dfae\",\n",
    "  \"603ab53b88dbe9c89607dfc7\",\n",
    "  \"603ab53b88dbe9c89607dfc8\",\n",
    "  \"603ab53b88dbe9c89607dfab\",\n",
    "  \"603ab53b88dbe9c89607dfad\",\n",
    "  \"603ab53b88dbe9c89607dfac\",\n",
    "  \"603ab53b88dbe9c89607dfa9\",\n",
    "  \"603ab53b88dbe9c89607dfaa\",\n",
    "  \"603ab53b88dbe9c89607dfa7\",\n",
    "  \"603ab53b88dbe9c89607dfc4\"\n",
    "]\n",
    "\n",
    "\n",
    "rec_dish_query = \"\"\"query {\n",
    "  \t\tdishByIds (_ids:\"\"\" + json.dumps(rec_list) + \"\"\"){\n",
    "\t\t\tdescription\n",
    "            createdAt\n",
    "            _id\n",
    "  \t\t}}\"\"\"\n",
    "\n",
    "url = 'https://palette-backend.herokuapp.com/graphql'\n",
    "r = requests.post(url, json={'query': rec_dish_query})\n",
    "print(r.status_code)\n",
    "print(r.text)\n"
   ]
  },
  {
   "cell_type": "code",
   "execution_count": 128,
   "metadata": {},
   "outputs": [],
   "source": [
    "json_data = json.loads(r.text)\n",
    "rec_dish_df = json_data['data']['dishByIds']"
   ]
  },
  {
   "cell_type": "code",
   "execution_count": null,
   "metadata": {},
   "outputs": [],
   "source": []
  },
  {
   "cell_type": "code",
   "execution_count": 129,
   "metadata": {},
   "outputs": [
    {
     "name": "stdout",
     "output_type": "stream",
     "text": [
      "[{'description': 'Thin rice noodles stir-fried with egg, green onions, bean sprouts and ground peanuts.', 'createdAt': '2021-05-04T15:00:00.000Z', '_id': '603ab53b88dbe9c89607dfa8'}, {'description': 'plant-based patty, BBQ, cheddar, avocado, crispy onion', 'createdAt': '2021-05-04T15:00:00.000Z', '_id': '603ab53b88dbe9c89607dfc9'}]\n"
     ]
    }
   ],
   "source": [
    "print(new_dish_df)"
   ]
  },
  {
   "cell_type": "code",
   "execution_count": 132,
   "metadata": {},
   "outputs": [
    {
     "name": "stdout",
     "output_type": "stream",
     "text": [
      "{'description': 'Thin rice noodles stir-fried with egg, green onions, bean sprouts and ground peanuts.', 'createdAt': '2021-05-04T15:00:00.000Z', '_id': '603ab53b88dbe9c89607dfa8'}\n",
      "{'description': 'Thin rice noodles stir-fried with egg, green onions, bean sprouts and ground peanuts.', 'createdAt': '2021-05-04T15:00:00.000Z', '_id': '603ab53b88dbe9c89607dfa8'}\n",
      "{'description': 'Thin rice noodles stir-fried with egg, green onions, bean sprouts and ground peanuts.', 'createdAt': '2021-05-04T15:00:00.000Z', '_id': '603ab53b88dbe9c89607dfa8'}\n",
      "{'description': 'Thin rice noodles stir-fried with egg, green onions, bean sprouts and ground peanuts.', 'createdAt': '2021-05-04T15:00:00.000Z', '_id': '603ab53b88dbe9c89607dfa8'}\n",
      "{'description': 'Thin rice noodles stir-fried with egg, green onions, bean sprouts and ground peanuts.', 'createdAt': '2021-05-04T15:00:00.000Z', '_id': '603ab53b88dbe9c89607dfa8'}\n",
      "{'description': 'Thin rice noodles stir-fried with egg, green onions, bean sprouts and ground peanuts.', 'createdAt': '2021-05-04T15:00:00.000Z', '_id': '603ab53b88dbe9c89607dfa8'}\n",
      "{'description': 'Thin rice noodles stir-fried with egg, green onions, bean sprouts and ground peanuts.', 'createdAt': '2021-05-04T15:00:00.000Z', '_id': '603ab53b88dbe9c89607dfa8'}\n",
      "{'description': 'Thin rice noodles stir-fried with egg, green onions, bean sprouts and ground peanuts.', 'createdAt': '2021-05-04T15:00:00.000Z', '_id': '603ab53b88dbe9c89607dfa8'}\n",
      "{'description': 'Thin rice noodles stir-fried with egg, green onions, bean sprouts and ground peanuts.', 'createdAt': '2021-05-04T15:00:00.000Z', '_id': '603ab53b88dbe9c89607dfa8'}\n",
      "{'description': 'Thin rice noodles stir-fried with egg, green onions, bean sprouts and ground peanuts.', 'createdAt': '2021-05-04T15:00:00.000Z', '_id': '603ab53b88dbe9c89607dfa8'}\n",
      "{'description': 'Thin rice noodles stir-fried with egg, green onions, bean sprouts and ground peanuts.', 'createdAt': '2021-05-04T15:00:00.000Z', '_id': '603ab53b88dbe9c89607dfa8'}\n",
      "{'description': 'Thin rice noodles stir-fried with egg, green onions, bean sprouts and ground peanuts.', 'createdAt': '2021-05-04T15:00:00.000Z', '_id': '603ab53b88dbe9c89607dfa8'}\n",
      "{'description': 'Thin rice noodles stir-fried with egg, green onions, bean sprouts and ground peanuts.', 'createdAt': '2021-05-04T15:00:00.000Z', '_id': '603ab53b88dbe9c89607dfa8'}\n",
      "{'description': 'Thin rice noodles stir-fried with egg, green onions, bean sprouts and ground peanuts.', 'createdAt': '2021-05-04T15:00:00.000Z', '_id': '603ab53b88dbe9c89607dfa8'}\n",
      "{'description': 'Thin rice noodles stir-fried with egg, green onions, bean sprouts and ground peanuts.', 'createdAt': '2021-05-04T15:00:00.000Z', '_id': '603ab53b88dbe9c89607dfa8'}\n",
      "{'description': 'plant-based patty, BBQ, cheddar, avocado, crispy onion', 'createdAt': '2021-05-04T15:00:00.000Z', '_id': '603ab53b88dbe9c89607dfc9'}\n",
      "{'description': 'plant-based patty, BBQ, cheddar, avocado, crispy onion', 'createdAt': '2021-05-04T15:00:00.000Z', '_id': '603ab53b88dbe9c89607dfc9'}\n",
      "{'description': 'plant-based patty, BBQ, cheddar, avocado, crispy onion', 'createdAt': '2021-05-04T15:00:00.000Z', '_id': '603ab53b88dbe9c89607dfc9'}\n",
      "{'description': 'plant-based patty, BBQ, cheddar, avocado, crispy onion', 'createdAt': '2021-05-04T15:00:00.000Z', '_id': '603ab53b88dbe9c89607dfc9'}\n",
      "{'description': 'plant-based patty, BBQ, cheddar, avocado, crispy onion', 'createdAt': '2021-05-04T15:00:00.000Z', '_id': '603ab53b88dbe9c89607dfc9'}\n",
      "{'description': 'plant-based patty, BBQ, cheddar, avocado, crispy onion', 'createdAt': '2021-05-04T15:00:00.000Z', '_id': '603ab53b88dbe9c89607dfc9'}\n",
      "{'description': 'plant-based patty, BBQ, cheddar, avocado, crispy onion', 'createdAt': '2021-05-04T15:00:00.000Z', '_id': '603ab53b88dbe9c89607dfc9'}\n",
      "{'description': 'plant-based patty, BBQ, cheddar, avocado, crispy onion', 'createdAt': '2021-05-04T15:00:00.000Z', '_id': '603ab53b88dbe9c89607dfc9'}\n",
      "{'description': 'plant-based patty, BBQ, cheddar, avocado, crispy onion', 'createdAt': '2021-05-04T15:00:00.000Z', '_id': '603ab53b88dbe9c89607dfc9'}\n",
      "{'description': 'plant-based patty, BBQ, cheddar, avocado, crispy onion', 'createdAt': '2021-05-04T15:00:00.000Z', '_id': '603ab53b88dbe9c89607dfc9'}\n",
      "{'description': 'plant-based patty, BBQ, cheddar, avocado, crispy onion', 'createdAt': '2021-05-04T15:00:00.000Z', '_id': '603ab53b88dbe9c89607dfc9'}\n",
      "{'description': 'plant-based patty, BBQ, cheddar, avocado, crispy onion', 'createdAt': '2021-05-04T15:00:00.000Z', '_id': '603ab53b88dbe9c89607dfc9'}\n",
      "{'description': 'plant-based patty, BBQ, cheddar, avocado, crispy onion', 'createdAt': '2021-05-04T15:00:00.000Z', '_id': '603ab53b88dbe9c89607dfc9'}\n",
      "{'description': 'plant-based patty, BBQ, cheddar, avocado, crispy onion', 'createdAt': '2021-05-04T15:00:00.000Z', '_id': '603ab53b88dbe9c89607dfc9'}\n",
      "{'description': 'plant-based patty, BBQ, cheddar, avocado, crispy onion', 'createdAt': '2021-05-04T15:00:00.000Z', '_id': '603ab53b88dbe9c89607dfc9'}\n",
      "tensor([[0.9114]]) 603ab53b88dbe9c89607dfa8\n"
     ]
    }
   ],
   "source": [
    "max_score = 0\n",
    "max_dish = new_dish_df[0]['_id']\n",
    "\n",
    "for dish in new_dish_df:\n",
    "    for rec in rec_dish_df:\n",
    "        #Compute embedding for both descriptions\n",
    "        embeddingsDish = model.encode(dish['description'], convert_to_tensor=True, show_progress_bar=False)\n",
    "        embeddingsRec = model.encode(rec['description'], convert_to_tensor=True, show_progress_bar=False)\n",
    "        \n",
    "        #Compute cosine-similarits\n",
    "        cosine_scores = util.pytorch_cos_sim(embeddingsDish, embeddingsRec)\n",
    "\n",
    "        if max_score < cosine_scores:\n",
    "            max_dish = dish['_id']\n",
    "            max_score = cosine_scores\n",
    "            \n",
    "            \n",
    "            \n",
    "print(max_score, max_dish)"
   ]
  },
  {
   "cell_type": "code",
   "execution_count": null,
   "metadata": {},
   "outputs": [],
   "source": []
  }
 ],
 "metadata": {
  "kernelspec": {
   "display_name": "Python 3",
   "language": "python",
   "name": "python3"
  },
  "language_info": {
   "codemirror_mode": {
    "name": "ipython",
    "version": 3
   },
   "file_extension": ".py",
   "mimetype": "text/x-python",
   "name": "python",
   "nbconvert_exporter": "python",
   "pygments_lexer": "ipython3",
   "version": "3.8.5"
  }
 },
 "nbformat": 4,
 "nbformat_minor": 4
}
