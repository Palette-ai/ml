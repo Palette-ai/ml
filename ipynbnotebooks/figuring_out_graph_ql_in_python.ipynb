{
 "cells": [
  {
   "cell_type": "code",
   "execution_count": 5,
   "metadata": {},
   "outputs": [],
   "source": [
    "import requests\n",
    "import json\n",
    "import pandas as pd"
   ]
  },
  {
   "cell_type": "code",
   "execution_count": 6,
   "metadata": {},
   "outputs": [],
   "source": [
    "user_query = \"\"\"query  {\n",
    "              userById (_id:  \"607f2bbfc2799a00154554de\") {\n",
    "                name\n",
    "                _id\n",
    "                createdAt\n",
    "          }\n",
    "    }\"\"\""
   ]
  },
  {
   "cell_type": "code",
   "execution_count": 7,
   "metadata": {},
   "outputs": [
    {
     "name": "stdout",
     "output_type": "stream",
     "text": [
      "200\n",
      "{\"data\":{\"userById\":{\"name\":\"Connor\",\"_id\":\"607f2bbfc2799a00154554de\",\"createdAt\":\"2021-04-20T19:30:07.015Z\"}},\"extensions\":{\"tracing\":{\"version\":1,\"startTime\":\"2021-04-29T19:07:20.070Z\",\"endTime\":\"2021-04-29T19:07:20.087Z\",\"duration\":16644050,\"execution\":{\"resolvers\":[{\"path\":[\"userById\"],\"parentType\":\"Query\",\"fieldName\":\"userById\",\"returnType\":\"User\",\"startOffset\":8385279,\"duration\":7754608},{\"path\":[\"userById\",\"name\"],\"parentType\":\"User\",\"fieldName\":\"name\",\"returnType\":\"String!\",\"startOffset\":16248828,\"duration\":76068},{\"path\":[\"userById\",\"_id\"],\"parentType\":\"User\",\"fieldName\":\"_id\",\"returnType\":\"MongoID!\",\"startOffset\":16361069,\"duration\":47297},{\"path\":[\"userById\",\"createdAt\"],\"parentType\":\"User\",\"fieldName\":\"createdAt\",\"returnType\":\"Date\",\"startOffset\":16455603,\"duration\":57218}]}}}}\n",
      "\n"
     ]
    }
   ],
   "source": [
    "url = 'https://palette-backend.herokuapp.com/graphql'\n",
    "r = requests.post(url, json={'query': user_query})\n",
    "print(r.status_code)\n",
    "print(r.text)"
   ]
  },
  {
   "cell_type": "code",
   "execution_count": 8,
   "metadata": {},
   "outputs": [],
   "source": [
    "json_data = json.loads(r.text)"
   ]
  },
  {
   "cell_type": "code",
   "execution_count": 9,
   "metadata": {},
   "outputs": [
    {
     "name": "stdout",
     "output_type": "stream",
     "text": [
      "{'name': 'Connor', '_id': '607f2bbfc2799a00154554de', 'createdAt': '2021-04-20T19:30:07.015Z'}\n"
     ]
    }
   ],
   "source": [
    "print(json_data['data']['userById'])\n",
    "\n",
    "user_id = json_data['data']['userById']['_id']\n"
   ]
  },
  {
   "cell_type": "code",
   "execution_count": null,
   "metadata": {},
   "outputs": [],
   "source": []
  },
  {
   "cell_type": "code",
   "execution_count": 10,
   "metadata": {},
   "outputs": [
    {
     "ename": "NameError",
     "evalue": "name 'df' is not defined",
     "output_type": "error",
     "traceback": [
      "\u001b[0;31m---------------------------------------------------------------------------\u001b[0m",
      "\u001b[0;31mNameError\u001b[0m                                 Traceback (most recent call last)",
      "\u001b[0;32m<ipython-input-10-89148ddff993>\u001b[0m in \u001b[0;36m<module>\u001b[0;34m\u001b[0m\n\u001b[0;32m----> 1\u001b[0;31m \u001b[0mdf\u001b[0m\u001b[0;34m.\u001b[0m\u001b[0mhead\u001b[0m\u001b[0;34m\u001b[0m\u001b[0;34m\u001b[0m\u001b[0m\n\u001b[0m",
      "\u001b[0;31mNameError\u001b[0m: name 'df' is not defined"
     ]
    }
   ],
   "source": [
    "df.head"
   ]
  },
  {
   "cell_type": "code",
   "execution_count": 11,
   "metadata": {},
   "outputs": [],
   "source": [
    "dish_rating_query = \"\"\"query  {\n",
    "\t\tdishRatingMany (filter: {user_id: \"607f2bbfc2799a00154554de\"}) {\n",
    "\t\t\t_id\n",
    "\t\t\tdish_id\n",
    "\t\t\tuser { name }\n",
    "\t\t\trating\n",
    "\t\t\treview\n",
    "\t\t\tcreatedAt\n",
    "\t\t\tdish { \n",
    "\t\t\t\tdish_name \n",
    "\t\t\t\trestaurant { name }\n",
    "\t\t\t\t}\n",
    "\t\t}\n",
    "\t}\"\"\""
   ]
  },
  {
   "cell_type": "code",
   "execution_count": 12,
   "metadata": {},
   "outputs": [
    {
     "name": "stdout",
     "output_type": "stream",
     "text": [
      "200\n",
      "{\"data\":{\"dishRatingMany\":[{\"_id\":\"607f2f75914a7b001549af49\",\"dish_id\":\"603ab53b88dbe9c89607dfa7\",\"user\":{\"name\":\"Connor\"},\"rating\":4,\"review\":\"Pretty god,  could use salt\",\"createdAt\":\"2021-04-20T19:45:57.321Z\",\"dish\":{\"dish_name\":\"Panang Curry\",\"restaurant\":{\"name\":\"Tuk Tuk Thai Cuisine\"}}}]},\"extensions\":{\"tracing\":{\"version\":1,\"startTime\":\"2021-04-29T19:07:36.000Z\",\"endTime\":\"2021-04-29T19:07:36.027Z\",\"duration\":27449711,\"execution\":{\"resolvers\":[{\"path\":[\"dishRatingMany\"],\"parentType\":\"Query\",\"fieldName\":\"dishRatingMany\",\"returnType\":\"[DishRating!]!\",\"startOffset\":7313003,\"duration\":6105634},{\"path\":[\"dishRatingMany\",0,\"_id\"],\"parentType\":\"DishRating\",\"fieldName\":\"_id\",\"returnType\":\"MongoID!\",\"startOffset\":13521436,\"duration\":46908},{\"path\":[\"dishRatingMany\",0,\"dish_id\"],\"parentType\":\"DishRating\",\"fieldName\":\"dish_id\",\"returnType\":\"String!\",\"startOffset\":13610285,\"duration\":40857},{\"path\":[\"dishRatingMany\",0,\"user\"],\"parentType\":\"DishRating\",\"fieldName\":\"user\",\"returnType\":\"User\",\"startOffset\":13679211,\"duration\":10077875},{\"path\":[\"dishRatingMany\",0,\"rating\"],\"parentType\":\"DishRating\",\"fieldName\":\"rating\",\"returnType\":\"Float!\",\"startOffset\":14874036,\"duration\":59479},{\"path\":[\"dishRatingMany\",0,\"review\"],\"parentType\":\"DishRating\",\"fieldName\":\"review\",\"returnType\":\"String\",\"startOffset\":14965201,\"duration\":39444},{\"path\":[\"dishRatingMany\",0,\"createdAt\"],\"parentType\":\"DishRating\",\"fieldName\":\"createdAt\",\"returnType\":\"Date\",\"startOffset\":15032303,\"duration\":43554},{\"path\":[\"dishRatingMany\",0,\"dish\"],\"parentType\":\"DishRating\",\"fieldName\":\"dish\",\"returnType\":\"Dish\",\"startOffset\":15129431,\"duration\":8838975},{\"path\":[\"dishRatingMany\",0,\"user\",\"name\"],\"parentType\":\"User\",\"fieldName\":\"name\",\"returnType\":\"String!\",\"startOffset\":23822126,\"duration\":28303},{\"path\":[\"dishRatingMany\",0,\"dish\",\"dish_name\"],\"parentType\":\"Dish\",\"fieldName\":\"dish_name\",\"returnType\":\"String!\",\"startOffset\":24014689,\"duration\":18305},{\"path\":[\"dishRatingMany\",0,\"dish\",\"restaurant\"],\"parentType\":\"Dish\",\"fieldName\":\"restaurant\",\"returnType\":\"Restaurant\",\"startOffset\":24051939,\"duration\":3229513},{\"path\":[\"dishRatingMany\",0,\"dish\",\"restaurant\",\"name\"],\"parentType\":\"Restaurant\",\"fieldName\":\"name\",\"returnType\":\"String!\",\"startOffset\":27338446,\"duration\":25762}]}}}}\n",
      "\n"
     ]
    }
   ],
   "source": [
    "url = 'https://palette-backend.herokuapp.com/graphql'\n",
    "r = requests.post(url, json={'query': dish_rating_query})\n",
    "print(r.status_code)\n",
    "print(r.text)"
   ]
  },
  {
   "cell_type": "code",
   "execution_count": 13,
   "metadata": {},
   "outputs": [],
   "source": [
    "json_data = json.loads(r.text)"
   ]
  },
  {
   "cell_type": "code",
   "execution_count": 14,
   "metadata": {},
   "outputs": [],
   "source": [
    "df = json_data['data']['dishRatingMany']"
   ]
  },
  {
   "cell_type": "code",
   "execution_count": 15,
   "metadata": {},
   "outputs": [
    {
     "name": "stdout",
     "output_type": "stream",
     "text": [
      "1\n"
     ]
    }
   ],
   "source": [
    "print(len(df))"
   ]
  },
  {
   "cell_type": "code",
   "execution_count": 18,
   "metadata": {},
   "outputs": [
    {
     "name": "stdout",
     "output_type": "stream",
     "text": [
      "[{'_id': '607f2f75914a7b001549af49', 'dish_id': '603ab53b88dbe9c89607dfa7', 'user': {'name': 'Connor'}, 'rating': 4, 'review': 'Pretty god,  could use salt', 'createdAt': '2021-04-20T19:45:57.321Z', 'dish': {'dish_name': 'Panang Curry', 'restaurant': {'name': 'Tuk Tuk Thai Cuisine'}}}]\n"
     ]
    }
   ],
   "source": [
    "print(df)\n"
   ]
  },
  {
   "cell_type": "code",
   "execution_count": 40,
   "metadata": {},
   "outputs": [],
   "source": [
    "popular_dish_query = \"\"\"query {\n",
    "  \t\tdishMany {\n",
    "            average_rating\n",
    "\t\t\t_id\n",
    "  \t\t}}\"\"\"\n"
   ]
  },
  {
   "cell_type": "code",
   "execution_count": 41,
   "metadata": {},
   "outputs": [
    {
     "name": "stdout",
     "output_type": "stream",
     "text": [
      "200\n",
      "{\"data\":{\"dishMany\":[{\"average_rating\":3.3,\"_id\":\"603ab53b88dbe9c89607dfae\"},{\"average_rating\":1.1,\"_id\":\"603ab53b88dbe9c89607dfc4\"},{\"average_rating\":2.5,\"_id\":\"603ab53b88dbe9c89607dfa7\"},{\"average_rating\":1.3,\"_id\":\"603ab53b88dbe9c89607dfab\"},{\"average_rating\":5,\"_id\":\"603ab53b88dbe9c89607dfac\"},{\"average_rating\":5,\"_id\":\"603ab53b88dbe9c89607dfb1\"},{\"average_rating\":1.8,\"_id\":\"603ab53b88dbe9c89607dfb4\"},{\"average_rating\":4.1,\"_id\":\"603ab53b88dbe9c89607dfba\"},{\"average_rating\":2,\"_id\":\"603ab53b88dbe9c89607dfc6\"},{\"average_rating\":3.9,\"_id\":\"603ab53b88dbe9c89607dfcf\"},{\"average_rating\":2.9,\"_id\":\"603ab53b88dbe9c89607dfc0\"},{\"average_rating\":3.1,\"_id\":\"603ab53b88dbe9c89607dfc7\"},{\"average_rating\":3.1,\"_id\":\"603ab53b88dbe9c89607dfcb\"},{\"average_rating\":4.8,\"_id\":\"603ab53b88dbe9c89607dfd8\"},{\"average_rating\":4,\"_id\":\"603ab53b88dbe9c89607dfaa\"},{\"average_rating\":5,\"_id\":\"603ab53b88dbe9c89607dfaf\"},{\"average_rating\":2.1,\"_id\":\"603ab53b88dbe9c89607dfad\"},{\"average_rating\":1.6,\"_id\":\"603ab53b88dbe9c89607dfc3\"},{\"average_rating\":3.5,\"_id\":\"603ab53b88dbe9c89607dfd2\"},{\"average_rating\":2.1,\"_id\":\"603ab53b88dbe9c89607dfd4\"},{\"average_rating\":3.4,\"_id\":\"603ab53b88dbe9c89607dfd0\"},{\"average_rating\":1.5,\"_id\":\"603ab53b88dbe9c89607dfbe\"},{\"average_rating\":4.1,\"_id\":\"603ab53b88dbe9c89607dfb2\"},{\"average_rating\":1.5,\"_id\":\"603ab53b88dbe9c89607dfa9\"},{\"average_rating\":4.2,\"_id\":\"603ab53b88dbe9c89607dfd6\"},{\"average_rating\":3.7,\"_id\":\"603ab53b88dbe9c89607dfbd\"},{\"average_rating\":4.5,\"_id\":\"603ab53b88dbe9c89607dfcd\"},{\"average_rating\":1.1,\"_id\":\"603ab53b88dbe9c89607dfd5\"},{\"average_rating\":3.3,\"_id\":\"603ab53b88dbe9c89607dfd7\"},{\"average_rating\":1.3,\"_id\":\"603ab53b88dbe9c89607dfc5\"},{\"average_rating\":5,\"_id\":\"603ab53b88dbe9c89607dfd3\"},{\"average_rating\":1.2,\"_id\":\"603ab53b88dbe9c89607dfca\"},{\"average_rating\":5,\"_id\":\"603ab53b88dbe9c89607dfa8\"},{\"average_rating\":4.2,\"_id\":\"603ab53b88dbe9c89607dfbb\"},{\"average_rating\":1.1,\"_id\":\"603ab53b88dbe9c89607dfb6\"},{\"average_rating\":4.9,\"_id\":\"603ab53b88dbe9c89607dfc2\"},{\"average_rating\":3.7,\"_id\":\"603ab53b88dbe9c89607dfbf\"},{\"average_rating\":1.8,\"_id\":\"603ab53b88dbe9c89607dfc1\"},{\"average_rating\":4.5,\"_id\":\"603ab53b88dbe9c89607dfc9\"},{\"average_rating\":1.5,\"_id\":\"603ab53b88dbe9c89607dfb7\"},{\"average_rating\":4.7,\"_id\":\"603ab53b88dbe9c89607dfb8\"},{\"average_rating\":2.2,\"_id\":\"603ab53b88dbe9c89607dfce\"},{\"average_rating\":1,\"_id\":\"603ab53b88dbe9c89607dfd1\"},{\"average_rating\":4.5,\"_id\":\"603ab53b88dbe9c89607dfbc\"},{\"average_rating\":2.8,\"_id\":\"603ab53b88dbe9c89607dfc8\"},{\"average_rating\":4.5,\"_id\":\"603ab53b88dbe9c89607dfcc\"},{\"average_rating\":2.3,\"_id\":\"603ab53b88dbe9c89607dfb0\"},{\"average_rating\":1.2,\"_id\":\"603ab53b88dbe9c89607dfb3\"},{\"average_rating\":1.2,\"_id\":\"603ab53b88dbe9c89607dfb5\"},{\"average_rating\":4.6,\"_id\":\"603ab53b88dbe9c89607dfb9\"}]},\"extensions\":{\"tracing\":{\"version\":1,\"startTime\":\"2021-04-29T19:20:15.021Z\",\"endTime\":\"2021-04-29T19:20:15.038Z\",\"duration\":17043355,\"execution\":{\"resolvers\":[{\"path\":[\"dishMany\"],\"parentType\":\"Query\",\"fieldName\":\"dishMany\",\"returnType\":\"[Dish!]!\",\"startOffset\":1177338,\"duration\":12765540},{\"path\":[\"dishMany\",0,\"average_rating\"],\"parentType\":\"Dish\",\"fieldName\":\"average_rating\",\"returnType\":\"Float\",\"startOffset\":14005888,\"duration\":35182},{\"path\":[\"dishMany\",0,\"_id\"],\"parentType\":\"Dish\",\"fieldName\":\"_id\",\"returnType\":\"MongoID!\",\"startOffset\":14051160,\"duration\":24724},{\"path\":[\"dishMany\",1,\"average_rating\"],\"parentType\":\"Dish\",\"fieldName\":\"average_rating\",\"returnType\":\"Float\",\"startOffset\":14107777,\"duration\":20309},{\"path\":[\"dishMany\",1,\"_id\"],\"parentType\":\"Dish\",\"fieldName\":\"_id\",\"returnType\":\"MongoID!\",\"startOffset\":14140027,\"duration\":12809},{\"path\":[\"dishMany\",2,\"average_rating\"],\"parentType\":\"Dish\",\"fieldName\":\"average_rating\",\"returnType\":\"Float\",\"startOffset\":14168678,\"duration\":21598},{\"path\":[\"dishMany\",2,\"_id\"],\"parentType\":\"Dish\",\"fieldName\":\"_id\",\"returnType\":\"MongoID!\",\"startOffset\":14196856,\"duration\":11827},{\"path\":[\"dishMany\",3,\"average_rating\"],\"parentType\":\"Dish\",\"fieldName\":\"average_rating\",\"returnType\":\"Float\",\"startOffset\":14222512,\"duration\":19710},{\"path\":[\"dishMany\",3,\"_id\"],\"parentType\":\"Dish\",\"fieldName\":\"_id\",\"returnType\":\"MongoID!\",\"startOffset\":14248245,\"duration\":10504},{\"path\":[\"dishMany\",4,\"average_rating\"],\"parentType\":\"Dish\",\"fieldName\":\"average_rating\",\"returnType\":\"Float\",\"startOffset\":14276547,\"duration\":15844},{\"path\":[\"dishMany\",4,\"_id\"],\"parentType\":\"Dish\",\"fieldName\":\"_id\",\"returnType\":\"MongoID!\",\"startOffset\":14298491,\"duration\":14960},{\"path\":[\"dishMany\",5,\"average_rating\"],\"parentType\":\"Dish\",\"fieldName\":\"average_rating\",\"returnType\":\"Float\",\"startOffset\":14327188,\"duration\":14479},{\"path\":[\"dishMany\",5,\"_id\"],\"parentType\":\"Dish\",\"fieldName\":\"_id\",\"returnType\":\"MongoID!\",\"startOffset\":14351796,\"duration\":11915},{\"path\":[\"dishMany\",6,\"average_rating\"],\"parentType\":\"Dish\",\"fieldName\":\"average_rating\",\"returnType\":\"Float\",\"startOffset\":14376746,\"duration\":16497},{\"path\":[\"dishMany\",6,\"_id\"],\"parentType\":\"Dish\",\"fieldName\":\"_id\",\"returnType\":\"MongoID!\",\"startOffset\":14399341,\"duration\":11297},{\"path\":[\"dishMany\",7,\"average_rating\"],\"parentType\":\"Dish\",\"fieldName\":\"average_rating\",\"returnType\":\"Float\",\"startOffset\":14429312,\"duration\":15661},{\"path\":[\"dishMany\",7,\"_id\"],\"parentType\":\"Dish\",\"fieldName\":\"_id\",\"returnType\":\"MongoID!\",\"startOffset\":14450745,\"duration\":10394},{\"path\":[\"dishMany\",8,\"average_rating\"],\"parentType\":\"Dish\",\"fieldName\":\"average_rating\",\"returnType\":\"Float\",\"startOffset\":14478906,\"duration\":15337},{\"path\":[\"dishMany\",8,\"_id\"],\"parentType\":\"Dish\",\"fieldName\":\"_id\",\"returnType\":\"MongoID!\",\"startOffset\":14503831,\"duration\":11667},{\"path\":[\"dishMany\",9,\"average_rating\"],\"parentType\":\"Dish\",\"fieldName\":\"average_rating\",\"returnType\":\"Float\",\"startOffset\":14528725,\"duration\":18614},{\"path\":[\"dishMany\",9,\"_id\"],\"parentType\":\"Dish\",\"fieldName\":\"_id\",\"returnType\":\"MongoID!\",\"startOffset\":14553729,\"duration\":11209},{\"path\":[\"dishMany\",10,\"average_rating\"],\"parentType\":\"Dish\",\"fieldName\":\"average_rating\",\"returnType\":\"Float\",\"startOffset\":14578091,\"duration\":19046},{\"path\":[\"dishMany\",10,\"_id\"],\"parentType\":\"Dish\",\"fieldName\":\"_id\",\"returnType\":\"MongoID!\",\"startOffset\":14603010,\"duration\":10759},{\"path\":[\"dishMany\",11,\"average_rating\"],\"parentType\":\"Dish\",\"fieldName\":\"average_rating\",\"returnType\":\"Float\",\"startOffset\":14631636,\"duration\":15406},{\"path\":[\"dishMany\",11,\"_id\"],\"parentType\":\"Dish\",\"fieldName\":\"_id\",\"returnType\":\"MongoID!\",\"startOffset\":14653103,\"duration\":14629},{\"path\":[\"dishMany\",12,\"average_rating\"],\"parentType\":\"Dish\",\"fieldName\":\"average_rating\",\"returnType\":\"Float\",\"startOffset\":14681342,\"duration\":25885},{\"path\":[\"dishMany\",12,\"_id\"],\"parentType\":\"Dish\",\"fieldName\":\"_id\",\"returnType\":\"MongoID!\",\"startOffset\":14727150,\"duration\":25681},{\"path\":[\"dishMany\",13,\"average_rating\"],\"parentType\":\"Dish\",\"fieldName\":\"average_rating\",\"returnType\":\"Float\",\"startOffset\":14782885,\"duration\":31955},{\"path\":[\"dishMany\",13,\"_id\"],\"parentType\":\"Dish\",\"fieldName\":\"_id\",\"returnType\":\"MongoID!\",\"startOffset\":14822879,\"duration\":12525},{\"path\":[\"dishMany\",14,\"average_rating\"],\"parentType\":\"Dish\",\"fieldName\":\"average_rating\",\"returnType\":\"Float\",\"startOffset\":14856221,\"duration\":16069},{\"path\":[\"dishMany\",14,\"_id\"],\"parentType\":\"Dish\",\"fieldName\":\"_id\",\"returnType\":\"MongoID!\",\"startOffset\":14878353,\"duration\":10388},{\"path\":[\"dishMany\",15,\"average_rating\"],\"parentType\":\"Dish\",\"fieldName\":\"average_rating\",\"returnType\":\"Float\",\"startOffset\":14906907,\"duration\":15562},{\"path\":[\"dishMany\",15,\"_id\"],\"parentType\":\"Dish\",\"fieldName\":\"_id\",\"returnType\":\"MongoID!\",\"startOffset\":14928276,\"duration\":47447},{\"path\":[\"dishMany\",16,\"average_rating\"],\"parentType\":\"Dish\",\"fieldName\":\"average_rating\",\"returnType\":\"Float\",\"startOffset\":15084008,\"duration\":21861},{\"path\":[\"dishMany\",16,\"_id\"],\"parentType\":\"Dish\",\"fieldName\":\"_id\",\"returnType\":\"MongoID!\",\"startOffset\":15117225,\"duration\":12089},{\"path\":[\"dishMany\",17,\"average_rating\"],\"parentType\":\"Dish\",\"fieldName\":\"average_rating\",\"returnType\":\"Float\",\"startOffset\":15144344,\"duration\":18906},{\"path\":[\"dishMany\",17,\"_id\"],\"parentType\":\"Dish\",\"fieldName\":\"_id\",\"returnType\":\"MongoID!\",\"startOffset\":15169631,\"duration\":11025},{\"path\":[\"dishMany\",18,\"average_rating\"],\"parentType\":\"Dish\",\"fieldName\":\"average_rating\",\"returnType\":\"Float\",\"startOffset\":15201587,\"duration\":15958},{\"path\":[\"dishMany\",18,\"_id\"],\"parentType\":\"Dish\",\"fieldName\":\"_id\",\"returnType\":\"MongoID!\",\"startOffset\":15223624,\"duration\":20840},{\"path\":[\"dishMany\",19,\"average_rating\"],\"parentType\":\"Dish\",\"fieldName\":\"average_rating\",\"returnType\":\"Float\",\"startOffset\":15269987,\"duration\":26566},{\"path\":[\"dishMany\",19,\"_id\"],\"parentType\":\"Dish\",\"fieldName\":\"_id\",\"returnType\":\"MongoID!\",\"startOffset\":15302947,\"duration\":15482},{\"path\":[\"dishMany\",20,\"average_rating\"],\"parentType\":\"Dish\",\"fieldName\":\"average_rating\",\"returnType\":\"Float\",\"startOffset\":15343909,\"duration\":16878},{\"path\":[\"dishMany\",20,\"_id\"],\"parentType\":\"Dish\",\"fieldName\":\"_id\",\"returnType\":\"MongoID!\",\"startOffset\":15371184,\"duration\":11935},{\"path\":[\"dishMany\",21,\"average_rating\"],\"parentType\":\"Dish\",\"fieldName\":\"average_rating\",\"returnType\":\"Float\",\"startOffset\":15397184,\"duration\":26011},{\"path\":[\"dishMany\",21,\"_id\"],\"parentType\":\"Dish\",\"fieldName\":\"_id\",\"returnType\":\"MongoID!\",\"startOffset\":15429659,\"duration\":13942},{\"path\":[\"dishMany\",22,\"average_rating\"],\"parentType\":\"Dish\",\"fieldName\":\"average_rating\",\"returnType\":\"Float\",\"startOffset\":15464805,\"duration\":16698},{\"path\":[\"dishMany\",22,\"_id\"],\"parentType\":\"Dish\",\"fieldName\":\"_id\",\"returnType\":\"MongoID!\",\"startOffset\":15487622,\"duration\":15644},{\"path\":[\"dishMany\",23,\"average_rating\"],\"parentType\":\"Dish\",\"fieldName\":\"average_rating\",\"returnType\":\"Float\",\"startOffset\":15517241,\"duration\":14803},{\"path\":[\"dishMany\",23,\"_id\"],\"parentType\":\"Dish\",\"fieldName\":\"_id\",\"returnType\":\"MongoID!\",\"startOffset\":15542195,\"duration\":11676},{\"path\":[\"dishMany\",24,\"average_rating\"],\"parentType\":\"Dish\",\"fieldName\":\"average_rating\",\"returnType\":\"Float\",\"startOffset\":15567044,\"duration\":18985},{\"path\":[\"dishMany\",24,\"_id\"],\"parentType\":\"Dish\",\"fieldName\":\"_id\",\"returnType\":\"MongoID!\",\"startOffset\":15592229,\"duration\":11149},{\"path\":[\"dishMany\",25,\"average_rating\"],\"parentType\":\"Dish\",\"fieldName\":\"average_rating\",\"returnType\":\"Float\",\"startOffset\":15622324,\"duration\":15989},{\"path\":[\"dishMany\",25,\"_id\"],\"parentType\":\"Dish\",\"fieldName\":\"_id\",\"returnType\":\"MongoID!\",\"startOffset\":15644534,\"duration\":10741},{\"path\":[\"dishMany\",26,\"average_rating\"],\"parentType\":\"Dish\",\"fieldName\":\"average_rating\",\"returnType\":\"Float\",\"startOffset\":15673038,\"duration\":15276},{\"path\":[\"dishMany\",26,\"_id\"],\"parentType\":\"Dish\",\"fieldName\":\"_id\",\"returnType\":\"MongoID!\",\"startOffset\":15694180,\"duration\":15857},{\"path\":[\"dishMany\",27,\"average_rating\"],\"parentType\":\"Dish\",\"fieldName\":\"average_rating\",\"returnType\":\"Float\",\"startOffset\":15723680,\"duration\":14566},{\"path\":[\"dishMany\",27,\"_id\"],\"parentType\":\"Dish\",\"fieldName\":\"_id\",\"returnType\":\"MongoID!\",\"startOffset\":15748176,\"duration\":11529},{\"path\":[\"dishMany\",28,\"average_rating\"],\"parentType\":\"Dish\",\"fieldName\":\"average_rating\",\"returnType\":\"Float\",\"startOffset\":15773029,\"duration\":18940},{\"path\":[\"dishMany\",28,\"_id\"],\"parentType\":\"Dish\",\"fieldName\":\"_id\",\"returnType\":\"MongoID!\",\"startOffset\":15798059,\"duration\":11300},{\"path\":[\"dishMany\",29,\"average_rating\"],\"parentType\":\"Dish\",\"fieldName\":\"average_rating\",\"returnType\":\"Float\",\"startOffset\":15826533,\"duration\":15867},{\"path\":[\"dishMany\",29,\"_id\"],\"parentType\":\"Dish\",\"fieldName\":\"_id\",\"returnType\":\"MongoID!\",\"startOffset\":15848497,\"duration\":10698},{\"path\":[\"dishMany\",30,\"average_rating\"],\"parentType\":\"Dish\",\"fieldName\":\"average_rating\",\"returnType\":\"Float\",\"startOffset\":15876572,\"duration\":15122},{\"path\":[\"dishMany\",30,\"_id\"],\"parentType\":\"Dish\",\"fieldName\":\"_id\",\"returnType\":\"MongoID!\",\"startOffset\":15897609,\"duration\":15136},{\"path\":[\"dishMany\",31,\"average_rating\"],\"parentType\":\"Dish\",\"fieldName\":\"average_rating\",\"returnType\":\"Float\",\"startOffset\":15926209,\"duration\":14294},{\"path\":[\"dishMany\",31,\"_id\"],\"parentType\":\"Dish\",\"fieldName\":\"_id\",\"returnType\":\"MongoID!\",\"startOffset\":15950703,\"duration\":11489},{\"path\":[\"dishMany\",32,\"average_rating\"],\"parentType\":\"Dish\",\"fieldName\":\"average_rating\",\"returnType\":\"Float\",\"startOffset\":15975520,\"duration\":18997},{\"path\":[\"dishMany\",32,\"_id\"],\"parentType\":\"Dish\",\"fieldName\":\"_id\",\"returnType\":\"MongoID!\",\"startOffset\":16000794,\"duration\":10682},{\"path\":[\"dishMany\",33,\"average_rating\"],\"parentType\":\"Dish\",\"fieldName\":\"average_rating\",\"returnType\":\"Float\",\"startOffset\":16028881,\"duration\":15557},{\"path\":[\"dishMany\",33,\"_id\"],\"parentType\":\"Dish\",\"fieldName\":\"_id\",\"returnType\":\"MongoID!\",\"startOffset\":16050152,\"duration\":14076},{\"path\":[\"dishMany\",34,\"average_rating\"],\"parentType\":\"Dish\",\"fieldName\":\"average_rating\",\"returnType\":\"Float\",\"startOffset\":16078579,\"duration\":14821},{\"path\":[\"dishMany\",34,\"_id\"],\"parentType\":\"Dish\",\"fieldName\":\"_id\",\"returnType\":\"MongoID!\",\"startOffset\":16102880,\"duration\":11759},{\"path\":[\"dishMany\",35,\"average_rating\"],\"parentType\":\"Dish\",\"fieldName\":\"average_rating\",\"returnType\":\"Float\",\"startOffset\":16127799,\"duration\":18385},{\"path\":[\"dishMany\",35,\"_id\"],\"parentType\":\"Dish\",\"fieldName\":\"_id\",\"returnType\":\"MongoID!\",\"startOffset\":16152476,\"duration\":11025},{\"path\":[\"dishMany\",36,\"average_rating\"],\"parentType\":\"Dish\",\"fieldName\":\"average_rating\",\"returnType\":\"Float\",\"startOffset\":16176418,\"duration\":21169},{\"path\":[\"dishMany\",36,\"_id\"],\"parentType\":\"Dish\",\"fieldName\":\"_id\",\"returnType\":\"MongoID!\",\"startOffset\":16203748,\"duration\":10586},{\"path\":[\"dishMany\",37,\"average_rating\"],\"parentType\":\"Dish\",\"fieldName\":\"average_rating\",\"returnType\":\"Float\",\"startOffset\":16231541,\"duration\":15549},{\"path\":[\"dishMany\",37,\"_id\"],\"parentType\":\"Dish\",\"fieldName\":\"_id\",\"returnType\":\"MongoID!\",\"startOffset\":16253163,\"duration\":14405},{\"path\":[\"dishMany\",38,\"average_rating\"],\"parentType\":\"Dish\",\"fieldName\":\"average_rating\",\"returnType\":\"Float\",\"startOffset\":16281671,\"duration\":15053},{\"path\":[\"dishMany\",38,\"_id\"],\"parentType\":\"Dish\",\"fieldName\":\"_id\",\"returnType\":\"MongoID!\",\"startOffset\":16306470,\"duration\":11810},{\"path\":[\"dishMany\",39,\"average_rating\"],\"parentType\":\"Dish\",\"fieldName\":\"average_rating\",\"returnType\":\"Float\",\"startOffset\":16332021,\"duration\":18400},{\"path\":[\"dishMany\",39,\"_id\"],\"parentType\":\"Dish\",\"fieldName\":\"_id\",\"returnType\":\"MongoID!\",\"startOffset\":16356439,\"duration\":11451},{\"path\":[\"dishMany\",40,\"average_rating\"],\"parentType\":\"Dish\",\"fieldName\":\"average_rating\",\"returnType\":\"Float\",\"startOffset\":16381108,\"duration\":19221},{\"path\":[\"dishMany\",40,\"_id\"],\"parentType\":\"Dish\",\"fieldName\":\"_id\",\"returnType\":\"MongoID!\",\"startOffset\":16406446,\"duration\":42729},{\"path\":[\"dishMany\",41,\"average_rating\"],\"parentType\":\"Dish\",\"fieldName\":\"average_rating\",\"returnType\":\"Float\",\"startOffset\":16467320,\"duration\":16759},{\"path\":[\"dishMany\",41,\"_id\"],\"parentType\":\"Dish\",\"fieldName\":\"_id\",\"returnType\":\"MongoID!\",\"startOffset\":16494758,\"duration\":11844},{\"path\":[\"dishMany\",42,\"average_rating\"],\"parentType\":\"Dish\",\"fieldName\":\"average_rating\",\"returnType\":\"Float\",\"startOffset\":16520231,\"duration\":22217},{\"path\":[\"dishMany\",42,\"_id\"],\"parentType\":\"Dish\",\"fieldName\":\"_id\",\"returnType\":\"MongoID!\",\"startOffset\":16548542,\"duration\":11269},{\"path\":[\"dishMany\",43,\"average_rating\"],\"parentType\":\"Dish\",\"fieldName\":\"average_rating\",\"returnType\":\"Float\",\"startOffset\":16576936,\"duration\":27308},{\"path\":[\"dishMany\",43,\"_id\"],\"parentType\":\"Dish\",\"fieldName\":\"_id\",\"returnType\":\"MongoID!\",\"startOffset\":16610809,\"duration\":52781},{\"path\":[\"dishMany\",44,\"average_rating\"],\"parentType\":\"Dish\",\"fieldName\":\"average_rating\",\"returnType\":\"Float\",\"startOffset\":16695838,\"duration\":20932},{\"path\":[\"dishMany\",44,\"_id\"],\"parentType\":\"Dish\",\"fieldName\":\"_id\",\"returnType\":\"MongoID!\",\"startOffset\":16722986,\"duration\":21690},{\"path\":[\"dishMany\",45,\"average_rating\"],\"parentType\":\"Dish\",\"fieldName\":\"average_rating\",\"returnType\":\"Float\",\"startOffset\":16761063,\"duration\":18338},{\"path\":[\"dishMany\",45,\"_id\"],\"parentType\":\"Dish\",\"fieldName\":\"_id\",\"returnType\":\"MongoID!\",\"startOffset\":16791552,\"duration\":13080},{\"path\":[\"dishMany\",46,\"average_rating\"],\"parentType\":\"Dish\",\"fieldName\":\"average_rating\",\"returnType\":\"Float\",\"startOffset\":16819282,\"duration\":18900},{\"path\":[\"dishMany\",46,\"_id\"],\"parentType\":\"Dish\",\"fieldName\":\"_id\",\"returnType\":\"MongoID!\",\"startOffset\":16844322,\"duration\":11267},{\"path\":[\"dishMany\",47,\"average_rating\"],\"parentType\":\"Dish\",\"fieldName\":\"average_rating\",\"returnType\":\"Float\",\"startOffset\":16874228,\"duration\":15781},{\"path\":[\"dishMany\",47,\"_id\"],\"parentType\":\"Dish\",\"fieldName\":\"_id\",\"returnType\":\"MongoID!\",\"startOffset\":16895949,\"duration\":10493},{\"path\":[\"dishMany\",48,\"average_rating\"],\"parentType\":\"Dish\",\"fieldName\":\"average_rating\",\"returnType\":\"Float\",\"startOffset\":16924051,\"duration\":15021},{\"path\":[\"dishMany\",48,\"_id\"],\"parentType\":\"Dish\",\"fieldName\":\"_id\",\"returnType\":\"MongoID!\",\"startOffset\":16945002,\"duration\":15333},{\"path\":[\"dishMany\",49,\"average_rating\"],\"parentType\":\"Dish\",\"fieldName\":\"average_rating\",\"returnType\":\"Float\",\"startOffset\":16973597,\"duration\":14230},{\"path\":[\"dishMany\",49,\"_id\"],\"parentType\":\"Dish\",\"fieldName\":\"_id\",\"returnType\":\"MongoID!\",\"startOffset\":16997944,\"duration\":11292}]}}}}\n",
      "\n"
     ]
    }
   ],
   "source": [
    "url = 'https://palette-backend.herokuapp.com/graphql'\n",
    "r = requests.post(url, json={'query': popular_dish_query})\n",
    "print(r.status_code)\n",
    "print(r.text)"
   ]
  },
  {
   "cell_type": "code",
   "execution_count": 42,
   "metadata": {},
   "outputs": [],
   "source": [
    "json_data = json.loads(r.text)\n",
    "df = json_data['data']['dishMany']"
   ]
  },
  {
   "cell_type": "code",
   "execution_count": 43,
   "metadata": {},
   "outputs": [
    {
     "name": "stdout",
     "output_type": "stream",
     "text": [
      "[{'average_rating': 3.3, '_id': '603ab53b88dbe9c89607dfae'}, {'average_rating': 1.1, '_id': '603ab53b88dbe9c89607dfc4'}, {'average_rating': 2.5, '_id': '603ab53b88dbe9c89607dfa7'}, {'average_rating': 1.3, '_id': '603ab53b88dbe9c89607dfab'}, {'average_rating': 5, '_id': '603ab53b88dbe9c89607dfac'}, {'average_rating': 5, '_id': '603ab53b88dbe9c89607dfb1'}, {'average_rating': 1.8, '_id': '603ab53b88dbe9c89607dfb4'}, {'average_rating': 4.1, '_id': '603ab53b88dbe9c89607dfba'}, {'average_rating': 2, '_id': '603ab53b88dbe9c89607dfc6'}, {'average_rating': 3.9, '_id': '603ab53b88dbe9c89607dfcf'}, {'average_rating': 2.9, '_id': '603ab53b88dbe9c89607dfc0'}, {'average_rating': 3.1, '_id': '603ab53b88dbe9c89607dfc7'}, {'average_rating': 3.1, '_id': '603ab53b88dbe9c89607dfcb'}, {'average_rating': 4.8, '_id': '603ab53b88dbe9c89607dfd8'}, {'average_rating': 4, '_id': '603ab53b88dbe9c89607dfaa'}, {'average_rating': 5, '_id': '603ab53b88dbe9c89607dfaf'}, {'average_rating': 2.1, '_id': '603ab53b88dbe9c89607dfad'}, {'average_rating': 1.6, '_id': '603ab53b88dbe9c89607dfc3'}, {'average_rating': 3.5, '_id': '603ab53b88dbe9c89607dfd2'}, {'average_rating': 2.1, '_id': '603ab53b88dbe9c89607dfd4'}, {'average_rating': 3.4, '_id': '603ab53b88dbe9c89607dfd0'}, {'average_rating': 1.5, '_id': '603ab53b88dbe9c89607dfbe'}, {'average_rating': 4.1, '_id': '603ab53b88dbe9c89607dfb2'}, {'average_rating': 1.5, '_id': '603ab53b88dbe9c89607dfa9'}, {'average_rating': 4.2, '_id': '603ab53b88dbe9c89607dfd6'}, {'average_rating': 3.7, '_id': '603ab53b88dbe9c89607dfbd'}, {'average_rating': 4.5, '_id': '603ab53b88dbe9c89607dfcd'}, {'average_rating': 1.1, '_id': '603ab53b88dbe9c89607dfd5'}, {'average_rating': 3.3, '_id': '603ab53b88dbe9c89607dfd7'}, {'average_rating': 1.3, '_id': '603ab53b88dbe9c89607dfc5'}, {'average_rating': 5, '_id': '603ab53b88dbe9c89607dfd3'}, {'average_rating': 1.2, '_id': '603ab53b88dbe9c89607dfca'}, {'average_rating': 5, '_id': '603ab53b88dbe9c89607dfa8'}, {'average_rating': 4.2, '_id': '603ab53b88dbe9c89607dfbb'}, {'average_rating': 1.1, '_id': '603ab53b88dbe9c89607dfb6'}, {'average_rating': 4.9, '_id': '603ab53b88dbe9c89607dfc2'}, {'average_rating': 3.7, '_id': '603ab53b88dbe9c89607dfbf'}, {'average_rating': 1.8, '_id': '603ab53b88dbe9c89607dfc1'}, {'average_rating': 4.5, '_id': '603ab53b88dbe9c89607dfc9'}, {'average_rating': 1.5, '_id': '603ab53b88dbe9c89607dfb7'}, {'average_rating': 4.7, '_id': '603ab53b88dbe9c89607dfb8'}, {'average_rating': 2.2, '_id': '603ab53b88dbe9c89607dfce'}, {'average_rating': 1, '_id': '603ab53b88dbe9c89607dfd1'}, {'average_rating': 4.5, '_id': '603ab53b88dbe9c89607dfbc'}, {'average_rating': 2.8, '_id': '603ab53b88dbe9c89607dfc8'}, {'average_rating': 4.5, '_id': '603ab53b88dbe9c89607dfcc'}, {'average_rating': 2.3, '_id': '603ab53b88dbe9c89607dfb0'}, {'average_rating': 1.2, '_id': '603ab53b88dbe9c89607dfb3'}, {'average_rating': 1.2, '_id': '603ab53b88dbe9c89607dfb5'}, {'average_rating': 4.6, '_id': '603ab53b88dbe9c89607dfb9'}]\n"
     ]
    }
   ],
   "source": [
    "print(df)"
   ]
  },
  {
   "cell_type": "code",
   "execution_count": 48,
   "metadata": {},
   "outputs": [],
   "source": [
    "def extract_average(json):\n",
    "    try:\n",
    "        # Also convert to int since update_time will be string.  When comparing\n",
    "        # strings, \"10\" is smaller than \"2\".\n",
    "        return int(json['average_rating'])\n",
    "    except KeyError:\n",
    "        return 0\n",
    "\n",
    "df.sort(key=extract_average, reverse=True)"
   ]
  },
  {
   "cell_type": "code",
   "execution_count": 56,
   "metadata": {},
   "outputs": [
    {
     "name": "stdout",
     "output_type": "stream",
     "text": [
      "[{'average_rating': 5, '_id': '603ab53b88dbe9c89607dfac'}, {'average_rating': 5, '_id': '603ab53b88dbe9c89607dfb1'}, {'average_rating': 5, '_id': '603ab53b88dbe9c89607dfaf'}, {'average_rating': 5, '_id': '603ab53b88dbe9c89607dfd3'}, {'average_rating': 5, '_id': '603ab53b88dbe9c89607dfa8'}, {'average_rating': 4.1, '_id': '603ab53b88dbe9c89607dfba'}, {'average_rating': 4.8, '_id': '603ab53b88dbe9c89607dfd8'}, {'average_rating': 4, '_id': '603ab53b88dbe9c89607dfaa'}, {'average_rating': 4.1, '_id': '603ab53b88dbe9c89607dfb2'}, {'average_rating': 4.2, '_id': '603ab53b88dbe9c89607dfd6'}, {'average_rating': 4.5, '_id': '603ab53b88dbe9c89607dfcd'}, {'average_rating': 4.2, '_id': '603ab53b88dbe9c89607dfbb'}, {'average_rating': 4.9, '_id': '603ab53b88dbe9c89607dfc2'}, {'average_rating': 4.5, '_id': '603ab53b88dbe9c89607dfc9'}, {'average_rating': 4.7, '_id': '603ab53b88dbe9c89607dfb8'}, {'average_rating': 4.5, '_id': '603ab53b88dbe9c89607dfbc'}, {'average_rating': 4.5, '_id': '603ab53b88dbe9c89607dfcc'}, {'average_rating': 4.6, '_id': '603ab53b88dbe9c89607dfb9'}, {'average_rating': 3.3, '_id': '603ab53b88dbe9c89607dfae'}, {'average_rating': 3.9, '_id': '603ab53b88dbe9c89607dfcf'}, {'average_rating': 3.1, '_id': '603ab53b88dbe9c89607dfc7'}, {'average_rating': 3.1, '_id': '603ab53b88dbe9c89607dfcb'}, {'average_rating': 3.5, '_id': '603ab53b88dbe9c89607dfd2'}, {'average_rating': 3.4, '_id': '603ab53b88dbe9c89607dfd0'}, {'average_rating': 3.7, '_id': '603ab53b88dbe9c89607dfbd'}, {'average_rating': 3.3, '_id': '603ab53b88dbe9c89607dfd7'}, {'average_rating': 3.7, '_id': '603ab53b88dbe9c89607dfbf'}, {'average_rating': 2.5, '_id': '603ab53b88dbe9c89607dfa7'}, {'average_rating': 2, '_id': '603ab53b88dbe9c89607dfc6'}, {'average_rating': 2.9, '_id': '603ab53b88dbe9c89607dfc0'}, {'average_rating': 2.1, '_id': '603ab53b88dbe9c89607dfad'}, {'average_rating': 2.1, '_id': '603ab53b88dbe9c89607dfd4'}, {'average_rating': 2.2, '_id': '603ab53b88dbe9c89607dfce'}, {'average_rating': 2.8, '_id': '603ab53b88dbe9c89607dfc8'}, {'average_rating': 2.3, '_id': '603ab53b88dbe9c89607dfb0'}, {'average_rating': 1.1, '_id': '603ab53b88dbe9c89607dfc4'}, {'average_rating': 1.3, '_id': '603ab53b88dbe9c89607dfab'}, {'average_rating': 1.8, '_id': '603ab53b88dbe9c89607dfb4'}, {'average_rating': 1.6, '_id': '603ab53b88dbe9c89607dfc3'}, {'average_rating': 1.5, '_id': '603ab53b88dbe9c89607dfbe'}, {'average_rating': 1.5, '_id': '603ab53b88dbe9c89607dfa9'}, {'average_rating': 1.1, '_id': '603ab53b88dbe9c89607dfd5'}, {'average_rating': 1.3, '_id': '603ab53b88dbe9c89607dfc5'}, {'average_rating': 1.2, '_id': '603ab53b88dbe9c89607dfca'}, {'average_rating': 1.1, '_id': '603ab53b88dbe9c89607dfb6'}, {'average_rating': 1.8, '_id': '603ab53b88dbe9c89607dfc1'}, {'average_rating': 1.5, '_id': '603ab53b88dbe9c89607dfb7'}, {'average_rating': 1, '_id': '603ab53b88dbe9c89607dfd1'}, {'average_rating': 1.2, '_id': '603ab53b88dbe9c89607dfb3'}, {'average_rating': 1.2, '_id': '603ab53b88dbe9c89607dfb5'}]\n"
     ]
    }
   ],
   "source": [
    "print(df)\n",
    "df = df[0:9]"
   ]
  },
  {
   "cell_type": "code",
   "execution_count": 57,
   "metadata": {},
   "outputs": [
    {
     "name": "stdout",
     "output_type": "stream",
     "text": [
      "[{'average_rating': 5, '_id': '603ab53b88dbe9c89607dfac'}, {'average_rating': 5, '_id': '603ab53b88dbe9c89607dfb1'}, {'average_rating': 5, '_id': '603ab53b88dbe9c89607dfaf'}, {'average_rating': 5, '_id': '603ab53b88dbe9c89607dfd3'}, {'average_rating': 5, '_id': '603ab53b88dbe9c89607dfa8'}, {'average_rating': 4.1, '_id': '603ab53b88dbe9c89607dfba'}, {'average_rating': 4.8, '_id': '603ab53b88dbe9c89607dfd8'}, {'average_rating': 4, '_id': '603ab53b88dbe9c89607dfaa'}, {'average_rating': 4.1, '_id': '603ab53b88dbe9c89607dfb2'}]\n"
     ]
    }
   ],
   "source": [
    "print(ret)"
   ]
  },
  {
   "cell_type": "code",
   "execution_count": 58,
   "metadata": {},
   "outputs": [
    {
     "name": "stdout",
     "output_type": "stream",
     "text": [
      "['603ab53b88dbe9c89607dfac', '603ab53b88dbe9c89607dfb1', '603ab53b88dbe9c89607dfaf', '603ab53b88dbe9c89607dfd3', '603ab53b88dbe9c89607dfa8', '603ab53b88dbe9c89607dfba', '603ab53b88dbe9c89607dfd8', '603ab53b88dbe9c89607dfaa', '603ab53b88dbe9c89607dfb2']\n"
     ]
    }
   ],
   "source": [
    "rec_list = []\n",
    "for rec in df:\n",
    "    rec_list.append(rec['_id'])\n",
    "\n",
    "print(rec_list)"
   ]
  },
  {
   "cell_type": "code",
   "execution_count": null,
   "metadata": {},
   "outputs": [],
   "source": []
  }
 ],
 "metadata": {
  "kernelspec": {
   "display_name": "Python 3",
   "language": "python",
   "name": "python3"
  },
  "language_info": {
   "codemirror_mode": {
    "name": "ipython",
    "version": 3
   },
   "file_extension": ".py",
   "mimetype": "text/x-python",
   "name": "python",
   "nbconvert_exporter": "python",
   "pygments_lexer": "ipython3",
   "version": "3.8.5"
  }
 },
 "nbformat": 4,
 "nbformat_minor": 4
}
